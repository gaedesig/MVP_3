{
  "nbformat": 4,
  "nbformat_minor": 0,
  "metadata": {
    "colab": {
      "provenance": []
    },
    "kernelspec": {
      "name": "python3",
      "display_name": "Python 3"
    },
    "language_info": {
      "name": "python"
    }
  },
  "cells": [
    {
      "cell_type": "markdown",
      "source": [
        "\n",
        "\n",
        "---\n",
        "\n"
      ],
      "metadata": {
        "id": "nhGMdUUleC7b"
      }
    },
    {
      "cell_type": "markdown",
      "source": [
        "# MVP Análise de Dados e Boas Práticas\n",
        "\n",
        "**Nome:** Gaetano Signorini\n",
        "\n",
        "**Matrícula:** 4052024001993\n",
        "\n",
        "**Dataset:** [Personality Dataset](https://raw.githubusercontent.com/gaedesig/MVP_3/refs/heads/main/personality_dataset.csv)\n",
        "\n",
        " **------**"
      ],
      "metadata": {
        "id": "cmYX3PLx58Jg"
      }
    },
    {
      "cell_type": "markdown",
      "source": [
        "# Descrição do Problema\n",
        "\n"
      ],
      "metadata": {
        "id": "YW_JS-EEBFaR"
      }
    },
    {
      "cell_type": "markdown",
      "source": [
        "O conjunto de dados personality, de traços de personalidade extrovertidos vs. Introvertidos, é uma coleção de dados comportamentais e sociais que captura indicadores-chave de extroversão e introversão.\n",
        "Este conjunto de dados contém 2.900 entradas com 7 características relacionadas ao comportamento social e traços de personalidade, projetado para explorar e classificar indivíduos como extrovertidos ou introvertidos.\n",
        "O conjunto de dados fornece insights sobre comportamentos como tempo gasto sozinho, participação em eventos sociais e engajamento em mídias sociais.\n"
      ],
      "metadata": {
        "id": "Y4RD8xopejUa"
      }
    },
    {
      "cell_type": "markdown",
      "source": [
        "## Hipóteses do Problema\n",
        "\n",
        "*  **1 -**  Das sete características listadas, qual ou quais mais influenciariam na definição do tipo de personalidade?\n",
        "\n",
        "*  **2 -** O receio em se expor em público é determinante nessa classificação?\n",
        "*  **3 -** Uma pessoa mais ativa nas redes sociais, tende mais a ser extrovertida?\n",
        "\n",
        "\n",
        "*  **4 -**  A intensidade de  relação social na vida real, fora das redes, ainda pesa bastante na classificação?\n",
        "\n",
        "\n"
      ],
      "metadata": {
        "id": "Gm6mOo5PBYwr"
      }
    },
    {
      "cell_type": "markdown",
      "source": [
        "## Tipo de Problema\n",
        "\n",
        "Com características comportamentais como, frequência de participação em eventos sociais, tempo gasto sozinho, postura em redes sociais entre outras, trata-se de um problema de classificação supervisionada, que busca definir o tipo de personalidade (Introvertido ou extrovertido), baseado nos valores desses atributos."
      ],
      "metadata": {
        "id": "x1zNNZt6BfdF"
      }
    },
    {
      "cell_type": "markdown",
      "source": [
        "## Seleção de Dados\n",
        "**Dataset Personality**\n",
        "\n",
        "O dataset personality foi extraído do ambiente Kaggle. Contém valores nulos, atributos numéricos e categóricos e classe-alvo (personalidade) balanceada."
      ],
      "metadata": {
        "id": "N91bTLbiBxrm"
      }
    },
    {
      "cell_type": "markdown",
      "source": [
        "## Atributos do Dataset\n",
        "\n",
        "\n",
        "possui sete atributos e uma variável alvo:\n",
        "\n",
        "- **time_spent_alone:** número de horas que um indivíduo normalmente passa sozinho diariamente.\n",
        "- **stage_fear:** se sente muito desconforto em se expor/falar perante público.\n",
        "- **social_event_attendance:** frequência de participação em eventos sociais.\n",
        "- **going_outside:** Com que frequência o indivíduo sai de casa.\n",
        "- **drained_after_socializing:** se o indivíduo se sente esgotado após socializar.\n",
        "- **friends_circle_size:** número de amigos próximos.\n",
        "- **post_frequency:** frequência de postagens em redes sociais.\n",
        "- **personality:** variável-alvo, (Introvertido, Extrovertido)."
      ],
      "metadata": {
        "id": "FC6QJHhWBnzH"
      }
    },
    {
      "cell_type": "markdown",
      "source": [
        "\n",
        "\n",
        "---\n",
        "\n",
        "\n",
        "---\n",
        "\n",
        "\n",
        "\n"
      ],
      "metadata": {
        "id": "uqy4f6lgi6nE"
      }
    },
    {
      "cell_type": "markdown",
      "source": [
        "# Importação das Bibliotecas Necessárias e Carga de Dados\n",
        "\n",
        "Esta seção consolida todas as importações de bibliotecas necessárias para a análise, visualização e pré-processamento dos dados, bem como o carregamento inicial do dataset Personality."
      ],
      "metadata": {
        "id": "DObGnkf0bJBh"
      }
    },
    {
      "cell_type": "code",
      "source": [
        "# Carregamento de bibliotecas necessárias\n",
        "import pandas as pd\n",
        "import numpy as np\n",
        "import matplotlib.pyplot as plt\n",
        "import seaborn as sns\n",
        "from sklearn.model_selection import train_test_split\n",
        "from sklearn.preprocessing import StandardScaler\n",
        "from sklearn.preprocessing import LabelEncoder\n",
        "from sklearn.linear_model import LogisticRegression\n",
        "from sklearn.metrics import accuracy_score\n",
        "from sklearn.compose import ColumnTransformer\n",
        "from scipy.stats import chi2_contingency\n",
        "\n",
        "import warnings\n",
        "warnings.filterwarnings('ignore')\n"
      ],
      "metadata": {
        "id": "tCohWn2jbkDB"
      },
      "execution_count": null,
      "outputs": []
    },
    {
      "cell_type": "code",
      "source": [
        "# carregamento do dataset armazenado no github\n",
        "data_set = 'https://raw.githubusercontent.com/gaedesig/MVP_3/refs/heads/main/personality_dataset.csv'"
      ],
      "metadata": {
        "id": "BIokzI3xb8_t"
      },
      "execution_count": null,
      "outputs": []
    },
    {
      "cell_type": "code",
      "source": [
        "# guardando o dataset em um dataframe - df_personality\n",
        "df_personality = pd.read_csv(data_set)"
      ],
      "metadata": {
        "id": "RCPbhofsE59F"
      },
      "execution_count": null,
      "outputs": []
    },
    {
      "cell_type": "code",
      "source": [
        "# Exibindo primeiras linhas do dataframe\n",
        "df_personality.head()"
      ],
      "metadata": {
        "id": "P1K8mzorgKvm"
      },
      "execution_count": null,
      "outputs": []
    },
    {
      "cell_type": "markdown",
      "source": [
        "# Análise de Dados\n",
        "\n",
        "Na etapa de análise de dados exploratória (EDA), vamos uma buscar uma visão geral do dataset personality e tentar entender padrões, correlações e características das variáveis ou qualquer observação decorrente dessa própria análise."
      ],
      "metadata": {
        "id": "XcHpQ9s_B4n1"
      }
    },
    {
      "cell_type": "markdown",
      "source": [
        "\n",
        "\n",
        "---\n",
        "\n"
      ],
      "metadata": {
        "id": "o9dsIB4TqX7r"
      }
    },
    {
      "cell_type": "markdown",
      "source": [
        "Para agilizar o raciocínio, vou traduzir o nome das colunas para português."
      ],
      "metadata": {
        "id": "9m8SvRrsqc27"
      }
    },
    {
      "cell_type": "code",
      "source": [
        "# Exibindo nomes atuais das colunas no dataframe df_personality\n",
        "df_personality.columns"
      ],
      "metadata": {
        "id": "TGRfnrP22-BG"
      },
      "execution_count": null,
      "outputs": []
    },
    {
      "cell_type": "code",
      "source": [
        "# Criando um dataframe df_personalidade renomeando as colunas traduzidas\n",
        "df_personalidade = df_personality.rename(columns={\n",
        "    'Time_spent_Alone': 'tempo_sozinho',\n",
        "    'Stage_fear': 'medo_em_publico',\n",
        "    'Social_event_attendance': 'presenca_eventos_sociais',\n",
        "    'Going_outside': 'eventos_externos',\n",
        "    'Drained_after_socializing': 'esgotado_apos_socializar',\n",
        "    'Friends_circle_size': 'circulo_de_amigos',\n",
        "    'Post_frequency': 'frequencia_de_postagens',\n",
        "    'Personality': 'personalidade'\n",
        "})"
      ],
      "metadata": {
        "id": "n2pcgfxA1VYb"
      },
      "execution_count": null,
      "outputs": []
    },
    {
      "cell_type": "code",
      "source": [
        "# Exibindo primeiras linhas do novo dataframe\n",
        "df_personalidade.head()"
      ],
      "metadata": {
        "id": "iDxI9KVlroId"
      },
      "execution_count": null,
      "outputs": []
    },
    {
      "cell_type": "markdown",
      "source": [
        "## Total e Tipo das Instâncias\n",
        "\n"
      ],
      "metadata": {
        "id": "5kuan1F5EA8J"
      }
    },
    {
      "cell_type": "code",
      "source": [
        "df_personalidade.info()"
      ],
      "metadata": {
        "id": "3HB_V7uZykG4"
      },
      "execution_count": null,
      "outputs": []
    },
    {
      "cell_type": "markdown",
      "source": [
        "O dataset personality possui 2900 instâncias, definidas pelos atributos numéricos ( tempo_sozinho, presenca_eventos_sociais,  eventos_externos, circulo_de_amigos e frequencia_de_postagens)  e categóricos (medo_em_publico, esgotado_apos_socializar e personalidade ).\n",
        "\n",
        "\n",
        "\n",
        "---\n",
        "\n"
      ],
      "metadata": {
        "id": "RIKIbdyd2vjd"
      }
    },
    {
      "cell_type": "code",
      "source": [
        "# Analisando balanceamento da classe personalidade\n",
        "df_personalidade['personalidade'].value_counts().plot(kind='bar')\n",
        "plt.title('Gráfico 1 - Distribuição de Personalidade')\n",
        "plt.xlabel('Tipo de personalidade')\n",
        "plt.ylabel('Contagem')\n",
        "plt.show()\n",
        "\n",
        "df_personalidade['personalidade'].value_counts()"
      ],
      "metadata": {
        "id": "NKhNZJSYHUQu"
      },
      "execution_count": null,
      "outputs": []
    },
    {
      "cell_type": "markdown",
      "source": [
        "O **Gráfico 1** mostra a distribuição balanceada com aproximadamente 50% de registros para cada uma das duas classificações (introverted, extroverted)   sendo 1491 classificados com extroverted e 1409, como introverted.\n",
        "\n",
        "\n",
        "\n",
        "---\n"
      ],
      "metadata": {
        "id": "5VVAMJ3MHKVe"
      }
    },
    {
      "cell_type": "markdown",
      "source": [
        "## Estatísticas Descritivas\n",
        "\n"
      ],
      "metadata": {
        "id": "M-bS4g_ECPoP"
      }
    },
    {
      "cell_type": "code",
      "source": [
        "# estatísticas descritivas básicas do dataset\n",
        "df_personalidade.describe()"
      ],
      "metadata": {
        "id": "fTCOuOolC_rG"
      },
      "execution_count": null,
      "outputs": []
    },
    {
      "cell_type": "code",
      "source": [
        "# estatísticas de todas variáveis, inclusive categóricas.\n",
        "df_personalidade.describe(include='all')"
      ],
      "metadata": {
        "id": "n9BOaL6C_4Cc"
      },
      "execution_count": null,
      "outputs": []
    },
    {
      "cell_type": "markdown",
      "source": [
        "# Análise variáveis numéricas"
      ],
      "metadata": {
        "id": "_S2KZku_hePG"
      }
    },
    {
      "cell_type": "markdown",
      "source": [
        "\n",
        "\n",
        "---\n",
        "\n",
        "\n",
        "### Média\n"
      ],
      "metadata": {
        "id": "sWPH7rj8Ck6v"
      }
    },
    {
      "cell_type": "code",
      "source": [
        "# média dos atributos numéricos do dataset\n",
        "df_personalidade.describe().loc['mean']"
      ],
      "metadata": {
        "id": "vm3QIAb-CZbt"
      },
      "execution_count": null,
      "outputs": []
    },
    {
      "cell_type": "markdown",
      "source": [
        "\n",
        "\n",
        "---\n",
        "\n",
        "\n",
        "\n",
        "## Mediana"
      ],
      "metadata": {
        "id": "FuSkGhJ6Zo5S"
      }
    },
    {
      "cell_type": "code",
      "source": [
        "# mediana dos atributos numéricos do dataset\n",
        "df_personalidade.describe().loc['50%']"
      ],
      "metadata": {
        "id": "ne-ETnt_ZzCl"
      },
      "execution_count": null,
      "outputs": []
    },
    {
      "cell_type": "markdown",
      "source": [
        "## Comparação entre médias e medianas dos valores numéricos\n",
        "\n",
        "Gerando um gráfico que mostre a média, mediana e amplitude de valores (range) das variáveis numéricas (tempo_sozinho, horas_de_estudo_semana, gasto_medio_lazer_mensal, etc.). Comparar a média e a mediana  permitirá identificar se a distribuição de uma variável é simétrica ou assimétrica.\n",
        "\n",
        "Além disso, determinar a amplitude de valores (range), que abrange desde o valor mínimo ao valor máximo de cada variável. Isso me permitirá entender a dispersão total dos dados, revelando a extensão completa dos valores da variável, se possuem grande variabilidade ou se os dados estão mais concentrados.\n",
        "\n",
        "\n",
        "\n",
        "---\n",
        "\n"
      ],
      "metadata": {
        "id": "JRjA0iboLurG"
      }
    },
    {
      "cell_type": "code",
      "source": [
        "# Calculando a média, a mediana e a amplitude (máximo - mínimo) para cada coluna numérica\n",
        "numeric_stats = df_personalidade.describe().loc[['mean', '50%', 'min', 'max']]\n",
        "numeric_stats.loc['amplitude'] = numeric_stats.loc['max'] - numeric_stats.loc['min']\n",
        "numeric_stats = numeric_stats.rename(index={'50%': 'median'}) # Renomeia '50%' para 'median'\n",
        "\n",
        "# Selecionando apenas as colunas numéricas para o gráfico\n",
        "numeric_stats = numeric_stats[df_personalidade.select_dtypes(include=np.number).columns]\n",
        "\n",
        "# Criando o gráfico de barras\n",
        "fig, ax = plt.subplots(figsize=(9, 6))\n",
        "\n",
        "# Largura das barras\n",
        "bar_width = 0.25\n",
        "\n",
        "# Posições das barras no eixo x\n",
        "indices = np.arange(len(numeric_stats.columns))\n",
        "\n",
        "# Barras da amplitude\n",
        "rects1 = ax.bar(indices - bar_width, numeric_stats.loc['amplitude'], bar_width,\n",
        "                label='Amplitude (Max - Min)', color='skyblue')\n",
        "\n",
        "# Barras da média\n",
        "rects2 = ax.bar(indices, numeric_stats.loc['mean'], bar_width,\n",
        "                label='Média', color='lightcoral')\n",
        "\n",
        "# Barras da mediana\n",
        "rects3 = ax.bar(indices + bar_width, numeric_stats.loc['median'], bar_width,\n",
        "                label='Mediana', color='lightgreen')\n",
        "\n",
        "# Adicionando rótulos, título e legendas\n",
        "ax.set_xlabel('Atributos Numéricos')\n",
        "ax.set_ylabel('Valores')\n",
        "ax.set_title('Gráfico 2 - Média, Mediana e Amplitude dos Atributos Numéricos')\n",
        "ax.set_xticks(indices)\n",
        "ax.set_xticklabels(numeric_stats.columns, rotation=45, ha=\"right\")\n",
        "ax.legend()\n",
        "\n",
        "# Função para adicionar rótulos nas barras\n",
        "def autolabel(rects):\n",
        "    for rect in rects:\n",
        "        height = rect.get_height()\n",
        "        ax.annotate('{}'.format(round(height, 2)),\n",
        "                    xy=(rect.get_x() + rect.get_width() / 2, height),\n",
        "                    xytext=(0, 3),  # 3 points vertical offset\n",
        "                    textcoords=\"offset points\",\n",
        "                    ha='center', va='bottom')\n",
        "\n",
        "# Adicionando os rótulos de valor nas barras\n",
        "autolabel(rects1)\n",
        "autolabel(rects2)\n",
        "autolabel(rects3)\n",
        "\n",
        "# Layout ajustado para evitar sobreposição dos rótulos\n",
        "plt.tight_layout()\n",
        "plt.show()"
      ],
      "metadata": {
        "id": "RIB7H8GyaD9W"
      },
      "execution_count": null,
      "outputs": []
    },
    {
      "cell_type": "markdown",
      "source": [
        "O **Gráfico 2** mostra:\n",
        "\n",
        "Para **tempo_sozinho**, a média (4.51) e a mediana (4.0) são próximas, indicando uma distribuição razoavelmente simétrica. A amplitude de 11.0 sugere uma boa variação nos dados de \"tempo sozinho\", indicando que as pessoas têm quantidades bem diferentes de tempo sozinhas.\n",
        "\n",
        "Para **presenca_eventos_sociais**, a média (3.96) e a mediana (3.00) mostram uma pequena diferença, com a média um pouco maior, o que pode indicar uma leve assimetria à direita (cauda para valores mais altos). A amplitude de 10.0 também indica uma boa variabilidade na \"presença em eventos sociais\".\n",
        "\n",
        "Para **eventos_externos**, a média (3.00) e a mediana (3.00) são idênticas, sugerindo uma distribuição simétrica. A amplitude de 7.0 mostra uma variação razoável.\n",
        "\n",
        "Para **circulo_de_amigos**, a média (6.27) é maior que a mediana (5.00), indicando assimetria à direita. Há pessoas com círculos de amigos maiores que puxam a média para cima. Esta variável tem a maior amplitude (15.0) entre todas, indicando a maior variabilidade no tamanho do \"círculo de amigos\". Há pessoas com círculos de amigos muito pequenos e outras com círculos muito grandes.\n",
        "\n",
        "Para **frequencia_de_postagens**, a média (3.56) e a mediana (3.00) também mostram uma assimetria à direita. A amplitude de 10.0 indica uma boa variação na \"frequência de postagens\".\n",
        "\n",
        "\n",
        "\n",
        "---\n",
        "\n"
      ],
      "metadata": {
        "id": "hMZXwv_paLk6"
      }
    },
    {
      "cell_type": "markdown",
      "source": [
        "### Desvio Padrão"
      ],
      "metadata": {
        "id": "MHRKK0YmCmUw"
      }
    },
    {
      "cell_type": "code",
      "source": [
        "# desvio padrão dos atributos numéricos do dataset\n",
        "df_personalidade.describe().loc['std']"
      ],
      "metadata": {
        "id": "aBIXqi0fCwSH"
      },
      "execution_count": null,
      "outputs": []
    },
    {
      "cell_type": "code",
      "source": [
        "# Demonstrando a o desvio-padrão dos atributos numéricos em relação à média\n",
        "\n",
        "mean_std_df = df_personalidade.select_dtypes(include=np.number).agg(['mean', 'std']).T\n",
        "\n",
        "plt.figure(figsize=(7, 5))\n",
        "plt.bar(mean_std_df.index, mean_std_df['mean'], yerr=mean_std_df['std'], capsize=5, color='skyblue')\n",
        "plt.title('Gráfico 3 - Média e Desvio Padrão dos Atributos Numéricos')\n",
        "plt.xlabel('Atributos Numéricos')\n",
        "plt.ylabel('Valor')\n",
        "plt.xticks(rotation=45, ha='right')\n",
        "plt.tight_layout()\n",
        "plt.show()"
      ],
      "metadata": {
        "id": "EwyaR3ryTuzk"
      },
      "execution_count": null,
      "outputs": []
    },
    {
      "cell_type": "markdown",
      "source": [
        "O **Gráfico 3** demonstra o desvio-padrão em relação às médias de cada atributo numérico. As barras indicam a média, as linhas verticais em cima de cada barra representam o desvio-padrão.\n",
        "\n",
        "\n",
        "* **tempo_sozinho** - A barra de erro é visivelmente alta. Olhando o gráfico, o topo da linha está perto de 8 e a base perto de 1, indicando um desvio padrão de aproximadamente 3.5. A variável tempo_sozinho tem uma média moderada, mas um desvio padrão considerável. Isso significa que, embora a média seja 4.5, os valores individuais de \"tempo sozinho\" se espalham bastante em torno dessa média. Há uma boa diversidade na quantidade de tempo sozinho entre as pessoas.\n",
        "\n",
        "* **presenca_eventos_sociais** - A barra de erro é também considerável, mas um pouco menor que tempo_sozinho. O topo está perto de 7, base perto de 1, indicando um desvio padrão de aproximadamente 3.0. em uma média similar a tempo_sozinho, mas com um desvio padrão ligeiramente menor. Isso indica que os dados para esta variável estão um pouco mais concentrados em torno da média do que tempo_sozinho, mas ainda com uma boa variabilidade.\n",
        "\n",
        "* **eventos_externos** - Esta variável tem a menor barra de erro, com o topo perto de 5 e a base perto de 1, indicando um desvio padrão de aproximadamente 2.0. Tem a menor média e, mais importante, o menor desvio padrão. Isso significa que os valores para \"eventos externos\" são mais consistentes e menos dispersos em torno da média em comparação com as outras variáveis. As pessoas tendem a ter uma quantidade mais similar de eventos externos.\n",
        "\n",
        "* **circulo_de_amigos** - Esta variável apresenta a maior barra de erro, com o topo perto de 10.5 e a base perto de 2, indicando um desvio padrão de aproximadamente 4.2. possui a maior média e, significativamente, o maior desvio padrão entre todas as variáveis. Isso confirma que há uma enorme variabilidade no tamanho do círculo de amigos das pessoas. Os dados estão muito espalhados, o que pode indicar a presença de muitos valores extremos (pessoas com poucos amigos e pessoas com muitos amigos), tornando a média menos representativa do \"típico\".\n",
        "\n",
        "* **frequencia_de_postagens** - A barra de erro é alta, similar a presenca_eventos_sociais, com o topo perto de 6.5 e a base perto de 0.5, indicando um desvio padrão de aproximadamente 3.0. Tem uma média moderada e um desvio padrão considerável. Isso indica uma boa variabilidade na frequência com que as pessoas fazem postagens, com os valores se espalhando bastante em torno da média."
      ],
      "metadata": {
        "id": "adTs3MvC-y4W"
      }
    },
    {
      "cell_type": "markdown",
      "source": [
        "\n",
        "\n",
        "---\n",
        "\n"
      ],
      "metadata": {
        "id": "T-ZYS_meTGIf"
      }
    },
    {
      "cell_type": "markdown",
      "source": [
        "## Histograma\n",
        "\n",
        "Analisando a distribuição dos valores das variáveis **frequencia_de_postagens** e **tempo_sozinho**"
      ],
      "metadata": {
        "id": "4tX_H2zZEFwU"
      }
    },
    {
      "cell_type": "markdown",
      "source": [
        "### *frequencia_de_postagens*\n",
        "\n",
        "A a distribuição dos valores de frequencia_de_postagens e tentar entender sua influência na classificação da personalidade."
      ],
      "metadata": {
        "id": "FSs4jBF7HUnV"
      }
    },
    {
      "cell_type": "code",
      "source": [
        "plt.figure(figsize=(7, 5))\n",
        "sns.histplot(data=df_personalidade, x='frequencia_de_postagens', hue='personalidade', multiple=\"stack\", kde=True)\n",
        "plt.title('Gráfico 4 - Histograma da Frequência de Postagens por Personalidade')\n",
        "plt.xlabel('Frequência de Postagens')\n",
        "plt.ylabel('Contagem')\n",
        "plt.show()"
      ],
      "metadata": {
        "id": "wVWWM6AgYixv"
      },
      "execution_count": null,
      "outputs": []
    },
    {
      "cell_type": "markdown",
      "source": [
        " O **Gráfico 4** mostra que Extrovertidos postam nas redes sociais com muito mais frequência que os Introvertidos. A partir de quatro postagens ou mais, é nítida a quantidade bem inferior de Introvertidos em relação as Extrovertidos.\n",
        "\n",
        " Os Extrovertidos dominam claramente esta faixa. Eles são os principais responsáveis pelas postagens mais frequentes, enquanto os Introvertidos quase desaparecem.\n",
        "\n",
        "\n",
        "\n",
        "---\n",
        "\n"
      ],
      "metadata": {
        "id": "9HDYR8XPZlFp"
      }
    },
    {
      "cell_type": "markdown",
      "source": [
        "### *tempo_sozinho*\n",
        "\n",
        "Vamos analisar a distribuição dos valores de tempo_sozinho e tentar entender sua influência na classificação da personalidade."
      ],
      "metadata": {
        "id": "GC3jhtL2HpS5"
      }
    },
    {
      "cell_type": "code",
      "source": [
        "#\n",
        "plt.figure(figsize=(7, 5))\n",
        "sns.histplot(data=df_personalidade, x='tempo_sozinho', hue='personalidade', multiple=\"stack\", kde=True)\n",
        "plt.title('Gráfico 5 - Histograma do Tempo Sozinho por Personalidade')\n",
        "plt.xlabel('Tempo Sozinho (horas)')\n",
        "plt.ylabel('Contagem')\n",
        "plt.show()"
      ],
      "metadata": {
        "id": "r35JDe8cbYnL"
      },
      "execution_count": null,
      "outputs": []
    },
    {
      "cell_type": "markdown",
      "source": [
        "O **Gráfico 5** mostra claramente que, a partir de um período de quatro horas, o número de Introvertidos, cresce de forma muito acentuada. O **Gráfico 5** demonstra também que, aproximadamente, 80% (oitenta por cento) dos classificados como Introvertido, passam por períodos superiores a quatro horas sozinhos.\n",
        "\n",
        "\n",
        "\n",
        "---"
      ],
      "metadata": {
        "id": "YyoF1Ya0a8Xw"
      }
    },
    {
      "cell_type": "markdown",
      "source": [
        "## Boxplot\n",
        "\n",
        "Para analisar como nossas variáveis numéricas se distribuem em relação aos tipos de personalidade, utilizaremos gráficos Boxplot, que permitirão ver Mediana e Quartis, identificar a dispersão dos dados, detectar outliers e comparar grupos. Os dois próximos gráficos nos permitirão entender as distribuições das variáveis **tempo_sozinho** e **frequencia_de_postagens**.\n",
        "\n",
        "\n",
        "\n",
        "---\n",
        "\n"
      ],
      "metadata": {
        "id": "av_qTo2YERdw"
      }
    },
    {
      "cell_type": "code",
      "source": [
        "# Estatísticas descritivas agrupadas por personalidade\n",
        "df_personalidade.groupby('personalidade').describe()"
      ],
      "metadata": {
        "id": "iH6ov-UMHHHJ"
      },
      "execution_count": null,
      "outputs": []
    },
    {
      "cell_type": "code",
      "source": [
        "# Analisando atributo tempo_sozinho com boxplot\n",
        "target_column = 'personalidade'\n",
        "\n",
        "# Coluna específica para plotar\n",
        "selected_column = 'tempo_sozinho'\n",
        "\n",
        "# Criando uma nova figura para o boxplot\n",
        "plt.figure(figsize=(7, 5))\n",
        "\n",
        "# Gerando o boxplot para a coluna selecionada\n",
        "sns.boxplot(x=target_column, y=selected_column, data=df_personalidade)\n",
        "\n",
        "# Definindo o título do gráfico\n",
        "plt.title(f'Gráfico 6 - Distribuição de {selected_column.replace(\"_\", \" \").title()} por Personalidade')\n",
        "\n",
        "# Adicionando rótulos aos eixos para melhor clareza\n",
        "plt.xlabel('Tipo de Personalidade')\n",
        "plt.ylabel(selected_column.replace('_', ' ').title())\n",
        "\n",
        "# Exibe o gráfico\n",
        "plt.show()"
      ],
      "metadata": {
        "id": "X4NiFa4yaWED"
      },
      "execution_count": null,
      "outputs": []
    },
    {
      "cell_type": "markdown",
      "source": [
        "O **Gráfico 6**, boxplot de tempo_sozinho por personalidade, indica claramente que o **Extrovertido** passa muito menos tempo sozinho, apesar de alguns outliers. Há vários pontos acima do bigode superior (em 7, 8, 9, 10, 11 e 12 horas). Isso sugere que, embora a maioria dos Extrovertidos passe pouco tempo sozinho, existe um pequeno número de Extrovertidos que passam um tempo considerável sozinhos, sendo considerados outliers em seu próprio grupo.\n",
        "\n",
        "A presença de outliers no grupo **Extrovertido** é interessante. Sugere que, mesmo entre pessoas que geralmente se energizam com interações sociais, há um subgrupo que ocasionalmente passa bastante tempo sozinho.\n",
        "\n",
        "**Introvertidos**, em contraste, tendem a passar significativamente mais tempo sozinhos, com sua distribuição \"deslocada\" para valores maiores.\n",
        "\n",
        "A diferença nas medianas (Extrovertidos em **~2h** vs. Introvertidos em **~7h**) é muito significativa. Isso mostra que o \"tempo sozinho\" é uma característica distintiva forte entre os dois tipos de personalidade.\n",
        "\n",
        "\n",
        "\n",
        "---"
      ],
      "metadata": {
        "id": "WLqk2ArublP1"
      }
    },
    {
      "cell_type": "code",
      "source": [
        "# Agora, analisando atributo frequencia_de_postagens com boxplot\n",
        "\n",
        "target_column = 'personalidade'\n",
        "\n",
        "# Coluna específica para plotar\n",
        "selected_column = 'frequencia_de_postagens'\n",
        "\n",
        "# Criando uma nova figura para o boxplot\n",
        "plt.figure(figsize=(7, 5)) # Você pode ajustar o tamanho da figura aqui\n",
        "\n",
        "# Gerando o boxplot para a coluna selecionada\n",
        "sns.boxplot(x=target_column, y=selected_column, data=df_personalidade)\n",
        "\n",
        "# Definindoo título do gráfico\n",
        "plt.title(f'Gráfico 7 - Distribuição de {selected_column.replace(\"_\", \" \").title()} por Personalidade')\n",
        "\n",
        "# Adicionando rótulos aos eixos para melhor clareza\n",
        "plt.xlabel('Tipo de Personalidade')\n",
        "plt.ylabel(selected_column.replace('_', ' ').title())\n",
        "\n",
        "# Exibe o gráfico\n",
        "plt.show()"
      ],
      "metadata": {
        "id": "s4IBRIcKcBoN"
      },
      "execution_count": null,
      "outputs": []
    },
    {
      "cell_type": "markdown",
      "source": [
        "O **Gráfico 7**, boxplot de frequencia_de_postagens por personalidade demonstra que, apesar de alguns outliers, classificados como **Introvertidos** postam muito menos em redes sociais.\n",
        "\n",
        "O **Gráfico 7**  mostra também que Frequencia De Postagens é uma feature  poderosa e discriminatória para diferenciar entre Extrovertidos e Introvertidos. A distinção entre os dois grupos é muito clara e alinhada com as expectativas de comportamento social digital.  A diferença nas medianas (**Extrovertidos** em ~6.0 postagens vs. **Introvertidos** em ~1.0 postagem) é extremamente significativa.\n",
        "\n",
        "A presença de outliers no grupo **Introvertido** (aqueles que postam mais do que o típico Introvertido) é um ponto interessante. Isso mostra que, mesmo dentro de um grupo que geralmente é mais reservado, há indivíduos que se desviam do padrão e participam mais ativamente em postagens. Isso pode ser explorado para entender subgrupos ou nuances dentro da introversão."
      ],
      "metadata": {
        "id": "0DDLsQNzcfCO"
      }
    },
    {
      "cell_type": "markdown",
      "source": [
        "\n",
        "\n",
        "---\n",
        "\n"
      ],
      "metadata": {
        "id": "wGkDl_Oxlace"
      }
    },
    {
      "cell_type": "markdown",
      "source": [
        "## Matriz de Correlação\n",
        "Vamos entender a relação linear que os atributos numéricos das personalidades podem ter."
      ],
      "metadata": {
        "id": "3_ERHJAPEZAt"
      }
    },
    {
      "cell_type": "code",
      "source": [
        "# Calculaando a matriz de correlação para os atributos numéricos\n",
        "# Selecionando apenas as colunas numéricas do DataFrame\n",
        "numeric_df = df_personalidade.select_dtypes(include=np.number)\n",
        "\n",
        "# Calculando a matriz de correlação\n",
        "correlation_matrix = numeric_df.corr()"
      ],
      "metadata": {
        "id": "h8S5lBPmrjW5"
      },
      "execution_count": null,
      "outputs": []
    },
    {
      "cell_type": "code",
      "source": [
        "plt.figure(figsize=(8, 6))\n",
        "sns.heatmap(correlation_matrix, annot=True, cmap='coolwarm', fmt=\".2f\", linewidths=.5)\n",
        "plt.title('Gráfico 8 - Correlação dos Atributos Numéricos')\n",
        "plt.xticks(rotation=45, ha='right')\n",
        "plt.yticks(rotation=0)\n",
        "plt.tight_layout()\n",
        "plt.show()\n"
      ],
      "metadata": {
        "id": "3DoAKE1CYIVY"
      },
      "execution_count": null,
      "outputs": []
    },
    {
      "cell_type": "markdown",
      "source": [
        "O **Gráfico 8** mostra:\n",
        "\n",
        "*  **tempo_sozinho** tem forte correlação negativa com **presenca_eventos_sociais** (-0.73). Quando o **tempo_sozinho** aumenta, a presença em eventos sociais tende a diminuir. Isso faz  sentido, pois são atividades que muitas vezes se excluem ou são complementares no oposto (quem busca um, busca menos o outro).\n",
        "\n",
        "  O mesmo acontece com **eventos_externos** (-0.75), mais tempo sozinho está associado a menos eventos externos.\n",
        "  \n",
        "  Outra forte correlação negativa de **tempo_sozinho** é com **circulo_de_amigos** (-0.72). Mais tempo sozinho está associado a ter um círculo de amigos menor. Também faz  sentido, pois um círculo de amigos maior geralmente implica mais interações sociais.\n",
        "  \n",
        "  A correlação entre **tempo_sozinho** e **frequencia_de_postagens** também é negativa (-0.73), mais tempo sozinho está associado a uma menor frequência de postagens.  Nesse caso, embora as postagens possam ser uma forma de interação social, intuitivamente, sempre concluí o contrário, ou seja, achava que quanto mais tempo a pessoa passava sozinha, maior seria o número de postagens. Essa análise confirma a necessidade de, antes de tudo, estudar os dados, suas relações e suas distribuições e depois começar a tirar conclusões.\n",
        "  \n",
        "  Podemos concluir que a variável **tempo_sozinho** tem fortes correlações negativas com todas as outras variáveis de interação social.\n",
        "\n",
        "* A correlação entre **presenca_eventos_sociais** e **eventos_externos** é fortemente positiva (0.75). As pessoas que participam mais de eventos sociais também tendem a participar mais de eventos externos. Isso é esperado, pois ambos descrevem um comportamento social ativo.\n",
        "\n",
        "  Outra forte correlação positiva de **presenca_eventos_sociais** é com **circulo_de_amigos** (0.73). Maior presença em eventos sociais está associada a ter um círculo de amigos maior.\n",
        "  **presenca_eventos_sociais** também se correlaciona fortemente positivo com **frequecia_de_postagens** (0.74) Pessoas que frequentam mais eventos sociais tendem a ter maior frequência de postagens. Justamente o contrário da relação entre **tempo_sozinho** e **frequencia_de_postagens**.  \n",
        "\n",
        "\n",
        "\n",
        "---\n",
        "\n"
      ],
      "metadata": {
        "id": "oz1caOiQHF2u"
      }
    },
    {
      "cell_type": "markdown",
      "source": [
        "## Análise variáveis categóricas\n",
        "\n",
        "\n",
        "Para visualizar a distribuição das respostas em relação às variáveis categóricas **medo_em_publico** e **esgotado_apos_socializar**, utilizarei gráficos de barras simples para entender a frequência com que cada categoria aparece em uma única variável.\n",
        "\n",
        "Busco:\n",
        "\n",
        "Visualizar frequências: Mostrar de forma clara a contagem ou a proporção de cada categoria.\n",
        "\n",
        "Identificar a categoria Mais Comum: Rapidamente poderei ver qual resposta é a mais frequente para cada pergunta.\n",
        "\n",
        "Compreender a composição do Grupo: com uma visão imediata de como o  grupo de estudo se divide em relação a cada uma dessas características isoladamente.\n",
        "\n",
        "Compreender a prevalência de Cada Experiência: Qual a proporção de participantes que relatam ter **medo_em_publico** e qual a proporção que se sente **esgotado_apos_socializar**.\n",
        "\n",
        "Perfil do Grupo: Terei uma ideia mais clara da intensidade de cada uma dessas características na nossa amostra."
      ],
      "metadata": {
        "id": "HXJWSQ3zL3YF"
      }
    },
    {
      "cell_type": "code",
      "source": [
        "\n",
        "\n",
        "# Análisando Contagem e Frequência Relativa (Proporção)\n",
        "\n",
        "print(\"\\n--- Contagem e Proporção de 'medo_em_publico' ---\")\n",
        "contagem_medo_em_publico = df_personalidade['medo_em_publico'].value_counts()\n",
        "proporcao_medo_em_publico = df_personalidade['medo_em_publico'].value_counts(normalize=True) * 100 # Multiplicar por 100 para percentual\n",
        "print(\"Contagem:\\n\", contagem_medo_em_publico)\n",
        "print(\"Proporção (%):\\n\", proporcao_medo_em_publico.round(2)) # Arredondar para 2 casas decimais\n",
        "print(\"-\" * 50)\n",
        "\n",
        "print(\"\\n--- Contagem e Proporção de 'esgotado_apos_socializar' ---\")\n",
        "contagem_esgotado_apos_socializar = df_personalidade['esgotado_apos_socializar'].value_counts()\n",
        "proporcao_esgotado_apos_socializar = df_personalidade['esgotado_apos_socializar'].value_counts(normalize=True) * 100\n",
        "print(\"Contagem:\\n\", contagem_esgotado_apos_socializar)\n",
        "print(\"Proporção (%):\\n\", proporcao_esgotado_apos_socializar.round(2))\n",
        "print(\"-\" * 50)\n",
        "\n",
        "\n",
        "\n",
        "\n",
        "# Análise Cruzamento de Duas Categóricas\n",
        "\n",
        "print(\"\\n--- Contagens 'Personalidade' vs 'medo_em_publico'  ---\")\n",
        "tabela_personalidade_medo = pd.crosstab(df_personalidade['personalidade'], df_personalidade['medo_em_publico'])\n",
        "print(tabela_personalidade_medo)\n",
        "print(\"-\" * 50)\n",
        "\n",
        "print(\"\\n--- Contagens 'Personalidade' vs 'esgotado_apos_socializar'  ---\")\n",
        "tabela_personalidade_esgotado = pd.crosstab(df_personalidade['personalidade'], df_personalidade['esgotado_apos_socializar'])\n",
        "print(tabela_personalidade_esgotado)\n",
        "print(\"-\" * 50)\n",
        "\n",
        "# Exemplo de proporções por linha (percentual de YES/NO dentro de cada Personalidade)\n",
        "print(\"\\n--- Proporções por Linha - % 'Personalidade' vs 'medo_em_publico' () ---\")\n",
        "tabela_personalidade_medo_prop_linha = pd.crosstab(df_personalidade['personalidade'], df_personalidade['medo_em_publico'], normalize='index') * 100\n",
        "print(tabela_personalidade_medo_prop_linha.round(2))\n",
        "print(\"-\" * 50)\n",
        "\n",
        "# Visualização Gráficos de Barras Agrupados\n",
        "\n",
        "plt.figure(figsize=(7, 5))\n",
        "sns.countplot(x='personalidade', hue='medo_em_publico', data=df_personalidade, palette='viridis')\n",
        "plt.title('Gráfico 9 - Contagem de \"Medo em Público\" por Personalidade')\n",
        "plt.xlabel('Personalidade')\n",
        "plt.ylabel('Contagem')\n",
        "plt.legend(title='Medo em Público')\n",
        "plt.show()\n",
        "\n",
        "plt.figure(figsize=(7, 5))\n",
        "sns.countplot(x='personalidade', hue='esgotado_apos_socializar', data=df_personalidade, palette='viridis')\n",
        "plt.title('Gráfico 10 -Contagem de \"Esgotado Após Socializar\" por Personalidade')\n",
        "plt.xlabel('Personalidade')\n",
        "plt.ylabel('Contagem')\n",
        "plt.legend(title='Esgotado Após Socializar')\n",
        "plt.show()\n",
        "\n"
      ],
      "metadata": {
        "id": "J3vd_T_TJldp"
      },
      "execution_count": null,
      "outputs": []
    },
    {
      "cell_type": "markdown",
      "source": [
        "Para entender como uma variável categórica binária (Medo em Público: 'Yes'/'No') se distribui dentro de cada categoria da sua variável target (Personalidade: Extrovert/Introvert), gerei o **Gráfico 9**.\n",
        "\n",
        "\n",
        "* O **Gráfico 9** mostra que uma esmagadora maioria de **Extrovertidos** (cerca de 1350) indica **não** ter medo em público. A contagem de **Extrovertidos** que indicam ter medo em público é muito pequena (cerca de 100). Isso é altamente consistente com a definição de extroversão, que geralmente envolve conforto e habilidade em interações sociais e em destaque.\n",
        "\n",
        " Para os **Introvertidos**, a situação é invertida. Uma esmagadora maioria de **Introvertidos** (cerca de 1300) indica **ter** medo em público. A contagem de **Introvertidos** que indicam não ter medo é muito pequena. Isso é totalmente consistente com a definição de introversão, que muitas vezes está associada a uma preferência por ambientes mais calmos e menor conforto em situações de exposição pública.\n",
        "Vemos também que praticamente metade da base de dados respondeu 'No' (1417 pessoas, 50.12%) para **medo_em_publico**.\n",
        "A outra metade respondeu 'Yes' (1410 pessoas, 49.88%) para **medo_em_publico**.\n",
        "Isso indica que a variável medo_em_publico é muito bem balanceada no dataset, com aproximadamente o mesmo número de pessoas em cada categoria. Isso melhora a modelagem, pois o modelo não será \"viesado\" a prever uma categoria em detrimento da outra devido à desproporção.\n",
        "\n",
        "\n",
        "Para entender a distribução da variável categórica esgotado_apos_socializar, gerei o **Gráfico 10**\n",
        "\n",
        "* O **Gráfico 10** mostra que ma enorme maioria de **Extrovertidos** indica NÃO se sentir esgotado após socializar. A contagem de **Extrovertidos** que se sentem esgotados é muito pequena. Isso é consistente com a teoria da extroversão, onde interações sociais são fontes de energia e não de esgotamento.\n",
        "\n",
        " Para os **Introvertidos**, a situação é claramente inversa. Uma esmagadora maioria de **Introvertidos** indica SIM se sentir esgotado após socializar. A contagem de **Introvertidos** que não se sentem esgotados é mínima. Isso é  consistente com a teoria da introversão, onde a socialização tende a consumir energia e pode levar ao esgotamento.\n",
        "\n",
        "  **Extrovertidos** têm uma alta contagem em 'No' (1362) e baixa em 'Yes' (111). **Introvertidos** têm uma baixa contagem em 'No' (79) e alta em 'Yes' (1296).\n",
        "\n",
        "Ambos os gráficos de contagem (Medo em Público e Esgotado Após Socializar) e as tabelas de contingência numéricas demonstram que essas duas variáveis categóricas são  poderosas para diferenciar **Extrovertidos** de **Introvertidos** no dataset.\n",
        "\n",
        "Medo em Público é um diferenciador fortíssimo, com quase 95% de precisão na distinção baseada na resposta 'Yes' ou 'No'.\n",
        "\n",
        "Esgotado Após Socializar é igualmente poderoso, com uma clareza impressionante na polarização das respostas entre os dois grupos.\n",
        "\n",
        "Essas variáveis categóricas provavelmente serão as mais importantes em qualquer modelo preditivo  para identificar a personalidade, pois elas capturam diretamente características centrais de extroversão e introversão.\n",
        "\n",
        "\n",
        "\n",
        "---\n",
        "\n"
      ],
      "metadata": {
        "id": "BGApbea0Srp6"
      }
    },
    {
      "cell_type": "markdown",
      "source": [
        "# Pré-Processamento de Dados\n",
        "\n",
        "Aqui, vou preparar os dados para modelagem, garantindo que estejam no formato correto e otimizados para o desempenho do modelo de classificação, em etapas seguintes.\n",
        "\n",
        " -- Defino as features e a variável target\n",
        "\n",
        "-- Divido os dados em conjuntos de treino e teste\n",
        "\n",
        "-- Aplico o pré-processamento dos dados, com:\n",
        "\n",
        "      -- tratamento de valores faltantes,\n",
        "\n",
        "      -- codificação de variáveis categóricas,\n",
        "\n",
        "      -- codificação da variável target e\n",
        "\n",
        "      -- escalonamento de variáveis numéricas.\n",
        "\n",
        "Deixando o conjunto pronto para ser treinado e testado por um modelo de classificação.\n",
        "\n",
        "\n"
      ],
      "metadata": {
        "id": "VDovmxgDFcbF"
      }
    },
    {
      "cell_type": "code",
      "source": [
        "# Revisitando informações sobre o dataset\n",
        "df_personalidade.info()"
      ],
      "metadata": {
        "id": "ejS-lUcExsJu"
      },
      "execution_count": null,
      "outputs": []
    },
    {
      "cell_type": "markdown",
      "source": [
        "Começo definindo as features (X) e a varável target (y)  "
      ],
      "metadata": {
        "id": "oZu9a-kOkyS7"
      }
    },
    {
      "cell_type": "code",
      "source": [
        "# Separando as features (X) e target(y)\n",
        "X = df_personalidade.drop('personalidade', axis=1)\n",
        "y = df_personalidade['personalidade']"
      ],
      "metadata": {
        "id": "lvMppW-bPPMX"
      },
      "execution_count": null,
      "outputs": []
    },
    {
      "cell_type": "code",
      "source": [
        "# Dividindo os dados em conjuntos de treino e teste\n",
        "X_train, X_test, y_train, y_test = train_test_split(X, y, test_size=0.2, random_state=42)"
      ],
      "metadata": {
        "id": "zzxbuTbIeuuU"
      },
      "execution_count": null,
      "outputs": []
    },
    {
      "cell_type": "code",
      "source": [
        "print(f\"Dimensões de X_train: {X_train.shape}\")\n",
        "print(f\"Dimensões de X_test: {X_test.shape}\")\n",
        "print(f\"Dimensões de y_train: {y_train.shape}\")\n",
        "print(f\"Dimensões de y_test: {y_test.shape}\")"
      ],
      "metadata": {
        "id": "SPvN4eP8ewUB"
      },
      "execution_count": null,
      "outputs": []
    },
    {
      "cell_type": "markdown",
      "source": [
        "## Tratamento de valores faltantes (missing values)"
      ],
      "metadata": {
        "id": "HXgjmrpzfwHA"
      }
    },
    {
      "cell_type": "code",
      "source": [
        "# Levantando missing values\n",
        "print(\"\\nVerificando valores ausentes (X_train):\")\n",
        "print(X_train.isnull().sum())\n",
        "print(\"\\nVerificando valores ausentes (X_test):\")\n",
        "print(X_test.isnull().sum())"
      ],
      "metadata": {
        "id": "Kin7TUWgdEMh"
      },
      "execution_count": null,
      "outputs": []
    },
    {
      "cell_type": "markdown",
      "source": [
        "Para lidar com os valores nulos presentes na base de dados. Dada a natureza e o tamanho relativamente pequeno do conjunto de dados (2900 linhas), optei por não remover nenhuma linha que contenha valores ausentes.\n",
        "\n",
        "\n",
        "Em vez de excluir dados possivelmente valiosos, aplicarei a imputação, preenchendo os valores nulos com moda para colunas categóricas e mediana para colunas numéricas.\n",
        "\n",
        "Com isso, pretendo:\n",
        "\n",
        "Preservar Dados: Evitar a perda de informações importantes, mantendo o tamanho original da base.\n",
        "\n",
        "Manter a Integridade da Análise: Garantir que não introduzirei viés ao remover observações que poderiam conter padrões relevantes.\n",
        "\n",
        "\n",
        "\n",
        "---"
      ],
      "metadata": {
        "id": "_LcEHX05G9-z"
      }
    },
    {
      "cell_type": "code",
      "source": [
        "# Definindo colunas Categóricas para imputação pela moda\n",
        "categorical_columns = ['medo_em_publico', 'esgotado_apos_socializar']"
      ],
      "metadata": {
        "id": "1kKUZp1QgATC"
      },
      "execution_count": null,
      "outputs": []
    },
    {
      "cell_type": "code",
      "source": [
        "# Definindo colunas Numéricas para imputação pela mediana\n",
        "numeric_columns = ['tempo_sozinho', 'presenca_eventos_sociais', 'eventos_externos', 'circulo_de_amigos', 'frequencia_de_postagens']"
      ],
      "metadata": {
        "id": "7JqiQIxqghqy"
      },
      "execution_count": null,
      "outputs": []
    },
    {
      "cell_type": "code",
      "source": [
        "# Imputação para colunas categóricas\n",
        "for col in categorical_columns:\n",
        "    moda_treino = X_train[col].mode()[0] # Calcula a moda no conjunto de treino\n",
        "    X_train[col].fillna(moda_treino, inplace=True)\n",
        "    X_test[col].fillna(moda_treino, inplace=True) # Aplica a mesma moda no teste"
      ],
      "metadata": {
        "id": "PzgtaBylgq8k"
      },
      "execution_count": null,
      "outputs": []
    },
    {
      "cell_type": "code",
      "source": [
        "# Imputação para colunas numéricas\n",
        "for col in numeric_columns:\n",
        "    mediana_treino = X_train[col].median() # Calcula a mediana no conjunto de treino\n",
        "    X_train[col].fillna(mediana_treino, inplace=True)\n",
        "    X_test[col].fillna(mediana_treino, inplace=True) # Aplica a mesma mediana no teste"
      ],
      "metadata": {
        "id": "OZW8pmSnhATw"
      },
      "execution_count": null,
      "outputs": []
    },
    {
      "cell_type": "code",
      "source": [
        "# Confirmando imputação\n",
        "print(\"\\nVerificando valores ausentes após imputação (X_train):\")\n",
        "print(X_train.isnull().sum())\n",
        "print(\"\\nVerificando valores ausentes após imputação (X_test):\")\n",
        "print(X_test.isnull().sum())"
      ],
      "metadata": {
        "id": "D0CfndMkhJ34"
      },
      "execution_count": null,
      "outputs": []
    },
    {
      "cell_type": "markdown",
      "source": [
        "## Codificação de Variáveis Categóricas (Features de Entrada)"
      ],
      "metadata": {
        "id": "aOaiQ-pYiRv1"
      }
    },
    {
      "cell_type": "markdown",
      "source": [
        "Para **medo_em_publico** e **esgotado_apos_socializar**\n",
        "\n",
        "Na sequência do pré-processamento, vou codificar essa duas variáveis features categóricas utilizando o mapeamento binário.\n",
        "\n",
        "Essas variáveis categóricas, que contêm respostas como \"yes/no\", precisam ser transformadas em um formato numérico que os algoritmos possam entender.\n",
        "\n",
        "O mapeamento binário é a forma mais simples e direta de fazer essa transformação, convertendo cada categoria em um valor numérico ( 0 ou 1). Isso  permite:\n",
        "\n",
        "Tornar os Dados Compreensíveis: Traduzir categorias textuais para um formato numérico que os modelos podem processar.\n",
        "\n",
        "Simplificar a Representação: Apresentar informações categóricas de forma eficiente, sem adicionar complexidade desnecessária.\n",
        "\n",
        "\n",
        "\n",
        "---\n",
        "\n"
      ],
      "metadata": {
        "id": "hg8mkLrUiX_p"
      }
    },
    {
      "cell_type": "code",
      "source": [
        "# Mapeamento para converter 'Yes'/'No' para 1/0\n",
        "mapeamento_binario = {'Yes': 1, 'No': 0}\n",
        "X_train['medo_em_publico'] = X_train['medo_em_publico'].map(mapeamento_binario)\n",
        "X_test['medo_em_publico'] = X_test['medo_em_publico'].map(mapeamento_binario)\n",
        "X_train['esgotado_apos_socializar'] = X_train['esgotado_apos_socializar'].map(mapeamento_binario)\n",
        "X_test['esgotado_apos_socializar'] = X_test['esgotado_apos_socializar'].map(mapeamento_binario)\n",
        "print(\"\\nValores de 'medo_em_publico' após codificação (X_train):\")\n",
        "print(X_train['medo_em_publico'].value_counts())\n",
        "print(\"\\nValores de 'esgotado_apos_socializar' após codificação (X_train):\")\n",
        "print(X_train['esgotado_apos_socializar'].value_counts())"
      ],
      "metadata": {
        "id": "yLmlnK7DiefJ"
      },
      "execution_count": null,
      "outputs": []
    },
    {
      "cell_type": "code",
      "source": [
        "# Visualizando\n",
        "X_train.head()"
      ],
      "metadata": {
        "id": "GZhvOZWyLcPx"
      },
      "execution_count": null,
      "outputs": []
    },
    {
      "cell_type": "markdown",
      "source": [
        "## Codificação da variável target (personalidade)"
      ],
      "metadata": {
        "id": "VN4wsvgEiqEA"
      }
    },
    {
      "cell_type": "markdown",
      "source": [
        "\n",
        "\n",
        "Para a variável target **personalidade**, que possui as categorias 'Introverted' e 'Extroverted', também aplicarei uma codificação binária.\n",
        "\n",
        "Seguindo a convenção:\n",
        "\n",
        "**Introverted** será transformado para **1**.\n",
        "\n",
        "**Extroverted** será transformado para **0**.\n",
        "\n",
        "Essa padronização numérica é fundamental para que o modelo possa aprender a prever corretamente a personalidade, facilitando sua interpretação e o treinamento.\n",
        "\n",
        "\n",
        "\n",
        "---\n",
        "\n"
      ],
      "metadata": {
        "id": "s9cXCBI643Ix"
      }
    },
    {
      "cell_type": "code",
      "source": [
        "\n",
        "le = LabelEncoder()\n",
        "# Fit no y_train e transforma y_train\n",
        "y_train = le.fit_transform(y_train)\n",
        "# Apenas transforma y_test usando o LabelEncoder já treinado\n",
        "y_test = le.transform(y_test)\n",
        "print(\"\\nClasses codificadas da variável 'personalidade':\", le.classes_)\n",
        "print(\"Primeiros 5 valores de y_train após codificação:\", y_train[:5])\n",
        "print(\"Primeiros 5 valores de y_test após codificação:\", y_test[:5])"
      ],
      "metadata": {
        "id": "sAg6B4T3i64b"
      },
      "execution_count": null,
      "outputs": []
    },
    {
      "cell_type": "markdown",
      "source": [
        "## Escalonamento de variáveis numéricas\n",
        "A próxima etapa no pré-processamento é o escalonamento das variáveis numéricas: '**tempo_sozinho**', '**presenca_eventos_sociais**', '**eventos_externos**', '**circulo_de_amigos**' e '**frequencia_de_postagens**'.\n",
        "\n",
        "As variáveis possuem diferentes escalas de valores (por exemplo, '**tempo_sozinho**' vai até 11, enquanto '**circulo_de_amigos**' vai até 15). Essa diferença pode causar problemas para alguns algoritmos de aprendizado de máquina, que são sensíveis à magnitude dos dados.\n",
        "\n",
        "O escalonamento garante que:\n",
        "\n",
        "Todas as variáveis tenham a mesma \"importância\" para o modelo, evitando que aquelas com valores maiores dominem o processo de aprendizado.\n",
        "\n",
        "Ao padronizar as escalas, preparo os dados para que o modelo possa aprender de maneira mais eficaz e justa, sem ser enganado pelas diferenças de magnitude.\n",
        "\n",
        "\n",
        "\n",
        "---\n",
        "\n"
      ],
      "metadata": {
        "id": "brlSlf0ijDME"
      }
    },
    {
      "cell_type": "code",
      "source": [
        "\n",
        "scaler = StandardScaler()\n",
        "\n",
        "# Aplica StandardScaler nas colunas numéricas de treino\n",
        "X_train[numeric_columns] = scaler.fit_transform(X_train[numeric_columns])\n",
        "\n",
        "# Aplica StandardScaler nas colunas numéricas de teste (usando o scaler treinado no treino)\n",
        "X_test[numeric_columns] = scaler.transform(X_test[numeric_columns])\n",
        "\n",
        "print(\"\\nPrimeiras 5 linhas das colunas numéricas de X_train após escalonamento:\")\n",
        "print(X_train[numeric_columns].head())\n",
        "print(\"\\nPrimeiras 5 linhas das colunas numéricas de X_test após escalonamento:\")\n",
        "print(X_test[numeric_columns].head())"
      ],
      "metadata": {
        "id": "WH4IKqXhjLRn"
      },
      "execution_count": null,
      "outputs": []
    },
    {
      "cell_type": "markdown",
      "source": [
        "\n",
        "\n",
        "---\n",
        "\n"
      ],
      "metadata": {
        "id": "ZJeAkJVrf9hP"
      }
    },
    {
      "cell_type": "code",
      "source": [
        "X_train.info()"
      ],
      "metadata": {
        "id": "daMH5MCcNZwT"
      },
      "execution_count": null,
      "outputs": []
    },
    {
      "cell_type": "code",
      "source": [
        "X_train.head()"
      ],
      "metadata": {
        "id": "kn9LZqTTMeuQ"
      },
      "execution_count": null,
      "outputs": []
    },
    {
      "cell_type": "code",
      "source": [
        "print(f\"Dimensões de X_train: {X_train.shape}\")\n",
        "print(f\"Dimensões de X_test: {X_test.shape}\")\n",
        "print(f\"Dimensões de y_train: {y_train.shape}\")\n",
        "print(f\"Dimensões de y_test: {y_test.shape}\")"
      ],
      "metadata": {
        "id": "ZGHhvzVvNncH"
      },
      "execution_count": null,
      "outputs": []
    },
    {
      "cell_type": "markdown",
      "source": [
        "As fortes correlações posisitvas de alguns atributos guiam para a aplicação de PCA. Mas, como entendo que a base já tem poucos atributos, não aplicarei."
      ],
      "metadata": {
        "id": "OtbwAXKORl9O"
      }
    },
    {
      "cell_type": "markdown",
      "source": [
        "## Testando os dados pré-processados em um modelo LogisticRegression\n",
        "\n",
        "Agora que os dados estão pré-processados, farei um teste inicial com um modelo de Regressão Logística. Este não é o treinamento final do modelo, mas sim uma etapa rápida para avaliar superficialmente a qualidade da  base de dados após todas as transformações.\n",
        "\n",
        "\n",
        "Optei pela Regressão Logística para este teste rápido porque ela é um algoritmo eficiente para classificações binárias, ideal para uma verificação preliminar, e permite entender rapidamente se as variáveis pré-processadas já mostram alguma relação com a variável target.\n",
        "\n",
        "Este passo  ajudará a ter uma primeira impressão de como o conjunto de dados pré-processado se comporta em um modelo básico, confirmando se as etapas de tratamento e transformação foram eficazes para preparar os dados.\n",
        "\n",
        "\n",
        "\n",
        "---\n",
        "\n"
      ],
      "metadata": {
        "id": "NVwPKFQjUyKF"
      }
    },
    {
      "cell_type": "code",
      "source": [
        "# Inicializando e treinando o modelo de Regressão Logística\n",
        "model = LogisticRegression(random_state=42)\n",
        "model.fit(X_train, y_train)"
      ],
      "metadata": {
        "id": "r5iw2eikWPDO"
      },
      "execution_count": null,
      "outputs": []
    },
    {
      "cell_type": "code",
      "source": [
        "# Fazendo previsões no conjunto de teste\n",
        "y_pred = model.predict(X_test)"
      ],
      "metadata": {
        "id": "_SF1JcjnWTV1"
      },
      "execution_count": null,
      "outputs": []
    },
    {
      "cell_type": "code",
      "source": [
        "# Avaliando o desempenho do modelo com a métrica acurácia\n",
        "print(\"Avaliação do Modelo de Regressão Logística:\")\n",
        "print(\"\\nAcurácia:\", accuracy_score(y_test, y_pred))\n"
      ],
      "metadata": {
        "id": "4eX_XolyWWyw"
      },
      "execution_count": null,
      "outputs": []
    },
    {
      "cell_type": "markdown",
      "source": [
        "## Avaliação Preliminar do Modelo de Regressão Logística\n",
        "Após o pré-processamento dos dados e um teste inicial com um modelo de Regressão Logística, obtive uma Acurácia de 0.9241.\n",
        "\n",
        "Este resultado indica que, aproximadamente, 92.41% das previsões do modelo estão corretas no conjunto de dados pré-processado. Considerando que segui as boas práticas, aplicando as transformações após o holdout e asssim descartando um possível overfitting,  Uma acurácia inicial tão alta é um forte indicativo de que as etapas de tratamento e transformação dos dados foram bem-sucedidas em preparar o conjunto de dados para a modelagem.\n",
        "\n",
        "Isso  dá confiança para prosseguir para as próximas fases de avaliação e construção de modelos mais robustos."
      ],
      "metadata": {
        "id": "S4DzXhIxqceq"
      }
    },
    {
      "cell_type": "markdown",
      "source": [
        "# Conclusão\n",
        "\n",
        "As hipóteses levantadas no início foram:\n",
        "\n",
        "\n",
        "   **1 -** Das sete características listadas, qual ou quais mais influenciariam na definição do tipo de personalidade?\n",
        "\n",
        "*  Os histogramas(**Gráficos 4 e 5**) e boxplots(**Gráficos 6 e 7**)  indicaram concentrações bem definidas e distintas em atributos como **tempo_sozinho**, **frequencia_de_postagens**. Esses gráficos indicam esses atributos como features discriminitórias.\n",
        "* Os **Gráficos 9 e 10**, demonstram que as variáveis categóricas **medo_em_publico** e **esgotado_apos_socializar**, também são altamente definidoras da variável target personalidade."
      ],
      "metadata": {
        "id": "OY_GDjf1G-PM"
      }
    },
    {
      "cell_type": "markdown",
      "source": [
        "\n",
        "\n",
        "---\n",
        "\n",
        " **2 -**  O receio em se expor em público é determinante nessa classificação?\n",
        "\n",
        "*  O **Gráfico 11**, abaixo, mostra que, realmente, cada classificação tem esse atributo bem definido. A maioria absoluta de cada classe Introvertidos, tem medo de se expor em público. Enquanto que a maioria dos Extrovertidos, não."
      ],
      "metadata": {
        "id": "nQNKh_x2XBhS"
      }
    },
    {
      "cell_type": "code",
      "source": [
        "# 2 -  O receio em se expor em público é determinante nessa classificação?\n",
        "# Gráfico 11\n",
        "plt.figure(figsize=(7, 5))\n",
        "sns.countplot(data=df_personalidade, x='medo_em_publico', hue='personalidade')\n",
        "plt.title('Gráfico 11 - Medo em Público por Personalidade')\n",
        "plt.xlabel('Medo em Público (No/Yes)')\n",
        "plt.ylabel('Contagem')\n",
        "plt.show()"
      ],
      "metadata": {
        "id": "pICWYj0-PLOJ"
      },
      "execution_count": null,
      "outputs": []
    },
    {
      "cell_type": "markdown",
      "source": [
        "\n",
        "\n",
        "---\n",
        "\n",
        "\n",
        "\n",
        "**3 -** Uma pessoa mais ativa nas redes sociais, tende mais a ser extrovertida?\n",
        "\n",
        "* Pelo **Gráfico 7**, pode-se inferir que sim. Há uma distinção bem definida nos agrupamentos por frequência de postagens. Nota-se que os classificados como Extrovertidos têm o número de frequência bem acima dos Introvertidos."
      ],
      "metadata": {
        "id": "M8vynKsSh2at"
      }
    },
    {
      "cell_type": "markdown",
      "source": [
        "\n",
        "\n",
        "---\n",
        "\n",
        "\n",
        "\n",
        "**4 -** A intensidade de sua relação social na vida real, fora das redes, ainda pesa bastante na classificação?\n",
        "\n",
        "\n",
        " *  Nessa questão, vou desconsiderar a feature frequencia_de_postagens e tentar entender o peso dos atributos tempo_sozinho, presenca_em_eventos_sociais,  eventos_externos e circulo_de_amigos."
      ],
      "metadata": {
        "id": "Lh1SwobaiG-p"
      }
    },
    {
      "cell_type": "code",
      "source": [
        "# Calculando a correlação das features com a variável target (personalidade)\n",
        "# usando a correlação de Pearson.\n",
        "# Apsesar dessa correlação medir a relação linear, o que pode não capturar todas as complexidades,\n",
        "# nos dá uma boa indicação da importância das features para a classificação binária.\n",
        "\n",
        "# Configuração para não exibir os warnings\n",
        "warnings.filterwarnings(\"ignore\")\n",
        "\n",
        "\n",
        "# Crindo um DataFrame temporário que inclui a variável target codificada\n",
        "df_train_codificada = X_train.copy()\n",
        "df_train_codificada['personalidade'] = y_train\n",
        "\n",
        "# Selecionando as colunas de interesse para análise\n",
        "features_escolhidas = ['tempo_sozinho', 'presenca_eventos_sociais', 'eventos_externos', 'circulo_de_amigos']\n",
        "\n",
        "# Calculando a correlação entre as features de interesse e a target\n",
        "correlacao_com_target = df_train_codificada[features_escolhidas + ['personalidade']].corr()['personalidade'].drop('personalidade')\n",
        "\n",
        "print(\"\\nPeso (Correlação) das features selecionadas na classificação da Personalidade:\")\n",
        "print(correlacao_com_target.sort_values(ascending=False))\n",
        "\n",
        "# Visualizar a correlação\n",
        "plt.figure(figsize=(8, 6))\n",
        "sns.barplot(x=correlacao_com_target.index, y=correlacao_com_target.values, palette='viridis')\n",
        "plt.title('Gráfico 12 - Correlação das Features Selecionadas com a Personalidade')\n",
        "plt.xlabel('Features')\n",
        "plt.ylabel('Coeficiente de Correlação')\n",
        "plt.xticks(rotation=45, ha='right')\n",
        "plt.tight_layout()\n",
        "plt.show()\n",
        "\n"
      ],
      "metadata": {
        "id": "3ckDSiUvVl5-"
      },
      "execution_count": null,
      "outputs": []
    },
    {
      "cell_type": "markdown",
      "source": [
        "Analisando o **Gráfico 12**, podemos ver a seguinte correlação das features com a personalidade (codificada como 1 para Introvertido e 0 para Extrovertido):\n",
        "\n",
        "* **tempo_sozinho** - Coeficiente de Correlação: Aproximadamente 0.7 (positivo).\n",
        "\n",
        "\n",
        "* **presenca_eventos_sociais** - Coeficiente de Correlação: Aproximadamente -0.7 (negativo).\n",
        "\n",
        "Interpretação: Uma correlação negativa forte significa que, quando presenca_eventos_sociais aumenta, a personalidade diminui. Como personalidade diminuir significa ir de 1 (Introvertido) para 0 (Extrovertido), isso p diz que quanto mais eventos sociais uma pessoa participa, mais Extrovertida ela tende a ser.\n",
        "\n",
        "Conclusão: Isso também faz total sentido! Extrovertidos geralmente buscam e se energizam em ambientes sociais.\n",
        "\n",
        "* Feature: **eventos_externos**\n",
        "\n",
        "Coeficiente de Correlação: Aproximadamente **-0.7 (negativo)**.\n",
        "\n",
        "Interpretação: Semelhante à anterior, quanto mais eventos externos uma pessoa participa, mais Extrovertida ela tende a ser.\n",
        "\n",
        "Conclusão: Perfeitamente alinhado com o esperado para extrovertidos.\n",
        "\n",
        "Feature: **círculo_de_amigos**\n",
        "\n",
        "Coeficiente de Correlação: Aproximadamente **-0.7 (negativo)**.\n",
        "\n",
        "Interpretação: Por fim, quanto maior o círculo_de_amigos de uma pessoa, mais Extrovertida ela tende a ser.\n",
        "\n",
        "Conclusão: Isso também se alinha perfeitamente com a ideia de que extrovertidos tendem a ter um círculo social mais amplo.\n",
        "\n",
        "* **Conclusão**\n",
        "\n",
        "tempo_sozinho: Correlaciona positivamente e fortemente com a introversão.\n",
        "\n",
        "presenca_eventos_sociais: Correlaciona negativa e fortemente com a introversão (o que significa uma forte correlação positiva com a extroversão).\n",
        "\n",
        "eventos_externos: Correlaciona negativa e fortemente com a introversão (o que significa uma forte correlação positiva com a extroversão).\n",
        "\n",
        "círculo_de_amigos: Correlaciona negativa e fortemente com a introversão (o que significa uma forte correlação positiva com a extroversão).\n",
        "\n",
        "Essas features são  preditoras para a  variável Personalidade (Introvertido/Extrovertido) e fornecem insights claros sobre os traços associados a cada categoria.\n",
        "\n",
        "Podemos concluir então que sim, a intensidade relação social na vida real, fora das redes, de uma pessoa pesa bastante nessa classificação."
      ],
      "metadata": {
        "id": "GB3M5o1bZXX7"
      }
    },
    {
      "cell_type": "markdown",
      "source": [
        "\n",
        "\n",
        "---\n",
        "\n",
        "\n",
        "\n",
        "---\n",
        "\n"
      ],
      "metadata": {
        "id": "9vx83sySYCf4"
      }
    }
  ]
}