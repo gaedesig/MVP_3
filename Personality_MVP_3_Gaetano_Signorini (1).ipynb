{
  "nbformat": 4,
  "nbformat_minor": 0,
  "metadata": {
    "colab": {
      "provenance": []
    },
    "kernelspec": {
      "name": "python3",
      "display_name": "Python 3"
    },
    "language_info": {
      "name": "python"
    }
  },
  "cells": [
    {
      "cell_type": "markdown",
      "source": [
        "\n",
        "\n",
        "---\n",
        "\n"
      ],
      "metadata": {
        "id": "nhGMdUUleC7b"
      }
    },
    {
      "cell_type": "markdown",
      "source": [
        "# MVP Análise de Dados e Boas Práticas\n",
        "\n",
        "**Nome:** Gaetano Signorini\n",
        "\n",
        "**Matrícula:** 4052024001993\n",
        "\n",
        "**Dataset:** [Personality Dataset](https://raw.githubusercontent.com/gaedesig/MVP_3/refs/heads/main/personality_dataset.csv)\n",
        "\n",
        " **------**"
      ],
      "metadata": {
        "id": "cmYX3PLx58Jg"
      }
    },
    {
      "cell_type": "markdown",
      "source": [
        "# Descrição do Problema\n",
        "\n"
      ],
      "metadata": {
        "id": "YW_JS-EEBFaR"
      }
    },
    {
      "cell_type": "markdown",
      "source": [
        "O conjunto de dados personality, de traços de personalidade extrovertidos vs. Introvertidos, é uma coleção de dados comportamentais e sociais que captura indicadores-chave de extroversão e introversão.\n",
        "Este conjunto de dados contém 2.900 entradas com 7 características relacionadas ao comportamento social e traços de personalidade, projetado para explorar e classificar indivíduos como extrovertidos ou introvertidos.\n",
        "O conjunto de dados fornece insights sobre comportamentos como tempo gasto sozinho, participação em eventos sociais e engajamento em mídias sociais.\n"
      ],
      "metadata": {
        "id": "Y4RD8xopejUa"
      }
    },
    {
      "cell_type": "markdown",
      "source": [
        "## Hipóteses do Problema\n",
        "\n",
        "*  **1 -**  Das sete características listadas, qual ou quais mais influenciariam na definição do tipo de personalidade?\n",
        "\n",
        "*  **2 -** O receio em se expor em público é determinante nessa classificação?\n",
        "*  **3 -** Uma pessoa mais ativa nas redes sociais, tende mais a ser extrovertida?\n",
        "\n",
        "\n",
        "*  **4 -**  A intensidade de  relação social na vida real, fora das redes, ainda pesa bastante na classificação?\n",
        "\n",
        "\n"
      ],
      "metadata": {
        "id": "Gm6mOo5PBYwr"
      }
    },
    {
      "cell_type": "markdown",
      "source": [
        "## Tipo de Problema\n",
        "\n",
        "Com características comportamentais como, frequência de participação em eventos sociais, tempo gasto sozinho, postura em redes sociais entre outras, trata-se de um problema de classificação supervisionada, que busca definir o tipo de personalidade (Introvertido ou extrovertido), baseado nos valores desses atributos."
      ],
      "metadata": {
        "id": "x1zNNZt6BfdF"
      }
    },
    {
      "cell_type": "markdown",
      "source": [
        "## Seleção de Dados\n",
        "**Dataset Personality**\n",
        "\n",
        "O dataset personality foi extraído do ambiente Kaggle. Contém valores nulos, atributos numéricos e categóricos e classe-alvo (personalidade) balanceada."
      ],
      "metadata": {
        "id": "N91bTLbiBxrm"
      }
    },
    {
      "cell_type": "markdown",
      "source": [
        "## Atributos do Dataset\n",
        "\n",
        "\n",
        "possui sete atributos e uma variável alvo:\n",
        "\n",
        "- **time_spent_alone:** número de horas que um indivíduo normalmente passa sozinho diariamente.\n",
        "- **stage_fear:** se sente muito desconforto em se expor/falar perante público.\n",
        "- **social_event_attendance:** frequência de participação em eventos sociais.\n",
        "- **going_outside:** Com que frequência o indivíduo sai de casa.\n",
        "- **drained_after_socializing:** se o indivíduo se sente esgotado após socializar.\n",
        "- **friends_circle_size:** número de amigos próximos.\n",
        "- **post_frequency:** frequência de postagens em redes sociais.\n",
        "- **personality:** variável-alvo, (Introvertido, Extrovertido)."
      ],
      "metadata": {
        "id": "FC6QJHhWBnzH"
      }
    },
    {
      "cell_type": "markdown",
      "source": [
        "\n",
        "\n",
        "---\n",
        "\n",
        "\n",
        "---\n",
        "\n",
        "\n",
        "\n"
      ],
      "metadata": {
        "id": "uqy4f6lgi6nE"
      }
    },
    {
      "cell_type": "markdown",
      "source": [
        "# Importação das Bibliotecas Necessárias e Carga de Dados\n",
        "\n",
        "Esta seção consolida todas as importações de bibliotecas necessárias para a análise, visualização e pré-processamento dos dados, bem como o carregamento inicial do dataset Personality."
      ],
      "metadata": {
        "id": "DObGnkf0bJBh"
      }
    },
    {
      "cell_type": "code",
      "source": [
        "# Carregamento de bibliotecas necessárias\n",
        "import pandas as pd\n",
        "import numpy as np\n",
        "import matplotlib.pyplot as plt\n",
        "import seaborn as sns\n",
        "from sklearn.model_selection import train_test_split\n",
        "from sklearn.preprocessing import StandardScaler\n",
        "from sklearn.preprocessing import LabelEncoder\n",
        "from sklearn.linear_model import LogisticRegression\n",
        "from sklearn.metrics import accuracy_score\n",
        "from sklearn.compose import ColumnTransformer\n",
        "from scipy.stats import chi2_contingency\n",
        "\n",
        "import warnings\n",
        "warnings.filterwarnings('ignore')\n"
      ],
      "metadata": {
        "id": "tCohWn2jbkDB"
      },
      "execution_count": 8,
      "outputs": []
    },
    {
      "cell_type": "code",
      "source": [
        "# carregamento do dataset armazenado no github\n",
        "data_set = 'https://raw.githubusercontent.com/gaedesig/MVP_3/refs/heads/main/personality_dataset.csv'"
      ],
      "metadata": {
        "id": "BIokzI3xb8_t"
      },
      "execution_count": 9,
      "outputs": []
    },
    {
      "cell_type": "code",
      "source": [
        "# guardando o dataset em um dataframe - df_personality\n",
        "df_personality = pd.read_csv(data_set)"
      ],
      "metadata": {
        "id": "RCPbhofsE59F"
      },
      "execution_count": 10,
      "outputs": []
    },
    {
      "cell_type": "code",
      "source": [
        "# Exibindo primeiras linhas do dataframe\n",
        "df_personality.head()"
      ],
      "metadata": {
        "id": "P1K8mzorgKvm",
        "colab": {
          "base_uri": "https://localhost:8080/",
          "height": 206
        },
        "outputId": "77dd869f-62da-4391-9717-32100cbae3e9"
      },
      "execution_count": 11,
      "outputs": [
        {
          "output_type": "execute_result",
          "data": {
            "text/plain": [
              "   Time_spent_Alone Stage_fear  Social_event_attendance  Going_outside  \\\n",
              "0               4.0         No                      4.0            6.0   \n",
              "1               9.0        Yes                      0.0            0.0   \n",
              "2               9.0        Yes                      1.0            2.0   \n",
              "3               0.0         No                      6.0            7.0   \n",
              "4               3.0         No                      9.0            4.0   \n",
              "\n",
              "  Drained_after_socializing  Friends_circle_size  Post_frequency Personality  \n",
              "0                        No                 13.0             5.0   Extrovert  \n",
              "1                       Yes                  0.0             3.0   Introvert  \n",
              "2                       Yes                  5.0             2.0   Introvert  \n",
              "3                        No                 14.0             8.0   Extrovert  \n",
              "4                        No                  8.0             5.0   Extrovert  "
            ],
            "text/html": [
              "\n",
              "  <div id=\"df-8a5518d7-92cf-4ced-826f-544b01372f79\" class=\"colab-df-container\">\n",
              "    <div>\n",
              "<style scoped>\n",
              "    .dataframe tbody tr th:only-of-type {\n",
              "        vertical-align: middle;\n",
              "    }\n",
              "\n",
              "    .dataframe tbody tr th {\n",
              "        vertical-align: top;\n",
              "    }\n",
              "\n",
              "    .dataframe thead th {\n",
              "        text-align: right;\n",
              "    }\n",
              "</style>\n",
              "<table border=\"1\" class=\"dataframe\">\n",
              "  <thead>\n",
              "    <tr style=\"text-align: right;\">\n",
              "      <th></th>\n",
              "      <th>Time_spent_Alone</th>\n",
              "      <th>Stage_fear</th>\n",
              "      <th>Social_event_attendance</th>\n",
              "      <th>Going_outside</th>\n",
              "      <th>Drained_after_socializing</th>\n",
              "      <th>Friends_circle_size</th>\n",
              "      <th>Post_frequency</th>\n",
              "      <th>Personality</th>\n",
              "    </tr>\n",
              "  </thead>\n",
              "  <tbody>\n",
              "    <tr>\n",
              "      <th>0</th>\n",
              "      <td>4.0</td>\n",
              "      <td>No</td>\n",
              "      <td>4.0</td>\n",
              "      <td>6.0</td>\n",
              "      <td>No</td>\n",
              "      <td>13.0</td>\n",
              "      <td>5.0</td>\n",
              "      <td>Extrovert</td>\n",
              "    </tr>\n",
              "    <tr>\n",
              "      <th>1</th>\n",
              "      <td>9.0</td>\n",
              "      <td>Yes</td>\n",
              "      <td>0.0</td>\n",
              "      <td>0.0</td>\n",
              "      <td>Yes</td>\n",
              "      <td>0.0</td>\n",
              "      <td>3.0</td>\n",
              "      <td>Introvert</td>\n",
              "    </tr>\n",
              "    <tr>\n",
              "      <th>2</th>\n",
              "      <td>9.0</td>\n",
              "      <td>Yes</td>\n",
              "      <td>1.0</td>\n",
              "      <td>2.0</td>\n",
              "      <td>Yes</td>\n",
              "      <td>5.0</td>\n",
              "      <td>2.0</td>\n",
              "      <td>Introvert</td>\n",
              "    </tr>\n",
              "    <tr>\n",
              "      <th>3</th>\n",
              "      <td>0.0</td>\n",
              "      <td>No</td>\n",
              "      <td>6.0</td>\n",
              "      <td>7.0</td>\n",
              "      <td>No</td>\n",
              "      <td>14.0</td>\n",
              "      <td>8.0</td>\n",
              "      <td>Extrovert</td>\n",
              "    </tr>\n",
              "    <tr>\n",
              "      <th>4</th>\n",
              "      <td>3.0</td>\n",
              "      <td>No</td>\n",
              "      <td>9.0</td>\n",
              "      <td>4.0</td>\n",
              "      <td>No</td>\n",
              "      <td>8.0</td>\n",
              "      <td>5.0</td>\n",
              "      <td>Extrovert</td>\n",
              "    </tr>\n",
              "  </tbody>\n",
              "</table>\n",
              "</div>\n",
              "    <div class=\"colab-df-buttons\">\n",
              "\n",
              "  <div class=\"colab-df-container\">\n",
              "    <button class=\"colab-df-convert\" onclick=\"convertToInteractive('df-8a5518d7-92cf-4ced-826f-544b01372f79')\"\n",
              "            title=\"Convert this dataframe to an interactive table.\"\n",
              "            style=\"display:none;\">\n",
              "\n",
              "  <svg xmlns=\"http://www.w3.org/2000/svg\" height=\"24px\" viewBox=\"0 -960 960 960\">\n",
              "    <path d=\"M120-120v-720h720v720H120Zm60-500h600v-160H180v160Zm220 220h160v-160H400v160Zm0 220h160v-160H400v160ZM180-400h160v-160H180v160Zm440 0h160v-160H620v160ZM180-180h160v-160H180v160Zm440 0h160v-160H620v160Z\"/>\n",
              "  </svg>\n",
              "    </button>\n",
              "\n",
              "  <style>\n",
              "    .colab-df-container {\n",
              "      display:flex;\n",
              "      gap: 12px;\n",
              "    }\n",
              "\n",
              "    .colab-df-convert {\n",
              "      background-color: #E8F0FE;\n",
              "      border: none;\n",
              "      border-radius: 50%;\n",
              "      cursor: pointer;\n",
              "      display: none;\n",
              "      fill: #1967D2;\n",
              "      height: 32px;\n",
              "      padding: 0 0 0 0;\n",
              "      width: 32px;\n",
              "    }\n",
              "\n",
              "    .colab-df-convert:hover {\n",
              "      background-color: #E2EBFA;\n",
              "      box-shadow: 0px 1px 2px rgba(60, 64, 67, 0.3), 0px 1px 3px 1px rgba(60, 64, 67, 0.15);\n",
              "      fill: #174EA6;\n",
              "    }\n",
              "\n",
              "    .colab-df-buttons div {\n",
              "      margin-bottom: 4px;\n",
              "    }\n",
              "\n",
              "    [theme=dark] .colab-df-convert {\n",
              "      background-color: #3B4455;\n",
              "      fill: #D2E3FC;\n",
              "    }\n",
              "\n",
              "    [theme=dark] .colab-df-convert:hover {\n",
              "      background-color: #434B5C;\n",
              "      box-shadow: 0px 1px 3px 1px rgba(0, 0, 0, 0.15);\n",
              "      filter: drop-shadow(0px 1px 2px rgba(0, 0, 0, 0.3));\n",
              "      fill: #FFFFFF;\n",
              "    }\n",
              "  </style>\n",
              "\n",
              "    <script>\n",
              "      const buttonEl =\n",
              "        document.querySelector('#df-8a5518d7-92cf-4ced-826f-544b01372f79 button.colab-df-convert');\n",
              "      buttonEl.style.display =\n",
              "        google.colab.kernel.accessAllowed ? 'block' : 'none';\n",
              "\n",
              "      async function convertToInteractive(key) {\n",
              "        const element = document.querySelector('#df-8a5518d7-92cf-4ced-826f-544b01372f79');\n",
              "        const dataTable =\n",
              "          await google.colab.kernel.invokeFunction('convertToInteractive',\n",
              "                                                    [key], {});\n",
              "        if (!dataTable) return;\n",
              "\n",
              "        const docLinkHtml = 'Like what you see? Visit the ' +\n",
              "          '<a target=\"_blank\" href=https://colab.research.google.com/notebooks/data_table.ipynb>data table notebook</a>'\n",
              "          + ' to learn more about interactive tables.';\n",
              "        element.innerHTML = '';\n",
              "        dataTable['output_type'] = 'display_data';\n",
              "        await google.colab.output.renderOutput(dataTable, element);\n",
              "        const docLink = document.createElement('div');\n",
              "        docLink.innerHTML = docLinkHtml;\n",
              "        element.appendChild(docLink);\n",
              "      }\n",
              "    </script>\n",
              "  </div>\n",
              "\n",
              "\n",
              "    <div id=\"df-a7ae7645-6a04-404d-8e62-a9a58ac780c9\">\n",
              "      <button class=\"colab-df-quickchart\" onclick=\"quickchart('df-a7ae7645-6a04-404d-8e62-a9a58ac780c9')\"\n",
              "                title=\"Suggest charts\"\n",
              "                style=\"display:none;\">\n",
              "\n",
              "<svg xmlns=\"http://www.w3.org/2000/svg\" height=\"24px\"viewBox=\"0 0 24 24\"\n",
              "     width=\"24px\">\n",
              "    <g>\n",
              "        <path d=\"M19 3H5c-1.1 0-2 .9-2 2v14c0 1.1.9 2 2 2h14c1.1 0 2-.9 2-2V5c0-1.1-.9-2-2-2zM9 17H7v-7h2v7zm4 0h-2V7h2v10zm4 0h-2v-4h2v4z\"/>\n",
              "    </g>\n",
              "</svg>\n",
              "      </button>\n",
              "\n",
              "<style>\n",
              "  .colab-df-quickchart {\n",
              "      --bg-color: #E8F0FE;\n",
              "      --fill-color: #1967D2;\n",
              "      --hover-bg-color: #E2EBFA;\n",
              "      --hover-fill-color: #174EA6;\n",
              "      --disabled-fill-color: #AAA;\n",
              "      --disabled-bg-color: #DDD;\n",
              "  }\n",
              "\n",
              "  [theme=dark] .colab-df-quickchart {\n",
              "      --bg-color: #3B4455;\n",
              "      --fill-color: #D2E3FC;\n",
              "      --hover-bg-color: #434B5C;\n",
              "      --hover-fill-color: #FFFFFF;\n",
              "      --disabled-bg-color: #3B4455;\n",
              "      --disabled-fill-color: #666;\n",
              "  }\n",
              "\n",
              "  .colab-df-quickchart {\n",
              "    background-color: var(--bg-color);\n",
              "    border: none;\n",
              "    border-radius: 50%;\n",
              "    cursor: pointer;\n",
              "    display: none;\n",
              "    fill: var(--fill-color);\n",
              "    height: 32px;\n",
              "    padding: 0;\n",
              "    width: 32px;\n",
              "  }\n",
              "\n",
              "  .colab-df-quickchart:hover {\n",
              "    background-color: var(--hover-bg-color);\n",
              "    box-shadow: 0 1px 2px rgba(60, 64, 67, 0.3), 0 1px 3px 1px rgba(60, 64, 67, 0.15);\n",
              "    fill: var(--button-hover-fill-color);\n",
              "  }\n",
              "\n",
              "  .colab-df-quickchart-complete:disabled,\n",
              "  .colab-df-quickchart-complete:disabled:hover {\n",
              "    background-color: var(--disabled-bg-color);\n",
              "    fill: var(--disabled-fill-color);\n",
              "    box-shadow: none;\n",
              "  }\n",
              "\n",
              "  .colab-df-spinner {\n",
              "    border: 2px solid var(--fill-color);\n",
              "    border-color: transparent;\n",
              "    border-bottom-color: var(--fill-color);\n",
              "    animation:\n",
              "      spin 1s steps(1) infinite;\n",
              "  }\n",
              "\n",
              "  @keyframes spin {\n",
              "    0% {\n",
              "      border-color: transparent;\n",
              "      border-bottom-color: var(--fill-color);\n",
              "      border-left-color: var(--fill-color);\n",
              "    }\n",
              "    20% {\n",
              "      border-color: transparent;\n",
              "      border-left-color: var(--fill-color);\n",
              "      border-top-color: var(--fill-color);\n",
              "    }\n",
              "    30% {\n",
              "      border-color: transparent;\n",
              "      border-left-color: var(--fill-color);\n",
              "      border-top-color: var(--fill-color);\n",
              "      border-right-color: var(--fill-color);\n",
              "    }\n",
              "    40% {\n",
              "      border-color: transparent;\n",
              "      border-right-color: var(--fill-color);\n",
              "      border-top-color: var(--fill-color);\n",
              "    }\n",
              "    60% {\n",
              "      border-color: transparent;\n",
              "      border-right-color: var(--fill-color);\n",
              "    }\n",
              "    80% {\n",
              "      border-color: transparent;\n",
              "      border-right-color: var(--fill-color);\n",
              "      border-bottom-color: var(--fill-color);\n",
              "    }\n",
              "    90% {\n",
              "      border-color: transparent;\n",
              "      border-bottom-color: var(--fill-color);\n",
              "    }\n",
              "  }\n",
              "</style>\n",
              "\n",
              "      <script>\n",
              "        async function quickchart(key) {\n",
              "          const quickchartButtonEl =\n",
              "            document.querySelector('#' + key + ' button');\n",
              "          quickchartButtonEl.disabled = true;  // To prevent multiple clicks.\n",
              "          quickchartButtonEl.classList.add('colab-df-spinner');\n",
              "          try {\n",
              "            const charts = await google.colab.kernel.invokeFunction(\n",
              "                'suggestCharts', [key], {});\n",
              "          } catch (error) {\n",
              "            console.error('Error during call to suggestCharts:', error);\n",
              "          }\n",
              "          quickchartButtonEl.classList.remove('colab-df-spinner');\n",
              "          quickchartButtonEl.classList.add('colab-df-quickchart-complete');\n",
              "        }\n",
              "        (() => {\n",
              "          let quickchartButtonEl =\n",
              "            document.querySelector('#df-a7ae7645-6a04-404d-8e62-a9a58ac780c9 button');\n",
              "          quickchartButtonEl.style.display =\n",
              "            google.colab.kernel.accessAllowed ? 'block' : 'none';\n",
              "        })();\n",
              "      </script>\n",
              "    </div>\n",
              "\n",
              "    </div>\n",
              "  </div>\n"
            ],
            "application/vnd.google.colaboratory.intrinsic+json": {
              "type": "dataframe",
              "variable_name": "df_personality",
              "summary": "{\n  \"name\": \"df_personality\",\n  \"rows\": 2900,\n  \"fields\": [\n    {\n      \"column\": \"Time_spent_Alone\",\n      \"properties\": {\n        \"dtype\": \"number\",\n        \"std\": 3.4791923314542723,\n        \"min\": 0.0,\n        \"max\": 11.0,\n        \"num_unique_values\": 12,\n        \"samples\": [\n          7.0,\n          8.0,\n          4.0\n        ],\n        \"semantic_type\": \"\",\n        \"description\": \"\"\n      }\n    },\n    {\n      \"column\": \"Stage_fear\",\n      \"properties\": {\n        \"dtype\": \"category\",\n        \"num_unique_values\": 2,\n        \"samples\": [\n          \"Yes\",\n          \"No\"\n        ],\n        \"semantic_type\": \"\",\n        \"description\": \"\"\n      }\n    },\n    {\n      \"column\": \"Social_event_attendance\",\n      \"properties\": {\n        \"dtype\": \"number\",\n        \"std\": 2.9038273374964385,\n        \"min\": 0.0,\n        \"max\": 10.0,\n        \"num_unique_values\": 11,\n        \"samples\": [\n          7.0,\n          4.0\n        ],\n        \"semantic_type\": \"\",\n        \"description\": \"\"\n      }\n    },\n    {\n      \"column\": \"Going_outside\",\n      \"properties\": {\n        \"dtype\": \"number\",\n        \"std\": 2.247326528711436,\n        \"min\": 0.0,\n        \"max\": 7.0,\n        \"num_unique_values\": 8,\n        \"samples\": [\n          0.0,\n          5.0\n        ],\n        \"semantic_type\": \"\",\n        \"description\": \"\"\n      }\n    },\n    {\n      \"column\": \"Drained_after_socializing\",\n      \"properties\": {\n        \"dtype\": \"category\",\n        \"num_unique_values\": 2,\n        \"samples\": [\n          \"Yes\",\n          \"No\"\n        ],\n        \"semantic_type\": \"\",\n        \"description\": \"\"\n      }\n    },\n    {\n      \"column\": \"Friends_circle_size\",\n      \"properties\": {\n        \"dtype\": \"number\",\n        \"std\": 4.289692830709239,\n        \"min\": 0.0,\n        \"max\": 15.0,\n        \"num_unique_values\": 16,\n        \"samples\": [\n          13.0,\n          0.0\n        ],\n        \"semantic_type\": \"\",\n        \"description\": \"\"\n      }\n    },\n    {\n      \"column\": \"Post_frequency\",\n      \"properties\": {\n        \"dtype\": \"number\",\n        \"std\": 2.926581789039728,\n        \"min\": 0.0,\n        \"max\": 10.0,\n        \"num_unique_values\": 11,\n        \"samples\": [\n          7.0,\n          5.0\n        ],\n        \"semantic_type\": \"\",\n        \"description\": \"\"\n      }\n    },\n    {\n      \"column\": \"Personality\",\n      \"properties\": {\n        \"dtype\": \"category\",\n        \"num_unique_values\": 2,\n        \"samples\": [\n          \"Introvert\",\n          \"Extrovert\"\n        ],\n        \"semantic_type\": \"\",\n        \"description\": \"\"\n      }\n    }\n  ]\n}"
            }
          },
          "metadata": {},
          "execution_count": 11
        }
      ]
    },
    {
      "cell_type": "markdown",
      "source": [
        "# Análise de Dados\n",
        "\n",
        "Na etapa de análise de dados exploratória (EDA), vamos uma buscar uma visão geral do dataset personality e tentar entender padrões, correlações e características das variáveis ou qualquer observação decorrente dessa própria análise."
      ],
      "metadata": {
        "id": "XcHpQ9s_B4n1"
      }
    },
    {
      "cell_type": "markdown",
      "source": [
        "\n",
        "\n",
        "---\n",
        "\n"
      ],
      "metadata": {
        "id": "o9dsIB4TqX7r"
      }
    },
    {
      "cell_type": "markdown",
      "source": [
        "Para agilizar o raciocínio, vou traduzir o nome das colunas para português."
      ],
      "metadata": {
        "id": "9m8SvRrsqc27"
      }
    },
    {
      "cell_type": "code",
      "source": [
        "# Exibindo nomes atuais das colunas no dataframe df_personality\n",
        "df_personality.columns"
      ],
      "metadata": {
        "id": "TGRfnrP22-BG",
        "colab": {
          "base_uri": "https://localhost:8080/"
        },
        "outputId": "7302501a-3c68-4f0c-f300-4a7304e0787e"
      },
      "execution_count": 12,
      "outputs": [
        {
          "output_type": "execute_result",
          "data": {
            "text/plain": [
              "Index(['Time_spent_Alone', 'Stage_fear', 'Social_event_attendance',\n",
              "       'Going_outside', 'Drained_after_socializing', 'Friends_circle_size',\n",
              "       'Post_frequency', 'Personality'],\n",
              "      dtype='object')"
            ]
          },
          "metadata": {},
          "execution_count": 12
        }
      ]
    },
    {
      "cell_type": "code",
      "source": [
        "# Criando um dataframe df_personalidade renomeando as colunas traduzidas\n",
        "df_personalidade = df_personality.rename(columns={\n",
        "    'Time_spent_Alone': 'tempo_sozinho',\n",
        "    'Stage_fear': 'medo_em_publico',\n",
        "    'Social_event_attendance': 'presenca_eventos_sociais',\n",
        "    'Going_outside': 'eventos_externos',\n",
        "    'Drained_after_socializing': 'esgotado_apos_socializar',\n",
        "    'Friends_circle_size': 'circulo_de_amigos',\n",
        "    'Post_frequency': 'frequencia_de_postagens',\n",
        "    'Personality': 'personalidade'\n",
        "})"
      ],
      "metadata": {
        "id": "n2pcgfxA1VYb"
      },
      "execution_count": 13,
      "outputs": []
    },
    {
      "cell_type": "code",
      "source": [
        "# Exibindo primeiras linhas do novo dataframe\n",
        "df_personalidade.head()"
      ],
      "metadata": {
        "id": "iDxI9KVlroId",
        "colab": {
          "base_uri": "https://localhost:8080/",
          "height": 226
        },
        "outputId": "a30368c8-e325-4ac8-86eb-a88e0fae9019"
      },
      "execution_count": 14,
      "outputs": [
        {
          "output_type": "execute_result",
          "data": {
            "text/plain": [
              "   tempo_sozinho medo_em_publico  presenca_eventos_sociais  eventos_externos  \\\n",
              "0            4.0              No                       4.0               6.0   \n",
              "1            9.0             Yes                       0.0               0.0   \n",
              "2            9.0             Yes                       1.0               2.0   \n",
              "3            0.0              No                       6.0               7.0   \n",
              "4            3.0              No                       9.0               4.0   \n",
              "\n",
              "  esgotado_apos_socializar  circulo_de_amigos  frequencia_de_postagens  \\\n",
              "0                       No               13.0                      5.0   \n",
              "1                      Yes                0.0                      3.0   \n",
              "2                      Yes                5.0                      2.0   \n",
              "3                       No               14.0                      8.0   \n",
              "4                       No                8.0                      5.0   \n",
              "\n",
              "  personalidade  \n",
              "0     Extrovert  \n",
              "1     Introvert  \n",
              "2     Introvert  \n",
              "3     Extrovert  \n",
              "4     Extrovert  "
            ],
            "text/html": [
              "\n",
              "  <div id=\"df-945ce5cb-1fb3-44eb-bd9f-a7e2cf78c7fe\" class=\"colab-df-container\">\n",
              "    <div>\n",
              "<style scoped>\n",
              "    .dataframe tbody tr th:only-of-type {\n",
              "        vertical-align: middle;\n",
              "    }\n",
              "\n",
              "    .dataframe tbody tr th {\n",
              "        vertical-align: top;\n",
              "    }\n",
              "\n",
              "    .dataframe thead th {\n",
              "        text-align: right;\n",
              "    }\n",
              "</style>\n",
              "<table border=\"1\" class=\"dataframe\">\n",
              "  <thead>\n",
              "    <tr style=\"text-align: right;\">\n",
              "      <th></th>\n",
              "      <th>tempo_sozinho</th>\n",
              "      <th>medo_em_publico</th>\n",
              "      <th>presenca_eventos_sociais</th>\n",
              "      <th>eventos_externos</th>\n",
              "      <th>esgotado_apos_socializar</th>\n",
              "      <th>circulo_de_amigos</th>\n",
              "      <th>frequencia_de_postagens</th>\n",
              "      <th>personalidade</th>\n",
              "    </tr>\n",
              "  </thead>\n",
              "  <tbody>\n",
              "    <tr>\n",
              "      <th>0</th>\n",
              "      <td>4.0</td>\n",
              "      <td>No</td>\n",
              "      <td>4.0</td>\n",
              "      <td>6.0</td>\n",
              "      <td>No</td>\n",
              "      <td>13.0</td>\n",
              "      <td>5.0</td>\n",
              "      <td>Extrovert</td>\n",
              "    </tr>\n",
              "    <tr>\n",
              "      <th>1</th>\n",
              "      <td>9.0</td>\n",
              "      <td>Yes</td>\n",
              "      <td>0.0</td>\n",
              "      <td>0.0</td>\n",
              "      <td>Yes</td>\n",
              "      <td>0.0</td>\n",
              "      <td>3.0</td>\n",
              "      <td>Introvert</td>\n",
              "    </tr>\n",
              "    <tr>\n",
              "      <th>2</th>\n",
              "      <td>9.0</td>\n",
              "      <td>Yes</td>\n",
              "      <td>1.0</td>\n",
              "      <td>2.0</td>\n",
              "      <td>Yes</td>\n",
              "      <td>5.0</td>\n",
              "      <td>2.0</td>\n",
              "      <td>Introvert</td>\n",
              "    </tr>\n",
              "    <tr>\n",
              "      <th>3</th>\n",
              "      <td>0.0</td>\n",
              "      <td>No</td>\n",
              "      <td>6.0</td>\n",
              "      <td>7.0</td>\n",
              "      <td>No</td>\n",
              "      <td>14.0</td>\n",
              "      <td>8.0</td>\n",
              "      <td>Extrovert</td>\n",
              "    </tr>\n",
              "    <tr>\n",
              "      <th>4</th>\n",
              "      <td>3.0</td>\n",
              "      <td>No</td>\n",
              "      <td>9.0</td>\n",
              "      <td>4.0</td>\n",
              "      <td>No</td>\n",
              "      <td>8.0</td>\n",
              "      <td>5.0</td>\n",
              "      <td>Extrovert</td>\n",
              "    </tr>\n",
              "  </tbody>\n",
              "</table>\n",
              "</div>\n",
              "    <div class=\"colab-df-buttons\">\n",
              "\n",
              "  <div class=\"colab-df-container\">\n",
              "    <button class=\"colab-df-convert\" onclick=\"convertToInteractive('df-945ce5cb-1fb3-44eb-bd9f-a7e2cf78c7fe')\"\n",
              "            title=\"Convert this dataframe to an interactive table.\"\n",
              "            style=\"display:none;\">\n",
              "\n",
              "  <svg xmlns=\"http://www.w3.org/2000/svg\" height=\"24px\" viewBox=\"0 -960 960 960\">\n",
              "    <path d=\"M120-120v-720h720v720H120Zm60-500h600v-160H180v160Zm220 220h160v-160H400v160Zm0 220h160v-160H400v160ZM180-400h160v-160H180v160Zm440 0h160v-160H620v160ZM180-180h160v-160H180v160Zm440 0h160v-160H620v160Z\"/>\n",
              "  </svg>\n",
              "    </button>\n",
              "\n",
              "  <style>\n",
              "    .colab-df-container {\n",
              "      display:flex;\n",
              "      gap: 12px;\n",
              "    }\n",
              "\n",
              "    .colab-df-convert {\n",
              "      background-color: #E8F0FE;\n",
              "      border: none;\n",
              "      border-radius: 50%;\n",
              "      cursor: pointer;\n",
              "      display: none;\n",
              "      fill: #1967D2;\n",
              "      height: 32px;\n",
              "      padding: 0 0 0 0;\n",
              "      width: 32px;\n",
              "    }\n",
              "\n",
              "    .colab-df-convert:hover {\n",
              "      background-color: #E2EBFA;\n",
              "      box-shadow: 0px 1px 2px rgba(60, 64, 67, 0.3), 0px 1px 3px 1px rgba(60, 64, 67, 0.15);\n",
              "      fill: #174EA6;\n",
              "    }\n",
              "\n",
              "    .colab-df-buttons div {\n",
              "      margin-bottom: 4px;\n",
              "    }\n",
              "\n",
              "    [theme=dark] .colab-df-convert {\n",
              "      background-color: #3B4455;\n",
              "      fill: #D2E3FC;\n",
              "    }\n",
              "\n",
              "    [theme=dark] .colab-df-convert:hover {\n",
              "      background-color: #434B5C;\n",
              "      box-shadow: 0px 1px 3px 1px rgba(0, 0, 0, 0.15);\n",
              "      filter: drop-shadow(0px 1px 2px rgba(0, 0, 0, 0.3));\n",
              "      fill: #FFFFFF;\n",
              "    }\n",
              "  </style>\n",
              "\n",
              "    <script>\n",
              "      const buttonEl =\n",
              "        document.querySelector('#df-945ce5cb-1fb3-44eb-bd9f-a7e2cf78c7fe button.colab-df-convert');\n",
              "      buttonEl.style.display =\n",
              "        google.colab.kernel.accessAllowed ? 'block' : 'none';\n",
              "\n",
              "      async function convertToInteractive(key) {\n",
              "        const element = document.querySelector('#df-945ce5cb-1fb3-44eb-bd9f-a7e2cf78c7fe');\n",
              "        const dataTable =\n",
              "          await google.colab.kernel.invokeFunction('convertToInteractive',\n",
              "                                                    [key], {});\n",
              "        if (!dataTable) return;\n",
              "\n",
              "        const docLinkHtml = 'Like what you see? Visit the ' +\n",
              "          '<a target=\"_blank\" href=https://colab.research.google.com/notebooks/data_table.ipynb>data table notebook</a>'\n",
              "          + ' to learn more about interactive tables.';\n",
              "        element.innerHTML = '';\n",
              "        dataTable['output_type'] = 'display_data';\n",
              "        await google.colab.output.renderOutput(dataTable, element);\n",
              "        const docLink = document.createElement('div');\n",
              "        docLink.innerHTML = docLinkHtml;\n",
              "        element.appendChild(docLink);\n",
              "      }\n",
              "    </script>\n",
              "  </div>\n",
              "\n",
              "\n",
              "    <div id=\"df-ddde4ac8-3be9-41a4-bb7b-debb38ee36d6\">\n",
              "      <button class=\"colab-df-quickchart\" onclick=\"quickchart('df-ddde4ac8-3be9-41a4-bb7b-debb38ee36d6')\"\n",
              "                title=\"Suggest charts\"\n",
              "                style=\"display:none;\">\n",
              "\n",
              "<svg xmlns=\"http://www.w3.org/2000/svg\" height=\"24px\"viewBox=\"0 0 24 24\"\n",
              "     width=\"24px\">\n",
              "    <g>\n",
              "        <path d=\"M19 3H5c-1.1 0-2 .9-2 2v14c0 1.1.9 2 2 2h14c1.1 0 2-.9 2-2V5c0-1.1-.9-2-2-2zM9 17H7v-7h2v7zm4 0h-2V7h2v10zm4 0h-2v-4h2v4z\"/>\n",
              "    </g>\n",
              "</svg>\n",
              "      </button>\n",
              "\n",
              "<style>\n",
              "  .colab-df-quickchart {\n",
              "      --bg-color: #E8F0FE;\n",
              "      --fill-color: #1967D2;\n",
              "      --hover-bg-color: #E2EBFA;\n",
              "      --hover-fill-color: #174EA6;\n",
              "      --disabled-fill-color: #AAA;\n",
              "      --disabled-bg-color: #DDD;\n",
              "  }\n",
              "\n",
              "  [theme=dark] .colab-df-quickchart {\n",
              "      --bg-color: #3B4455;\n",
              "      --fill-color: #D2E3FC;\n",
              "      --hover-bg-color: #434B5C;\n",
              "      --hover-fill-color: #FFFFFF;\n",
              "      --disabled-bg-color: #3B4455;\n",
              "      --disabled-fill-color: #666;\n",
              "  }\n",
              "\n",
              "  .colab-df-quickchart {\n",
              "    background-color: var(--bg-color);\n",
              "    border: none;\n",
              "    border-radius: 50%;\n",
              "    cursor: pointer;\n",
              "    display: none;\n",
              "    fill: var(--fill-color);\n",
              "    height: 32px;\n",
              "    padding: 0;\n",
              "    width: 32px;\n",
              "  }\n",
              "\n",
              "  .colab-df-quickchart:hover {\n",
              "    background-color: var(--hover-bg-color);\n",
              "    box-shadow: 0 1px 2px rgba(60, 64, 67, 0.3), 0 1px 3px 1px rgba(60, 64, 67, 0.15);\n",
              "    fill: var(--button-hover-fill-color);\n",
              "  }\n",
              "\n",
              "  .colab-df-quickchart-complete:disabled,\n",
              "  .colab-df-quickchart-complete:disabled:hover {\n",
              "    background-color: var(--disabled-bg-color);\n",
              "    fill: var(--disabled-fill-color);\n",
              "    box-shadow: none;\n",
              "  }\n",
              "\n",
              "  .colab-df-spinner {\n",
              "    border: 2px solid var(--fill-color);\n",
              "    border-color: transparent;\n",
              "    border-bottom-color: var(--fill-color);\n",
              "    animation:\n",
              "      spin 1s steps(1) infinite;\n",
              "  }\n",
              "\n",
              "  @keyframes spin {\n",
              "    0% {\n",
              "      border-color: transparent;\n",
              "      border-bottom-color: var(--fill-color);\n",
              "      border-left-color: var(--fill-color);\n",
              "    }\n",
              "    20% {\n",
              "      border-color: transparent;\n",
              "      border-left-color: var(--fill-color);\n",
              "      border-top-color: var(--fill-color);\n",
              "    }\n",
              "    30% {\n",
              "      border-color: transparent;\n",
              "      border-left-color: var(--fill-color);\n",
              "      border-top-color: var(--fill-color);\n",
              "      border-right-color: var(--fill-color);\n",
              "    }\n",
              "    40% {\n",
              "      border-color: transparent;\n",
              "      border-right-color: var(--fill-color);\n",
              "      border-top-color: var(--fill-color);\n",
              "    }\n",
              "    60% {\n",
              "      border-color: transparent;\n",
              "      border-right-color: var(--fill-color);\n",
              "    }\n",
              "    80% {\n",
              "      border-color: transparent;\n",
              "      border-right-color: var(--fill-color);\n",
              "      border-bottom-color: var(--fill-color);\n",
              "    }\n",
              "    90% {\n",
              "      border-color: transparent;\n",
              "      border-bottom-color: var(--fill-color);\n",
              "    }\n",
              "  }\n",
              "</style>\n",
              "\n",
              "      <script>\n",
              "        async function quickchart(key) {\n",
              "          const quickchartButtonEl =\n",
              "            document.querySelector('#' + key + ' button');\n",
              "          quickchartButtonEl.disabled = true;  // To prevent multiple clicks.\n",
              "          quickchartButtonEl.classList.add('colab-df-spinner');\n",
              "          try {\n",
              "            const charts = await google.colab.kernel.invokeFunction(\n",
              "                'suggestCharts', [key], {});\n",
              "          } catch (error) {\n",
              "            console.error('Error during call to suggestCharts:', error);\n",
              "          }\n",
              "          quickchartButtonEl.classList.remove('colab-df-spinner');\n",
              "          quickchartButtonEl.classList.add('colab-df-quickchart-complete');\n",
              "        }\n",
              "        (() => {\n",
              "          let quickchartButtonEl =\n",
              "            document.querySelector('#df-ddde4ac8-3be9-41a4-bb7b-debb38ee36d6 button');\n",
              "          quickchartButtonEl.style.display =\n",
              "            google.colab.kernel.accessAllowed ? 'block' : 'none';\n",
              "        })();\n",
              "      </script>\n",
              "    </div>\n",
              "\n",
              "    </div>\n",
              "  </div>\n"
            ],
            "application/vnd.google.colaboratory.intrinsic+json": {
              "type": "dataframe",
              "variable_name": "df_personalidade",
              "summary": "{\n  \"name\": \"df_personalidade\",\n  \"rows\": 2900,\n  \"fields\": [\n    {\n      \"column\": \"tempo_sozinho\",\n      \"properties\": {\n        \"dtype\": \"number\",\n        \"std\": 3.4791923314542723,\n        \"min\": 0.0,\n        \"max\": 11.0,\n        \"num_unique_values\": 12,\n        \"samples\": [\n          7.0,\n          8.0,\n          4.0\n        ],\n        \"semantic_type\": \"\",\n        \"description\": \"\"\n      }\n    },\n    {\n      \"column\": \"medo_em_publico\",\n      \"properties\": {\n        \"dtype\": \"category\",\n        \"num_unique_values\": 2,\n        \"samples\": [\n          \"Yes\",\n          \"No\"\n        ],\n        \"semantic_type\": \"\",\n        \"description\": \"\"\n      }\n    },\n    {\n      \"column\": \"presenca_eventos_sociais\",\n      \"properties\": {\n        \"dtype\": \"number\",\n        \"std\": 2.9038273374964385,\n        \"min\": 0.0,\n        \"max\": 10.0,\n        \"num_unique_values\": 11,\n        \"samples\": [\n          7.0,\n          4.0\n        ],\n        \"semantic_type\": \"\",\n        \"description\": \"\"\n      }\n    },\n    {\n      \"column\": \"eventos_externos\",\n      \"properties\": {\n        \"dtype\": \"number\",\n        \"std\": 2.247326528711436,\n        \"min\": 0.0,\n        \"max\": 7.0,\n        \"num_unique_values\": 8,\n        \"samples\": [\n          0.0,\n          5.0\n        ],\n        \"semantic_type\": \"\",\n        \"description\": \"\"\n      }\n    },\n    {\n      \"column\": \"esgotado_apos_socializar\",\n      \"properties\": {\n        \"dtype\": \"category\",\n        \"num_unique_values\": 2,\n        \"samples\": [\n          \"Yes\",\n          \"No\"\n        ],\n        \"semantic_type\": \"\",\n        \"description\": \"\"\n      }\n    },\n    {\n      \"column\": \"circulo_de_amigos\",\n      \"properties\": {\n        \"dtype\": \"number\",\n        \"std\": 4.289692830709239,\n        \"min\": 0.0,\n        \"max\": 15.0,\n        \"num_unique_values\": 16,\n        \"samples\": [\n          13.0,\n          0.0\n        ],\n        \"semantic_type\": \"\",\n        \"description\": \"\"\n      }\n    },\n    {\n      \"column\": \"frequencia_de_postagens\",\n      \"properties\": {\n        \"dtype\": \"number\",\n        \"std\": 2.926581789039728,\n        \"min\": 0.0,\n        \"max\": 10.0,\n        \"num_unique_values\": 11,\n        \"samples\": [\n          7.0,\n          5.0\n        ],\n        \"semantic_type\": \"\",\n        \"description\": \"\"\n      }\n    },\n    {\n      \"column\": \"personalidade\",\n      \"properties\": {\n        \"dtype\": \"category\",\n        \"num_unique_values\": 2,\n        \"samples\": [\n          \"Introvert\",\n          \"Extrovert\"\n        ],\n        \"semantic_type\": \"\",\n        \"description\": \"\"\n      }\n    }\n  ]\n}"
            }
          },
          "metadata": {},
          "execution_count": 14
        }
      ]
    },
    {
      "cell_type": "markdown",
      "source": [
        "## Total e Tipo das Instâncias\n",
        "\n"
      ],
      "metadata": {
        "id": "5kuan1F5EA8J"
      }
    },
    {
      "cell_type": "code",
      "source": [
        "df_personalidade.info()"
      ],
      "metadata": {
        "id": "3HB_V7uZykG4",
        "colab": {
          "base_uri": "https://localhost:8080/"
        },
        "outputId": "3ef6e345-5a00-4cef-e0ab-41452aa01ea9"
      },
      "execution_count": 15,
      "outputs": [
        {
          "output_type": "stream",
          "name": "stdout",
          "text": [
            "<class 'pandas.core.frame.DataFrame'>\n",
            "RangeIndex: 2900 entries, 0 to 2899\n",
            "Data columns (total 8 columns):\n",
            " #   Column                    Non-Null Count  Dtype  \n",
            "---  ------                    --------------  -----  \n",
            " 0   tempo_sozinho             2837 non-null   float64\n",
            " 1   medo_em_publico           2827 non-null   object \n",
            " 2   presenca_eventos_sociais  2838 non-null   float64\n",
            " 3   eventos_externos          2834 non-null   float64\n",
            " 4   esgotado_apos_socializar  2848 non-null   object \n",
            " 5   circulo_de_amigos         2823 non-null   float64\n",
            " 6   frequencia_de_postagens   2835 non-null   float64\n",
            " 7   personalidade             2900 non-null   object \n",
            "dtypes: float64(5), object(3)\n",
            "memory usage: 181.4+ KB\n"
          ]
        }
      ]
    },
    {
      "cell_type": "markdown",
      "source": [
        "O dataset personality possui 2900 instâncias, definidas pelos atributos numéricos ( tempo_sozinho, presenca_eventos_sociais,  eventos_externos, circulo_de_amigos e frequencia_de_postagens)  e categóricos (medo_em_publico, esgotado_apos_socializar e personalidade ).\n",
        "\n",
        "\n",
        "\n",
        "---\n",
        "\n"
      ],
      "metadata": {
        "id": "RIKIbdyd2vjd"
      }
    },
    {
      "cell_type": "code",
      "source": [
        "# Analisando balanceamento da classe personalidade\n",
        "df_personalidade['personalidade'].value_counts().plot(kind='bar')\n",
        "plt.title('Gráfico 1 - Distribuição de Personalidade')\n",
        "plt.xlabel('Tipo de personalidade')\n",
        "plt.ylabel('Contagem')\n",
        "plt.show()\n",
        "\n",
        "df_personalidade['personalidade'].value_counts()"
      ],
      "metadata": {
        "id": "NKhNZJSYHUQu",
        "colab": {
          "base_uri": "https://localhost:8080/",
          "height": 684
        },
        "outputId": "73919ad5-ff06-45df-951b-3e3e3a9d1af0"
      },
      "execution_count": 16,
      "outputs": [
        {
          "output_type": "display_data",
          "data": {
            "text/plain": [
              "<Figure size 640x480 with 1 Axes>"
            ],
            "image/png": "[encoded data removed]"
          },
          "metadata": {}
        },
        {
          "output_type": "execute_result",
          "data": {
            "text/plain": [
              "personalidade\n",
              "Extrovert    1491\n",
              "Introvert    1409\n",
              "Name: count, dtype: int64"
            ],
            "text/html": [
              "<div>\n",
              "<style scoped>\n",
              "    .dataframe tbody tr th:only-of-type {\n",
              "        vertical-align: middle;\n",
              "    }\n",
              "\n",
              "    .dataframe tbody tr th {\n",
              "        vertical-align: top;\n",
              "    }\n",
              "\n",
              "    .dataframe thead th {\n",
              "        text-align: right;\n",
              "    }\n",
              "</style>\n",
              "<table border=\"1\" class=\"dataframe\">\n",
              "  <thead>\n",
              "    <tr style=\"text-align: right;\">\n",
              "      <th></th>\n",
              "      <th>count</th>\n",
              "    </tr>\n",
              "    <tr>\n",
              "      <th>personalidade</th>\n",
              "      <th></th>\n",
              "    </tr>\n",
              "  </thead>\n",
              "  <tbody>\n",
              "    <tr>\n",
              "      <th>Extrovert</th>\n",
              "      <td>1491</td>\n",
              "    </tr>\n",
              "    <tr>\n",
              "      <th>Introvert</th>\n",
              "      <td>1409</td>\n",
              "    </tr>\n",
              "  </tbody>\n",
              "</table>\n",
              "</div><br><label><b>dtype:</b> int64</label>"
            ]
          },
          "metadata": {},
          "execution_count": 16
        }
      ]
    },
    {
      "cell_type": "markdown",
      "source": [
        "O **Gráfico 1** mostra a distribuição balanceada com aproximadamente 50% de registros para cada uma das duas classificações (introverted, extroverted)   sendo 1491 classificados com extroverted e 1409, como introverted.\n",
        "\n",
        "\n",
        "\n",
        "---\n"
      ],
      "metadata": {
        "id": "5VVAMJ3MHKVe"
      }
    },
    {
      "cell_type": "markdown",
      "source": [
        "## Estatísticas Descritivas\n",
        "\n"
      ],
      "metadata": {
        "id": "M-bS4g_ECPoP"
      }
    },
    {
      "cell_type": "code",
      "source": [
        "# estatísticas descritivas básicas do dataset\n",
        "df_personalidade.describe()"
      ],
      "metadata": {
        "id": "fTCOuOolC_rG",
        "colab": {
          "base_uri": "https://localhost:8080/",
          "height": 300
        },
        "outputId": "2e395528-5884-4279-fcf9-7b5670419d62"
      },
      "execution_count": 17,
      "outputs": [
        {
          "output_type": "execute_result",
          "data": {
            "text/plain": [
              "       tempo_sozinho  presenca_eventos_sociais  eventos_externos  \\\n",
              "count    2837.000000               2838.000000       2834.000000   \n",
              "mean        4.505816                  3.963354          3.000000   \n",
              "std         3.479192                  2.903827          2.247327   \n",
              "min         0.000000                  0.000000          0.000000   \n",
              "25%         2.000000                  2.000000          1.000000   \n",
              "50%         4.000000                  3.000000          3.000000   \n",
              "75%         8.000000                  6.000000          5.000000   \n",
              "max        11.000000                 10.000000          7.000000   \n",
              "\n",
              "       circulo_de_amigos  frequencia_de_postagens  \n",
              "count        2823.000000              2835.000000  \n",
              "mean            6.268863                 3.564727  \n",
              "std             4.289693                 2.926582  \n",
              "min             0.000000                 0.000000  \n",
              "25%             3.000000                 1.000000  \n",
              "50%             5.000000                 3.000000  \n",
              "75%            10.000000                 6.000000  \n",
              "max            15.000000                10.000000  "
            ],
            "text/html": [
              "\n",
              "  <div id=\"df-f6bde29c-ec21-4546-a423-bd977736a1aa\" class=\"colab-df-container\">\n",
              "    <div>\n",
              "<style scoped>\n",
              "    .dataframe tbody tr th:only-of-type {\n",
              "        vertical-align: middle;\n",
              "    }\n",
              "\n",
              "    .dataframe tbody tr th {\n",
              "        vertical-align: top;\n",
              "    }\n",
              "\n",
              "    .dataframe thead th {\n",
              "        text-align: right;\n",
              "    }\n",
              "</style>\n",
              "<table border=\"1\" class=\"dataframe\">\n",
              "  <thead>\n",
              "    <tr style=\"text-align: right;\">\n",
              "      <th></th>\n",
              "      <th>tempo_sozinho</th>\n",
              "      <th>presenca_eventos_sociais</th>\n",
              "      <th>eventos_externos</th>\n",
              "      <th>circulo_de_amigos</th>\n",
              "      <th>frequencia_de_postagens</th>\n",
              "    </tr>\n",
              "  </thead>\n",
              "  <tbody>\n",
              "    <tr>\n",
              "      <th>count</th>\n",
              "      <td>2837.000000</td>\n",
              "      <td>2838.000000</td>\n",
              "      <td>2834.000000</td>\n",
              "      <td>2823.000000</td>\n",
              "      <td>2835.000000</td>\n",
              "    </tr>\n",
              "    <tr>\n",
              "      <th>mean</th>\n",
              "      <td>4.505816</td>\n",
              "      <td>3.963354</td>\n",
              "      <td>3.000000</td>\n",
              "      <td>6.268863</td>\n",
              "      <td>3.564727</td>\n",
              "    </tr>\n",
              "    <tr>\n",
              "      <th>std</th>\n",
              "      <td>3.479192</td>\n",
              "      <td>2.903827</td>\n",
              "      <td>2.247327</td>\n",
              "      <td>4.289693</td>\n",
              "      <td>2.926582</td>\n",
              "    </tr>\n",
              "    <tr>\n",
              "      <th>min</th>\n",
              "      <td>0.000000</td>\n",
              "      <td>0.000000</td>\n",
              "      <td>0.000000</td>\n",
              "      <td>0.000000</td>\n",
              "      <td>0.000000</td>\n",
              "    </tr>\n",
              "    <tr>\n",
              "      <th>25%</th>\n",
              "      <td>2.000000</td>\n",
              "      <td>2.000000</td>\n",
              "      <td>1.000000</td>\n",
              "      <td>3.000000</td>\n",
              "      <td>1.000000</td>\n",
              "    </tr>\n",
              "    <tr>\n",
              "      <th>50%</th>\n",
              "      <td>4.000000</td>\n",
              "      <td>3.000000</td>\n",
              "      <td>3.000000</td>\n",
              "      <td>5.000000</td>\n",
              "      <td>3.000000</td>\n",
              "    </tr>\n",
              "    <tr>\n",
              "      <th>75%</th>\n",
              "      <td>8.000000</td>\n",
              "      <td>6.000000</td>\n",
              "      <td>5.000000</td>\n",
              "      <td>10.000000</td>\n",
              "      <td>6.000000</td>\n",
              "    </tr>\n",
              "    <tr>\n",
              "      <th>max</th>\n",
              "      <td>11.000000</td>\n",
              "      <td>10.000000</td>\n",
              "      <td>7.000000</td>\n",
              "      <td>15.000000</td>\n",
              "      <td>10.000000</td>\n",
              "    </tr>\n",
              "  </tbody>\n",
              "</table>\n",
              "</div>\n",
              "    <div class=\"colab-df-buttons\">\n",
              "\n",
              "  <div class=\"colab-df-container\">\n",
              "    <button class=\"colab-df-convert\" onclick=\"convertToInteractive('df-f6bde29c-ec21-4546-a423-bd977736a1aa')\"\n",
              "            title=\"Convert this dataframe to an interactive table.\"\n",
              "            style=\"display:none;\">\n",
              "\n",
              "  <svg xmlns=\"http://www.w3.org/2000/svg\" height=\"24px\" viewBox=\"0 -960 960 960\">\n",
              "    <path d=\"M120-120v-720h720v720H120Zm60-500h600v-160H180v160Zm220 220h160v-160H400v160Zm0 220h160v-160H400v160ZM180-400h160v-160H180v160Zm440 0h160v-160H620v160ZM180-180h160v-160H180v160Zm440 0h160v-160H620v160Z\"/>\n",
              "  </svg>\n",
              "    </button>\n",
              "\n",
              "  <style>\n",
              "    .colab-df-container {\n",
              "      display:flex;\n",
              "      gap: 12px;\n",
              "    }\n",
              "\n",
              "    .colab-df-convert {\n",
              "      background-color: #E8F0FE;\n",
              "      border: none;\n",
              "      border-radius: 50%;\n",
              "      cursor: pointer;\n",
              "      display: none;\n",
              "      fill: #1967D2;\n",
              "      height: 32px;\n",
              "      padding: 0 0 0 0;\n",
              "      width: 32px;\n",
              "    }\n",
              "\n",
              "    .colab-df-convert:hover {\n",
              "      background-color: #E2EBFA;\n",
              "      box-shadow: 0px 1px 2px rgba(60, 64, 67, 0.3), 0px 1px 3px 1px rgba(60, 64, 67, 0.15);\n",
              "      fill: #174EA6;\n",
              "    }\n",
              "\n",
              "    .colab-df-buttons div {\n",
              "      margin-bottom: 4px;\n",
              "    }\n",
              "\n",
              "    [theme=dark] .colab-df-convert {\n",
              "      background-color: #3B4455;\n",
              "      fill: #D2E3FC;\n",
              "    }\n",
              "\n",
              "    [theme=dark] .colab-df-convert:hover {\n",
              "      background-color: #434B5C;\n",
              "      box-shadow: 0px 1px 3px 1px rgba(0, 0, 0, 0.15);\n",
              "      filter: drop-shadow(0px 1px 2px rgba(0, 0, 0, 0.3));\n",
              "      fill: #FFFFFF;\n",
              "    }\n",
              "  </style>\n",
              "\n",
              "    <script>\n",
              "      const buttonEl =\n",
              "        document.querySelector('#df-f6bde29c-ec21-4546-a423-bd977736a1aa button.colab-df-convert');\n",
              "      buttonEl.style.display =\n",
              "        google.colab.kernel.accessAllowed ? 'block' : 'none';\n",
              "\n",
              "      async function convertToInteractive(key) {\n",
              "        const element = document.querySelector('#df-f6bde29c-ec21-4546-a423-bd977736a1aa');\n",
              "        const dataTable =\n",
              "          await google.colab.kernel.invokeFunction('convertToInteractive',\n",
              "                                                    [key], {});\n",
              "        if (!dataTable) return;\n",
              "\n",
              "        const docLinkHtml = 'Like what you see? Visit the ' +\n",
              "          '<a target=\"_blank\" href=https://colab.research.google.com/notebooks/data_table.ipynb>data table notebook</a>'\n",
              "          + ' to learn more about interactive tables.';\n",
              "        element.innerHTML = '';\n",
              "        dataTable['output_type'] = 'display_data';\n",
              "        await google.colab.output.renderOutput(dataTable, element);\n",
              "        const docLink = document.createElement('div');\n",
              "        docLink.innerHTML = docLinkHtml;\n",
              "        element.appendChild(docLink);\n",
              "      }\n",
              "    </script>\n",
              "  </div>\n",
              "\n",
              "\n",
              "    <div id=\"df-8d5f1645-b755-409e-8ddb-dd1802385394\">\n",
              "      <button class=\"colab-df-quickchart\" onclick=\"quickchart('df-8d5f1645-b755-409e-8ddb-dd1802385394')\"\n",
              "                title=\"Suggest charts\"\n",
              "                style=\"display:none;\">\n",
              "\n",
              "<svg xmlns=\"http://www.w3.org/2000/svg\" height=\"24px\"viewBox=\"0 0 24 24\"\n",
              "     width=\"24px\">\n",
              "    <g>\n",
              "        <path d=\"M19 3H5c-1.1 0-2 .9-2 2v14c0 1.1.9 2 2 2h14c1.1 0 2-.9 2-2V5c0-1.1-.9-2-2-2zM9 17H7v-7h2v7zm4 0h-2V7h2v10zm4 0h-2v-4h2v4z\"/>\n",
              "    </g>\n",
              "</svg>\n",
              "      </button>\n",
              "\n",
              "<style>\n",
              "  .colab-df-quickchart {\n",
              "      --bg-color: #E8F0FE;\n",
              "      --fill-color: #1967D2;\n",
              "      --hover-bg-color: #E2EBFA;\n",
              "      --hover-fill-color: #174EA6;\n",
              "      --disabled-fill-color: #AAA;\n",
              "      --disabled-bg-color: #DDD;\n",
              "  }\n",
              "\n",
              "  [theme=dark] .colab-df-quickchart {\n",
              "      --bg-color: #3B4455;\n",
              "      --fill-color: #D2E3FC;\n",
              "      --hover-bg-color: #434B5C;\n",
              "      --hover-fill-color: #FFFFFF;\n",
              "      --disabled-bg-color: #3B4455;\n",
              "      --disabled-fill-color: #666;\n",
              "  }\n",
              "\n",
              "  .colab-df-quickchart {\n",
              "    background-color: var(--bg-color);\n",
              "    border: none;\n",
              "    border-radius: 50%;\n",
              "    cursor: pointer;\n",
              "    display: none;\n",
              "    fill: var(--fill-color);\n",
              "    height: 32px;\n",
              "    padding: 0;\n",
              "    width: 32px;\n",
              "  }\n",
              "\n",
              "  .colab-df-quickchart:hover {\n",
              "    background-color: var(--hover-bg-color);\n",
              "    box-shadow: 0 1px 2px rgba(60, 64, 67, 0.3), 0 1px 3px 1px rgba(60, 64, 67, 0.15);\n",
              "    fill: var(--button-hover-fill-color);\n",
              "  }\n",
              "\n",
              "  .colab-df-quickchart-complete:disabled,\n",
              "  .colab-df-quickchart-complete:disabled:hover {\n",
              "    background-color: var(--disabled-bg-color);\n",
              "    fill: var(--disabled-fill-color);\n",
              "    box-shadow: none;\n",
              "  }\n",
              "\n",
              "  .colab-df-spinner {\n",
              "    border: 2px solid var(--fill-color);\n",
              "    border-color: transparent;\n",
              "    border-bottom-color: var(--fill-color);\n",
              "    animation:\n",
              "      spin 1s steps(1) infinite;\n",
              "  }\n",
              "\n",
              "  @keyframes spin {\n",
              "    0% {\n",
              "      border-color: transparent;\n",
              "      border-bottom-color: var(--fill-color);\n",
              "      border-left-color: var(--fill-color);\n",
              "    }\n",
              "    20% {\n",
              "      border-color: transparent;\n",
              "      border-left-color: var(--fill-color);\n",
              "      border-top-color: var(--fill-color);\n",
              "    }\n",
              "    30% {\n",
              "      border-color: transparent;\n",
              "      border-left-color: var(--fill-color);\n",
              "      border-top-color: var(--fill-color);\n",
              "      border-right-color: var(--fill-color);\n",
              "    }\n",
              "    40% {\n",
              "      border-color: transparent;\n",
              "      border-right-color: var(--fill-color);\n",
              "      border-top-color: var(--fill-color);\n",
              "    }\n",
              "    60% {\n",
              "      border-color: transparent;\n",
              "      border-right-color: var(--fill-color);\n",
              "    }\n",
              "    80% {\n",
              "      border-color: transparent;\n",
              "      border-right-color: var(--fill-color);\n",
              "      border-bottom-color: var(--fill-color);\n",
              "    }\n",
              "    90% {\n",
              "      border-color: transparent;\n",
              "      border-bottom-color: var(--fill-color);\n",
              "    }\n",
              "  }\n",
              "</style>\n",
              "\n",
              "      <script>\n",
              "        async function quickchart(key) {\n",
              "          const quickchartButtonEl =\n",
              "            document.querySelector('#' + key + ' button');\n",
              "          quickchartButtonEl.disabled = true;  // To prevent multiple clicks.\n",
              "          quickchartButtonEl.classList.add('colab-df-spinner');\n",
              "          try {\n",
              "            const charts = await google.colab.kernel.invokeFunction(\n",
              "                'suggestCharts', [key], {});\n",
              "          } catch (error) {\n",
              "            console.error('Error during call to suggestCharts:', error);\n",
              "          }\n",
              "          quickchartButtonEl.classList.remove('colab-df-spinner');\n",
              "          quickchartButtonEl.classList.add('colab-df-quickchart-complete');\n",
              "        }\n",
              "        (() => {\n",
              "          let quickchartButtonEl =\n",
              "            document.querySelector('#df-8d5f1645-b755-409e-8ddb-dd1802385394 button');\n",
              "          quickchartButtonEl.style.display =\n",
              "            google.colab.kernel.accessAllowed ? 'block' : 'none';\n",
              "        })();\n",
              "      </script>\n",
              "    </div>\n",
              "\n",
              "    </div>\n",
              "  </div>\n"
            ],
            "application/vnd.google.colaboratory.intrinsic+json": {
              "type": "dataframe",
              "summary": "{\n  \"name\": \"df_personalidade\",\n  \"rows\": 8,\n  \"fields\": [\n    {\n      \"column\": \"tempo_sozinho\",\n      \"properties\": {\n        \"dtype\": \"number\",\n        \"std\": 1001.3708221125959,\n        \"min\": 0.0,\n        \"max\": 2837.0,\n        \"num_unique_values\": 8,\n        \"samples\": [\n          4.505816002819881,\n          4.0,\n          2837.0\n        ],\n        \"semantic_type\": \"\",\n        \"description\": \"\"\n      }\n    },\n    {\n      \"column\": \"presenca_eventos_sociais\",\n      \"properties\": {\n        \"dtype\": \"number\",\n        \"std\": 1001.9814513836483,\n        \"min\": 0.0,\n        \"max\": 2838.0,\n        \"num_unique_values\": 8,\n        \"samples\": [\n          3.963354474982382,\n          3.0,\n          2838.0\n        ],\n        \"semantic_type\": \"\",\n        \"description\": \"\"\n      }\n    },\n    {\n      \"column\": \"eventos_externos\",\n      \"properties\": {\n        \"dtype\": \"number\",\n        \"std\": 1000.8995517262287,\n        \"min\": 0.0,\n        \"max\": 2834.0,\n        \"num_unique_values\": 7,\n        \"samples\": [\n          2834.0,\n          3.0,\n          5.0\n        ],\n        \"semantic_type\": \"\",\n        \"description\": \"\"\n      }\n    },\n    {\n      \"column\": \"circulo_de_amigos\",\n      \"properties\": {\n        \"dtype\": \"number\",\n        \"std\": 995.8916289234932,\n        \"min\": 0.0,\n        \"max\": 2823.0,\n        \"num_unique_values\": 8,\n        \"samples\": [\n          6.268862911795962,\n          5.0,\n          2823.0\n        ],\n        \"semantic_type\": \"\",\n        \"description\": \"\"\n      }\n    },\n    {\n      \"column\": \"frequencia_de_postagens\",\n      \"properties\": {\n        \"dtype\": \"number\",\n        \"std\": 1000.9906313701882,\n        \"min\": 0.0,\n        \"max\": 2835.0,\n        \"num_unique_values\": 8,\n        \"samples\": [\n          3.564726631393298,\n          3.0,\n          2835.0\n        ],\n        \"semantic_type\": \"\",\n        \"description\": \"\"\n      }\n    }\n  ]\n}"
            }
          },
          "metadata": {},
          "execution_count": 17
        }
      ]
    },
    {
      "cell_type": "code",
      "source": [
        "# estatísticas de todas variáveis, inclusive categóricas.\n",
        "df_personalidade.describe(include='all')"
      ],
      "metadata": {
        "id": "n9BOaL6C_4Cc"
      },
      "execution_count": null,
      "outputs": []
    },
    {
      "cell_type": "markdown",
      "source": [
        "# Análise variáveis numéricas"
      ],
      "metadata": {
        "id": "_S2KZku_hePG"
      }
    },
    {
      "cell_type": "markdown",
      "source": [
        "\n",
        "\n",
        "---\n",
        "\n",
        "\n",
        "### Média\n"
      ],
      "metadata": {
        "id": "sWPH7rj8Ck6v"
      }
    },
    {
      "cell_type": "code",
      "source": [
        "# média dos atributos numéricos do dataset\n",
        "df_personalidade.describe().loc['mean']"
      ],
      "metadata": {
        "id": "vm3QIAb-CZbt",
        "colab": {
          "base_uri": "https://localhost:8080/",
          "height": 241
        },
        "outputId": "1bb6348c-e474-48bd-efef-e18cc454e8c5"
      },
      "execution_count": 18,
      "outputs": [
        {
          "output_type": "execute_result",
          "data": {
            "text/plain": [
              "tempo_sozinho               4.505816\n",
              "presenca_eventos_sociais    3.963354\n",
              "eventos_externos            3.000000\n",
              "circulo_de_amigos           6.268863\n",
              "frequencia_de_postagens     3.564727\n",
              "Name: mean, dtype: float64"
            ],
            "text/html": [
              "<div>\n",
              "<style scoped>\n",
              "    .dataframe tbody tr th:only-of-type {\n",
              "        vertical-align: middle;\n",
              "    }\n",
              "\n",
              "    .dataframe tbody tr th {\n",
              "        vertical-align: top;\n",
              "    }\n",
              "\n",
              "    .dataframe thead th {\n",
              "        text-align: right;\n",
              "    }\n",
              "</style>\n",
              "<table border=\"1\" class=\"dataframe\">\n",
              "  <thead>\n",
              "    <tr style=\"text-align: right;\">\n",
              "      <th></th>\n",
              "      <th>mean</th>\n",
              "    </tr>\n",
              "  </thead>\n",
              "  <tbody>\n",
              "    <tr>\n",
              "      <th>tempo_sozinho</th>\n",
              "      <td>4.505816</td>\n",
              "    </tr>\n",
              "    <tr>\n",
              "      <th>presenca_eventos_sociais</th>\n",
              "      <td>3.963354</td>\n",
              "    </tr>\n",
              "    <tr>\n",
              "      <th>eventos_externos</th>\n",
              "      <td>3.000000</td>\n",
              "    </tr>\n",
              "    <tr>\n",
              "      <th>circulo_de_amigos</th>\n",
              "      <td>6.268863</td>\n",
              "    </tr>\n",
              "    <tr>\n",
              "      <th>frequencia_de_postagens</th>\n",
              "      <td>3.564727</td>\n",
              "    </tr>\n",
              "  </tbody>\n",
              "</table>\n",
              "</div><br><label><b>dtype:</b> float64</label>"
            ]
          },
          "metadata": {},
          "execution_count": 18
        }
      ]
    },
    {
      "cell_type": "markdown",
      "source": [
        "\n",
        "\n",
        "---\n",
        "\n",
        "\n",
        "\n",
        "## Mediana"
      ],
      "metadata": {
        "id": "FuSkGhJ6Zo5S"
      }
    },
    {
      "cell_type": "code",
      "source": [
        "# mediana dos atributos numéricos do dataset\n",
        "df_personalidade.describe().loc['50%']"
      ],
      "metadata": {
        "id": "ne-ETnt_ZzCl",
        "colab": {
          "base_uri": "https://localhost:8080/",
          "height": 241
        },
        "outputId": "d0a57363-4094-4cf6-9a63-b6a1c5b84119"
      },
      "execution_count": 19,
      "outputs": [
        {
          "output_type": "execute_result",
          "data": {
            "text/plain": [
              "tempo_sozinho               4.0\n",
              "presenca_eventos_sociais    3.0\n",
              "eventos_externos            3.0\n",
              "circulo_de_amigos           5.0\n",
              "frequencia_de_postagens     3.0\n",
              "Name: 50%, dtype: float64"
            ],
            "text/html": [
              "<div>\n",
              "<style scoped>\n",
              "    .dataframe tbody tr th:only-of-type {\n",
              "        vertical-align: middle;\n",
              "    }\n",
              "\n",
              "    .dataframe tbody tr th {\n",
              "        vertical-align: top;\n",
              "    }\n",
              "\n",
              "    .dataframe thead th {\n",
              "        text-align: right;\n",
              "    }\n",
              "</style>\n",
              "<table border=\"1\" class=\"dataframe\">\n",
              "  <thead>\n",
              "    <tr style=\"text-align: right;\">\n",
              "      <th></th>\n",
              "      <th>50%</th>\n",
              "    </tr>\n",
              "  </thead>\n",
              "  <tbody>\n",
              "    <tr>\n",
              "      <th>tempo_sozinho</th>\n",
              "      <td>4.0</td>\n",
              "    </tr>\n",
              "    <tr>\n",
              "      <th>presenca_eventos_sociais</th>\n",
              "      <td>3.0</td>\n",
              "    </tr>\n",
              "    <tr>\n",
              "      <th>eventos_externos</th>\n",
              "      <td>3.0</td>\n",
              "    </tr>\n",
              "    <tr>\n",
              "      <th>circulo_de_amigos</th>\n",
              "      <td>5.0</td>\n",
              "    </tr>\n",
              "    <tr>\n",
              "      <th>frequencia_de_postagens</th>\n",
              "      <td>3.0</td>\n",
              "    </tr>\n",
              "  </tbody>\n",
              "</table>\n",
              "</div><br><label><b>dtype:</b> float64</label>"
            ]
          },
          "metadata": {},
          "execution_count": 19
        }
      ]
    },
    {
      "cell_type": "markdown",
      "source": [
        "## Comparação entre médias e medianas dos valores numéricos\n",
        "\n",
        "Gerando um gráfico que mostre a média, mediana e amplitude de valores (range) das variáveis numéricas (tempo_sozinho, horas_de_estudo_semana, gasto_medio_lazer_mensal, etc.). Comparar a média e a mediana  permitirá identificar se a distribuição de uma variável é simétrica ou assimétrica.\n",
        "\n",
        "Além disso, determinar a amplitude de valores (range), que abrange desde o valor mínimo ao valor máximo de cada variável. Isso me permitirá entender a dispersão total dos dados, revelando a extensão completa dos valores da variável, se possuem grande variabilidade ou se os dados estão mais concentrados.\n",
        "\n",
        "\n",
        "\n",
        "---\n",
        "\n"
      ],
      "metadata": {
        "id": "JRjA0iboLurG"
      }
    },
    {
      "cell_type": "code",
      "source": [
        "# Calculando a média, a mediana e a amplitude (máximo - mínimo) para cada coluna numérica\n",
        "numeric_stats = df_personalidade.describe().loc[['mean', '50%', 'min', 'max']]\n",
        "numeric_stats.loc['amplitude'] = numeric_stats.loc['max'] - numeric_stats.loc['min']\n",
        "numeric_stats = numeric_stats.rename(index={'50%': 'median'}) # Renomeia '50%' para 'median'\n",
        "\n",
        "# Selecionando apenas as colunas numéricas para o gráfico\n",
        "numeric_stats = numeric_stats[df_personalidade.select_dtypes(include=np.number).columns]\n",
        "\n",
        "# Criando o gráfico de barras\n",
        "fig, ax = plt.subplots(figsize=(9, 6))\n",
        "\n",
        "# Largura das barras\n",
        "bar_width = 0.25\n",
        "\n",
        "# Posições das barras no eixo x\n",
        "indices = np.arange(len(numeric_stats.columns))\n",
        "\n",
        "# Barras da amplitude\n",
        "rects1 = ax.bar(indices - bar_width, numeric_stats.loc['amplitude'], bar_width,\n",
        "                label='Amplitude (Max - Min)', color='skyblue')\n",
        "\n",
        "# Barras da média\n",
        "rects2 = ax.bar(indices, numeric_stats.loc['mean'], bar_width,\n",
        "                label='Média', color='lightcoral')\n",
        "\n",
        "# Barras da mediana\n",
        "rects3 = ax.bar(indices + bar_width, numeric_stats.loc['median'], bar_width,\n",
        "                label='Mediana', color='lightgreen')\n",
        "\n",
        "# Adicionando rótulos, título e legendas\n",
        "ax.set_xlabel('Atributos Numéricos')\n",
        "ax.set_ylabel('Valores')\n",
        "ax.set_title('Gráfico 2 - Média, Mediana e Amplitude dos Atributos Numéricos')\n",
        "ax.set_xticks(indices)\n",
        "ax.set_xticklabels(numeric_stats.columns, rotation=45, ha=\"right\")\n",
        "ax.legend()\n",
        "\n",
        "# Função para adicionar rótulos nas barras\n",
        "def autolabel(rects):\n",
        "    for rect in rects:\n",
        "        height = rect.get_height()\n",
        "        ax.annotate('{}'.format(round(height, 2)),\n",
        "                    xy=(rect.get_x() + rect.get_width() / 2, height),\n",
        "                    xytext=(0, 3),  # 3 points vertical offset\n",
        "                    textcoords=\"offset points\",\n",
        "                    ha='center', va='bottom')\n",
        "\n",
        "# Adicionando os rótulos de valor nas barras\n",
        "autolabel(rects1)\n",
        "autolabel(rects2)\n",
        "autolabel(rects3)\n",
        "\n",
        "# Layout ajustado para evitar sobreposição dos rótulos\n",
        "plt.tight_layout()\n",
        "plt.show()"
      ],
      "metadata": {
        "id": "RIB7H8GyaD9W",
        "colab": {
          "base_uri": "https://localhost:8080/",
          "height": 607
        },
        "outputId": "93774e46-f790-44db-d2cc-a5fc16d5c8c3"
      },
      "execution_count": 20,
      "outputs": [
        {
          "output_type": "display_data",
          "data": {
            "text/plain": [
              "<Figure size 900x600 with 1 Axes>"
            ],
            "image/png": "[encoded data removed]"
          },
          "metadata": {}
        }
      ]
    },
    {
      "cell_type": "markdown",
      "source": [
        "O **Gráfico 2** mostra:\n",
        "\n",
        "Para **tempo_sozinho**, a média (4.51) e a mediana (4.0) são próximas, indicando uma distribuição razoavelmente simétrica. A amplitude de 11.0 sugere uma boa variação nos dados de \"tempo sozinho\", indicando que as pessoas têm quantidades bem diferentes de tempo sozinhas.\n",
        "\n",
        "Para **presenca_eventos_sociais**, a média (3.96) e a mediana (3.00) mostram uma pequena diferença, com a média um pouco maior, o que pode indicar uma leve assimetria à direita (cauda para valores mais altos). A amplitude de 10.0 também indica uma boa variabilidade na \"presença em eventos sociais\".\n",
        "\n",
        "Para **eventos_externos**, a média (3.00) e a mediana (3.00) são idênticas, sugerindo uma distribuição simétrica. A amplitude de 7.0 mostra uma variação razoável.\n",
        "\n",
        "Para **circulo_de_amigos**, a média (6.27) é maior que a mediana (5.00), indicando assimetria à direita. Há pessoas com círculos de amigos maiores que puxam a média para cima. Esta variável tem a maior amplitude (15.0) entre todas, indicando a maior variabilidade no tamanho do \"círculo de amigos\". Há pessoas com círculos de amigos muito pequenos e outras com círculos muito grandes.\n",
        "\n",
        "Para **frequencia_de_postagens**, a média (3.56) e a mediana (3.00) também mostram uma assimetria à direita. A amplitude de 10.0 indica uma boa variação na \"frequência de postagens\".\n",
        "\n",
        "\n",
        "\n",
        "---\n",
        "\n"
      ],
      "metadata": {
        "id": "hMZXwv_paLk6"
      }
    },
    {
      "cell_type": "markdown",
      "source": [
        "### Desvio Padrão"
      ],
      "metadata": {
        "id": "MHRKK0YmCmUw"
      }
    },
    {
      "cell_type": "code",
      "source": [
        "# desvio padrão dos atributos numéricos do dataset\n",
        "df_personalidade.describe().loc['std']"
      ],
      "metadata": {
        "id": "aBIXqi0fCwSH",
        "colab": {
          "base_uri": "https://localhost:8080/",
          "height": 241
        },
        "outputId": "7d178a2c-a39d-44cb-e8b9-29857f737363"
      },
      "execution_count": 21,
      "outputs": [
        {
          "output_type": "execute_result",
          "data": {
            "text/plain": [
              "tempo_sozinho               3.479192\n",
              "presenca_eventos_sociais    2.903827\n",
              "eventos_externos            2.247327\n",
              "circulo_de_amigos           4.289693\n",
              "frequencia_de_postagens     2.926582\n",
              "Name: std, dtype: float64"
            ],
            "text/html": [
              "<div>\n",
              "<style scoped>\n",
              "    .dataframe tbody tr th:only-of-type {\n",
              "        vertical-align: middle;\n",
              "    }\n",
              "\n",
              "    .dataframe tbody tr th {\n",
              "        vertical-align: top;\n",
              "    }\n",
              "\n",
              "    .dataframe thead th {\n",
              "        text-align: right;\n",
              "    }\n",
              "</style>\n",
              "<table border=\"1\" class=\"dataframe\">\n",
              "  <thead>\n",
              "    <tr style=\"text-align: right;\">\n",
              "      <th></th>\n",
              "      <th>std</th>\n",
              "    </tr>\n",
              "  </thead>\n",
              "  <tbody>\n",
              "    <tr>\n",
              "      <th>tempo_sozinho</th>\n",
              "      <td>3.479192</td>\n",
              "    </tr>\n",
              "    <tr>\n",
              "      <th>presenca_eventos_sociais</th>\n",
              "      <td>2.903827</td>\n",
              "    </tr>\n",
              "    <tr>\n",
              "      <th>eventos_externos</th>\n",
              "      <td>2.247327</td>\n",
              "    </tr>\n",
              "    <tr>\n",
              "      <th>circulo_de_amigos</th>\n",
              "      <td>4.289693</td>\n",
              "    </tr>\n",
              "    <tr>\n",
              "      <th>frequencia_de_postagens</th>\n",
              "      <td>2.926582</td>\n",
              "    </tr>\n",
              "  </tbody>\n",
              "</table>\n",
              "</div><br><label><b>dtype:</b> float64</label>"
            ]
          },
          "metadata": {},
          "execution_count": 21
        }
      ]
    },
    {
      "cell_type": "code",
      "source": [
        "# Demonstrando a o desvio-padrão dos atributos numéricos em relação à média\n",
        "\n",
        "mean_std_df = df_personalidade.select_dtypes(include=np.number).agg(['mean', 'std']).T\n",
        "\n",
        "plt.figure(figsize=(7, 5))\n",
        "plt.bar(mean_std_df.index, mean_std_df['mean'], yerr=mean_std_df['std'], capsize=5, color='skyblue')\n",
        "plt.title('Gráfico 3 - Média e Desvio Padrão dos Atributos Numéricos')\n",
        "plt.xlabel('Atributos Numéricos')\n",
        "plt.ylabel('Valor')\n",
        "plt.xticks(rotation=45, ha='right')\n",
        "plt.tight_layout()\n",
        "plt.show()"
      ],
      "metadata": {
        "id": "EwyaR3ryTuzk",
        "colab": {
          "base_uri": "https://localhost:8080/",
          "height": 507
        },
        "outputId": "95125cea-e04a-4812-b14c-eaea7c04244f"
      },
      "execution_count": 22,
      "outputs": [
        {
          "output_type": "display_data",
          "data": {
            "text/plain": [
              "<Figure size 700x500 with 1 Axes>"
            ],
            "image/png": "[encoded data removed]"
          },
          "metadata": {}
        }
      ]
    },
    {
      "cell_type": "markdown",
      "source": [
        "O **Gráfico 3** demonstra o desvio-padrão em relação às médias de cada atributo numérico. As barras indicam a média, as linhas verticais em cima de cada barra representam o desvio-padrão.\n",
        "\n",
        "\n",
        "* **tempo_sozinho** - A barra de erro é visivelmente alta. Olhando o gráfico, o topo da linha está perto de 8 e a base perto de 1, indicando um desvio padrão de aproximadamente 3.5. A variável tempo_sozinho tem uma média moderada, mas um desvio padrão considerável. Isso significa que, embora a média seja 4.5, os valores individuais de \"tempo sozinho\" se espalham bastante em torno dessa média. Há uma boa diversidade na quantidade de tempo sozinho entre as pessoas.\n",
        "\n",
        "* **presenca_eventos_sociais** - A barra de erro é também considerável, mas um pouco menor que tempo_sozinho. O topo está perto de 7, base perto de 1, indicando um desvio padrão de aproximadamente 3.0. em uma média similar a tempo_sozinho, mas com um desvio padrão ligeiramente menor. Isso indica que os dados para esta variável estão um pouco mais concentrados em torno da média do que tempo_sozinho, mas ainda com uma boa variabilidade.\n",
        "\n",
        "* **eventos_externos** - Esta variável tem a menor barra de erro, com o topo perto de 5 e a base perto de 1, indicando um desvio padrão de aproximadamente 2.0. Tem a menor média e, mais importante, o menor desvio padrão. Isso significa que os valores para \"eventos externos\" são mais consistentes e menos dispersos em torno da média em comparação com as outras variáveis. As pessoas tendem a ter uma quantidade mais similar de eventos externos.\n",
        "\n",
        "* **circulo_de_amigos** - Esta variável apresenta a maior barra de erro, com o topo perto de 10.5 e a base perto de 2, indicando um desvio padrão de aproximadamente 4.2. possui a maior média e, significativamente, o maior desvio padrão entre todas as variáveis. Isso confirma que há uma enorme variabilidade no tamanho do círculo de amigos das pessoas. Os dados estão muito espalhados, o que pode indicar a presença de muitos valores extremos (pessoas com poucos amigos e pessoas com muitos amigos), tornando a média menos representativa do \"típico\".\n",
        "\n",
        "* **frequencia_de_postagens** - A barra de erro é alta, similar a presenca_eventos_sociais, com o topo perto de 6.5 e a base perto de 0.5, indicando um desvio padrão de aproximadamente 3.0. Tem uma média moderada e um desvio padrão considerável. Isso indica uma boa variabilidade na frequência com que as pessoas fazem postagens, com os valores se espalhando bastante em torno da média."
      ],
      "metadata": {
        "id": "adTs3MvC-y4W"
      }
    },
    {
      "cell_type": "markdown",
      "source": [
        "\n",
        "\n",
        "---\n",
        "\n"
      ],
      "metadata": {
        "id": "T-ZYS_meTGIf"
      }
    },
    {
      "cell_type": "markdown",
      "source": [
        "## Histograma\n",
        "\n",
        "Analisando a distribuição dos valores das variáveis **frequencia_de_postagens** e **tempo_sozinho**"
      ],
      "metadata": {
        "id": "4tX_H2zZEFwU"
      }
    },
    {
      "cell_type": "markdown",
      "source": [
        "### *frequencia_de_postagens*\n",
        "\n",
        "A a distribuição dos valores de frequencia_de_postagens e tentar entender sua influência na classificação da personalidade."
      ],
      "metadata": {
        "id": "FSs4jBF7HUnV"
      }
    },
    {
      "cell_type": "code",
      "source": [
        "plt.figure(figsize=(7, 5))\n",
        "sns.histplot(data=df_personalidade, x='frequencia_de_postagens', hue='personalidade', multiple=\"stack\", kde=True)\n",
        "plt.title('Gráfico 4 - Histograma da Frequência de Postagens por Personalidade')\n",
        "plt.xlabel('Frequência de Postagens')\n",
        "plt.ylabel('Contagem')\n",
        "plt.show()"
      ],
      "metadata": {
        "id": "wVWWM6AgYixv",
        "colab": {
          "base_uri": "https://localhost:8080/",
          "height": 488
        },
        "outputId": "75b9b966-65fb-44ce-c8e6-46b3ad817398"
      },
      "execution_count": 23,
      "outputs": [
        {
          "output_type": "display_data",
          "data": {
            "text/plain": [
              "<Figure size 700x500 with 1 Axes>"
            ],
            "image/png": "[encoded data removed]"
          },
          "metadata": {}
        }
      ]
    },
    {
      "cell_type": "markdown",
      "source": [
        " O **Gráfico 4** mostra que Extrovertidos postam nas redes sociais com muito mais frequência que os Introvertidos. A partir de quatro postagens ou mais, é nítida a quantidade bem inferior de Introvertidos em relação as Extrovertidos.\n",
        "\n",
        " Os Extrovertidos dominam claramente esta faixa. Eles são os principais responsáveis pelas postagens mais frequentes, enquanto os Introvertidos quase desaparecem.\n",
        "\n",
        "\n",
        "\n",
        "---\n",
        "\n"
      ],
      "metadata": {
        "id": "9HDYR8XPZlFp"
      }
    },
    {
      "cell_type": "markdown",
      "source": [
        "### *tempo_sozinho*\n",
        "\n",
        "Vamos analisar a distribuição dos valores de tempo_sozinho e tentar entender sua influência na classificação da personalidade."
      ],
      "metadata": {
        "id": "GC3jhtL2HpS5"
      }
    },
    {
      "cell_type": "code",
      "source": [
        "#\n",
        "plt.figure(figsize=(7, 5))\n",
        "sns.histplot(data=df_personalidade, x='tempo_sozinho', hue='personalidade', multiple=\"stack\", kde=True)\n",
        "plt.title('Gráfico 5 - Histograma do Tempo Sozinho por Personalidade')\n",
        "plt.xlabel('Tempo Sozinho (horas)')\n",
        "plt.ylabel('Contagem')\n",
        "plt.show()"
      ],
      "metadata": {
        "id": "r35JDe8cbYnL",
        "colab": {
          "base_uri": "https://localhost:8080/",
          "height": 488
        },
        "outputId": "d9d7f122-a1de-467f-90fe-86389e717877"
      },
      "execution_count": 24,
      "outputs": [
        {
          "output_type": "display_data",
          "data": {
            "text/plain": [
              "<Figure size 700x500 with 1 Axes>"
            ],
            "image/png": "[encoded data removed]"
          },
          "metadata": {}
        }
      ]
    },
    {
      "cell_type": "markdown",
      "source": [
        "O **Gráfico 5** mostra claramente que, a partir de um período de quatro horas, o número de Introvertidos, cresce de forma muito acentuada. O **Gráfico 5** demonstra também que, aproximadamente, 80% (oitenta por cento) dos classificados como Introvertido, passam por períodos superiores a quatro horas sozinhos.\n",
        "\n",
        "\n",
        "\n",
        "---"
      ],
      "metadata": {
        "id": "YyoF1Ya0a8Xw"
      }
    },
    {
      "cell_type": "markdown",
      "source": [
        "## Boxplot\n",
        "\n",
        "Para analisar como nossas variáveis numéricas se distribuem em relação aos tipos de personalidade, utilizaremos gráficos Boxplot, que permitirão ver Mediana e Quartis, identificar a dispersão dos dados, detectar outliers e comparar grupos. Os dois próximos gráficos nos permitirão entender as distribuições das variáveis **tempo_sozinho** e **frequencia_de_postagens**.\n",
        "\n",
        "\n",
        "\n",
        "---\n",
        "\n"
      ],
      "metadata": {
        "id": "av_qTo2YERdw"
      }
    },
    {
      "cell_type": "code",
      "source": [
        "# Estatísticas descritivas agrupadas por personalidade\n",
        "df_personalidade.groupby('personalidade').describe()"
      ],
      "metadata": {
        "id": "iH6ov-UMHHHJ",
        "colab": {
          "base_uri": "https://localhost:8080/",
          "height": 224
        },
        "outputId": "d1340451-ac37-4558-c63b-0ea3eceb8fa0"
      },
      "execution_count": 25,
      "outputs": [
        {
          "output_type": "execute_result",
          "data": {
            "text/plain": [
              "              tempo_sozinho                                                \\\n",
              "                      count      mean       std  min  25%  50%  75%   max   \n",
              "personalidade                                                               \n",
              "Extrovert            1457.0  2.067261  2.208781  0.0  1.0  2.0  3.0  11.0   \n",
              "Introvert            1380.0  7.080435  2.612803  0.0  5.0  7.0  9.0  11.0   \n",
              "\n",
              "              presenca_eventos_sociais            ... circulo_de_amigos        \\\n",
              "                                 count      mean  ...               75%   max   \n",
              "personalidade                                     ...                           \n",
              "Extrovert                       1463.0  6.016405  ...              12.0  15.0   \n",
              "Introvert                       1375.0  1.778909  ...               4.0  14.0   \n",
              "\n",
              "              frequencia_de_postagens                                          \\\n",
              "                                count      mean       std  min  25%  50%  75%   \n",
              "personalidade                                                                   \n",
              "Extrovert                      1458.0  5.638546  2.341549  0.0  4.0  6.0  7.0   \n",
              "Introvert                      1377.0  1.368918  1.566034  0.0  0.0  1.0  2.0   \n",
              "\n",
              "                     \n",
              "                max  \n",
              "personalidade        \n",
              "Extrovert      10.0  \n",
              "Introvert       9.0  \n",
              "\n",
              "[2 rows x 40 columns]"
            ],
            "text/html": [
              "\n",
              "  <div id=\"df-674519a4-0f6e-4d55-ad27-e00c4680668b\" class=\"colab-df-container\">\n",
              "    <div>\n",
              "<style scoped>\n",
              "    .dataframe tbody tr th:only-of-type {\n",
              "        vertical-align: middle;\n",
              "    }\n",
              "\n",
              "    .dataframe tbody tr th {\n",
              "        vertical-align: top;\n",
              "    }\n",
              "\n",
              "    .dataframe thead tr th {\n",
              "        text-align: left;\n",
              "    }\n",
              "\n",
              "    .dataframe thead tr:last-of-type th {\n",
              "        text-align: right;\n",
              "    }\n",
              "</style>\n",
              "<table border=\"1\" class=\"dataframe\">\n",
              "  <thead>\n",
              "    <tr>\n",
              "      <th></th>\n",
              "      <th colspan=\"8\" halign=\"left\">tempo_sozinho</th>\n",
              "      <th colspan=\"2\" halign=\"left\">presenca_eventos_sociais</th>\n",
              "      <th>...</th>\n",
              "      <th colspan=\"2\" halign=\"left\">circulo_de_amigos</th>\n",
              "      <th colspan=\"8\" halign=\"left\">frequencia_de_postagens</th>\n",
              "    </tr>\n",
              "    <tr>\n",
              "      <th></th>\n",
              "      <th>count</th>\n",
              "      <th>mean</th>\n",
              "      <th>std</th>\n",
              "      <th>min</th>\n",
              "      <th>25%</th>\n",
              "      <th>50%</th>\n",
              "      <th>75%</th>\n",
              "      <th>max</th>\n",
              "      <th>count</th>\n",
              "      <th>mean</th>\n",
              "      <th>...</th>\n",
              "      <th>75%</th>\n",
              "      <th>max</th>\n",
              "      <th>count</th>\n",
              "      <th>mean</th>\n",
              "      <th>std</th>\n",
              "      <th>min</th>\n",
              "      <th>25%</th>\n",
              "      <th>50%</th>\n",
              "      <th>75%</th>\n",
              "      <th>max</th>\n",
              "    </tr>\n",
              "    <tr>\n",
              "      <th>personalidade</th>\n",
              "      <th></th>\n",
              "      <th></th>\n",
              "      <th></th>\n",
              "      <th></th>\n",
              "      <th></th>\n",
              "      <th></th>\n",
              "      <th></th>\n",
              "      <th></th>\n",
              "      <th></th>\n",
              "      <th></th>\n",
              "      <th></th>\n",
              "      <th></th>\n",
              "      <th></th>\n",
              "      <th></th>\n",
              "      <th></th>\n",
              "      <th></th>\n",
              "      <th></th>\n",
              "      <th></th>\n",
              "      <th></th>\n",
              "      <th></th>\n",
              "      <th></th>\n",
              "    </tr>\n",
              "  </thead>\n",
              "  <tbody>\n",
              "    <tr>\n",
              "      <th>Extrovert</th>\n",
              "      <td>1457.0</td>\n",
              "      <td>2.067261</td>\n",
              "      <td>2.208781</td>\n",
              "      <td>0.0</td>\n",
              "      <td>1.0</td>\n",
              "      <td>2.0</td>\n",
              "      <td>3.0</td>\n",
              "      <td>11.0</td>\n",
              "      <td>1463.0</td>\n",
              "      <td>6.016405</td>\n",
              "      <td>...</td>\n",
              "      <td>12.0</td>\n",
              "      <td>15.0</td>\n",
              "      <td>1458.0</td>\n",
              "      <td>5.638546</td>\n",
              "      <td>2.341549</td>\n",
              "      <td>0.0</td>\n",
              "      <td>4.0</td>\n",
              "      <td>6.0</td>\n",
              "      <td>7.0</td>\n",
              "      <td>10.0</td>\n",
              "    </tr>\n",
              "    <tr>\n",
              "      <th>Introvert</th>\n",
              "      <td>1380.0</td>\n",
              "      <td>7.080435</td>\n",
              "      <td>2.612803</td>\n",
              "      <td>0.0</td>\n",
              "      <td>5.0</td>\n",
              "      <td>7.0</td>\n",
              "      <td>9.0</td>\n",
              "      <td>11.0</td>\n",
              "      <td>1375.0</td>\n",
              "      <td>1.778909</td>\n",
              "      <td>...</td>\n",
              "      <td>4.0</td>\n",
              "      <td>14.0</td>\n",
              "      <td>1377.0</td>\n",
              "      <td>1.368918</td>\n",
              "      <td>1.566034</td>\n",
              "      <td>0.0</td>\n",
              "      <td>0.0</td>\n",
              "      <td>1.0</td>\n",
              "      <td>2.0</td>\n",
              "      <td>9.0</td>\n",
              "    </tr>\n",
              "  </tbody>\n",
              "</table>\n",
              "<p>2 rows × 40 columns</p>\n",
              "</div>\n",
              "    <div class=\"colab-df-buttons\">\n",
              "\n",
              "  <div class=\"colab-df-container\">\n",
              "    <button class=\"colab-df-convert\" onclick=\"convertToInteractive('df-674519a4-0f6e-4d55-ad27-e00c4680668b')\"\n",
              "            title=\"Convert this dataframe to an interactive table.\"\n",
              "            style=\"display:none;\">\n",
              "\n",
              "  <svg xmlns=\"http://www.w3.org/2000/svg\" height=\"24px\" viewBox=\"0 -960 960 960\">\n",
              "    <path d=\"M120-120v-720h720v720H120Zm60-500h600v-160H180v160Zm220 220h160v-160H400v160Zm0 220h160v-160H400v160ZM180-400h160v-160H180v160Zm440 0h160v-160H620v160ZM180-180h160v-160H180v160Zm440 0h160v-160H620v160Z\"/>\n",
              "  </svg>\n",
              "    </button>\n",
              "\n",
              "  <style>\n",
              "    .colab-df-container {\n",
              "      display:flex;\n",
              "      gap: 12px;\n",
              "    }\n",
              "\n",
              "    .colab-df-convert {\n",
              "      background-color: #E8F0FE;\n",
              "      border: none;\n",
              "      border-radius: 50%;\n",
              "      cursor: pointer;\n",
              "      display: none;\n",
              "      fill: #1967D2;\n",
              "      height: 32px;\n",
              "      padding: 0 0 0 0;\n",
              "      width: 32px;\n",
              "    }\n",
              "\n",
              "    .colab-df-convert:hover {\n",
              "      background-color: #E2EBFA;\n",
              "      box-shadow: 0px 1px 2px rgba(60, 64, 67, 0.3), 0px 1px 3px 1px rgba(60, 64, 67, 0.15);\n",
              "      fill: #174EA6;\n",
              "    }\n",
              "\n",
              "    .colab-df-buttons div {\n",
              "      margin-bottom: 4px;\n",
              "    }\n",
              "\n",
              "    [theme=dark] .colab-df-convert {\n",
              "      background-color: #3B4455;\n",
              "      fill: #D2E3FC;\n",
              "    }\n",
              "\n",
              "    [theme=dark] .colab-df-convert:hover {\n",
              "      background-color: #434B5C;\n",
              "      box-shadow: 0px 1px 3px 1px rgba(0, 0, 0, 0.15);\n",
              "      filter: drop-shadow(0px 1px 2px rgba(0, 0, 0, 0.3));\n",
              "      fill: #FFFFFF;\n",
              "    }\n",
              "  </style>\n",
              "\n",
              "    <script>\n",
              "      const buttonEl =\n",
              "        document.querySelector('#df-674519a4-0f6e-4d55-ad27-e00c4680668b button.colab-df-convert');\n",
              "      buttonEl.style.display =\n",
              "        google.colab.kernel.accessAllowed ? 'block' : 'none';\n",
              "\n",
              "      async function convertToInteractive(key) {\n",
              "        const element = document.querySelector('#df-674519a4-0f6e-4d55-ad27-e00c4680668b');\n",
              "        const dataTable =\n",
              "          await google.colab.kernel.invokeFunction('convertToInteractive',\n",
              "                                                    [key], {});\n",
              "        if (!dataTable) return;\n",
              "\n",
              "        const docLinkHtml = 'Like what you see? Visit the ' +\n",
              "          '<a target=\"_blank\" href=https://colab.research.google.com/notebooks/data_table.ipynb>data table notebook</a>'\n",
              "          + ' to learn more about interactive tables.';\n",
              "        element.innerHTML = '';\n",
              "        dataTable['output_type'] = 'display_data';\n",
              "        await google.colab.output.renderOutput(dataTable, element);\n",
              "        const docLink = document.createElement('div');\n",
              "        docLink.innerHTML = docLinkHtml;\n",
              "        element.appendChild(docLink);\n",
              "      }\n",
              "    </script>\n",
              "  </div>\n",
              "\n",
              "\n",
              "    <div id=\"df-c38ca5a8-08c3-4fef-91b5-cd066a5e9971\">\n",
              "      <button class=\"colab-df-quickchart\" onclick=\"quickchart('df-c38ca5a8-08c3-4fef-91b5-cd066a5e9971')\"\n",
              "                title=\"Suggest charts\"\n",
              "                style=\"display:none;\">\n",
              "\n",
              "<svg xmlns=\"http://www.w3.org/2000/svg\" height=\"24px\"viewBox=\"0 0 24 24\"\n",
              "     width=\"24px\">\n",
              "    <g>\n",
              "        <path d=\"M19 3H5c-1.1 0-2 .9-2 2v14c0 1.1.9 2 2 2h14c1.1 0 2-.9 2-2V5c0-1.1-.9-2-2-2zM9 17H7v-7h2v7zm4 0h-2V7h2v10zm4 0h-2v-4h2v4z\"/>\n",
              "    </g>\n",
              "</svg>\n",
              "      </button>\n",
              "\n",
              "<style>\n",
              "  .colab-df-quickchart {\n",
              "      --bg-color: #E8F0FE;\n",
              "      --fill-color: #1967D2;\n",
              "      --hover-bg-color: #E2EBFA;\n",
              "      --hover-fill-color: #174EA6;\n",
              "      --disabled-fill-color: #AAA;\n",
              "      --disabled-bg-color: #DDD;\n",
              "  }\n",
              "\n",
              "  [theme=dark] .colab-df-quickchart {\n",
              "      --bg-color: #3B4455;\n",
              "      --fill-color: #D2E3FC;\n",
              "      --hover-bg-color: #434B5C;\n",
              "      --hover-fill-color: #FFFFFF;\n",
              "      --disabled-bg-color: #3B4455;\n",
              "      --disabled-fill-color: #666;\n",
              "  }\n",
              "\n",
              "  .colab-df-quickchart {\n",
              "    background-color: var(--bg-color);\n",
              "    border: none;\n",
              "    border-radius: 50%;\n",
              "    cursor: pointer;\n",
              "    display: none;\n",
              "    fill: var(--fill-color);\n",
              "    height: 32px;\n",
              "    padding: 0;\n",
              "    width: 32px;\n",
              "  }\n",
              "\n",
              "  .colab-df-quickchart:hover {\n",
              "    background-color: var(--hover-bg-color);\n",
              "    box-shadow: 0 1px 2px rgba(60, 64, 67, 0.3), 0 1px 3px 1px rgba(60, 64, 67, 0.15);\n",
              "    fill: var(--button-hover-fill-color);\n",
              "  }\n",
              "\n",
              "  .colab-df-quickchart-complete:disabled,\n",
              "  .colab-df-quickchart-complete:disabled:hover {\n",
              "    background-color: var(--disabled-bg-color);\n",
              "    fill: var(--disabled-fill-color);\n",
              "    box-shadow: none;\n",
              "  }\n",
              "\n",
              "  .colab-df-spinner {\n",
              "    border: 2px solid var(--fill-color);\n",
              "    border-color: transparent;\n",
              "    border-bottom-color: var(--fill-color);\n",
              "    animation:\n",
              "      spin 1s steps(1) infinite;\n",
              "  }\n",
              "\n",
              "  @keyframes spin {\n",
              "    0% {\n",
              "      border-color: transparent;\n",
              "      border-bottom-color: var(--fill-color);\n",
              "      border-left-color: var(--fill-color);\n",
              "    }\n",
              "    20% {\n",
              "      border-color: transparent;\n",
              "      border-left-color: var(--fill-color);\n",
              "      border-top-color: var(--fill-color);\n",
              "    }\n",
              "    30% {\n",
              "      border-color: transparent;\n",
              "      border-left-color: var(--fill-color);\n",
              "      border-top-color: var(--fill-color);\n",
              "      border-right-color: var(--fill-color);\n",
              "    }\n",
              "    40% {\n",
              "      border-color: transparent;\n",
              "      border-right-color: var(--fill-color);\n",
              "      border-top-color: var(--fill-color);\n",
              "    }\n",
              "    60% {\n",
              "      border-color: transparent;\n",
              "      border-right-color: var(--fill-color);\n",
              "    }\n",
              "    80% {\n",
              "      border-color: transparent;\n",
              "      border-right-color: var(--fill-color);\n",
              "      border-bottom-color: var(--fill-color);\n",
              "    }\n",
              "    90% {\n",
              "      border-color: transparent;\n",
              "      border-bottom-color: var(--fill-color);\n",
              "    }\n",
              "  }\n",
              "</style>\n",
              "\n",
              "      <script>\n",
              "        async function quickchart(key) {\n",
              "          const quickchartButtonEl =\n",
              "            document.querySelector('#' + key + ' button');\n",
              "          quickchartButtonEl.disabled = true;  // To prevent multiple clicks.\n",
              "          quickchartButtonEl.classList.add('colab-df-spinner');\n",
              "          try {\n",
              "            const charts = await google.colab.kernel.invokeFunction(\n",
              "                'suggestCharts', [key], {});\n",
              "          } catch (error) {\n",
              "            console.error('Error during call to suggestCharts:', error);\n",
              "          }\n",
              "          quickchartButtonEl.classList.remove('colab-df-spinner');\n",
              "          quickchartButtonEl.classList.add('colab-df-quickchart-complete');\n",
              "        }\n",
              "        (() => {\n",
              "          let quickchartButtonEl =\n",
              "            document.querySelector('#df-c38ca5a8-08c3-4fef-91b5-cd066a5e9971 button');\n",
              "          quickchartButtonEl.style.display =\n",
              "            google.colab.kernel.accessAllowed ? 'block' : 'none';\n",
              "        })();\n",
              "      </script>\n",
              "    </div>\n",
              "\n",
              "    </div>\n",
              "  </div>\n"
            ],
            "application/vnd.google.colaboratory.intrinsic+json": {
              "type": "dataframe"
            }
          },
          "metadata": {},
          "execution_count": 25
        }
      ]
    },
    {
      "cell_type": "code",
      "source": [
        "# Analisando atributo tempo_sozinho com boxplot\n",
        "target_column = 'personalidade'\n",
        "\n",
        "# Coluna específica para plotar\n",
        "selected_column = 'tempo_sozinho'\n",
        "\n",
        "# Criando uma nova figura para o boxplot\n",
        "plt.figure(figsize=(7, 5))\n",
        "\n",
        "# Gerando o boxplot para a coluna selecionada\n",
        "sns.boxplot(x=target_column, y=selected_column, data=df_personalidade)\n",
        "\n",
        "# Definindo o título do gráfico\n",
        "plt.title(f'Gráfico 6 - Distribuição de {selected_column.replace(\"_\", \" \").title()} por Personalidade')\n",
        "\n",
        "# Adicionando rótulos aos eixos para melhor clareza\n",
        "plt.xlabel('Tipo de Personalidade')\n",
        "plt.ylabel(selected_column.replace('_', ' ').title())\n",
        "\n",
        "# Exibe o gráfico\n",
        "plt.show()"
      ],
      "metadata": {
        "id": "X4NiFa4yaWED",
        "colab": {
          "base_uri": "https://localhost:8080/",
          "height": 488
        },
        "outputId": "33186745-5155-4689-d278-845dff90ed36"
      },
      "execution_count": 26,
      "outputs": [
        {
          "output_type": "display_data",
          "data": {
            "text/plain": [
              "<Figure size 700x500 with 1 Axes>"
            ],
            "image/png": "[encoded data removed]"
          },
          "metadata": {}
        }
      ]
    },
    {
      "cell_type": "markdown",
      "source": [
        "O **Gráfico 6**, boxplot de tempo_sozinho por personalidade, indica claramente que o **Extrovertido** passa muito menos tempo sozinho, apesar de alguns outliers. Há vários pontos acima do bigode superior (em 7, 8, 9, 10, 11 e 12 horas). Isso sugere que, embora a maioria dos Extrovertidos passe pouco tempo sozinho, existe um pequeno número de Extrovertidos que passam um tempo considerável sozinhos, sendo considerados outliers em seu próprio grupo.\n",
        "\n",
        "A presença de outliers no grupo **Extrovertido** é interessante. Sugere que, mesmo entre pessoas que geralmente se energizam com interações sociais, há um subgrupo que ocasionalmente passa bastante tempo sozinho.\n",
        "\n",
        "**Introvertidos**, em contraste, tendem a passar significativamente mais tempo sozinhos, com sua distribuição \"deslocada\" para valores maiores.\n",
        "\n",
        "A diferença nas medianas (Extrovertidos em **~2h** vs. Introvertidos em **~7h**) é muito significativa. Isso mostra que o \"tempo sozinho\" é uma característica distintiva forte entre os dois tipos de personalidade.\n",
        "\n",
        "\n",
        "\n",
        "---"
      ],
      "metadata": {
        "id": "WLqk2ArublP1"
      }
    },
    {
      "cell_type": "code",
      "source": [
        "# Agora, analisando atributo frequencia_de_postagens com boxplot\n",
        "\n",
        "target_column = 'personalidade'\n",
        "\n",
        "# Coluna específica para plotar\n",
        "selected_column = 'frequencia_de_postagens'\n",
        "\n",
        "# Criando uma nova figura para o boxplot\n",
        "plt.figure(figsize=(7, 5)) # Você pode ajustar o tamanho da figura aqui\n",
        "\n",
        "# Gerando o boxplot para a coluna selecionada\n",
        "sns.boxplot(x=target_column, y=selected_column, data=df_personalidade)\n",
        "\n",
        "# Definindoo título do gráfico\n",
        "plt.title(f'Gráfico 7 - Distribuição de {selected_column.replace(\"_\", \" \").title()} por Personalidade')\n",
        "\n",
        "# Adicionando rótulos aos eixos para melhor clareza\n",
        "plt.xlabel('Tipo de Personalidade')\n",
        "plt.ylabel(selected_column.replace('_', ' ').title())\n",
        "\n",
        "# Exibe o gráfico\n",
        "plt.show()"
      ],
      "metadata": {
        "id": "s4IBRIcKcBoN",
        "colab": {
          "base_uri": "https://localhost:8080/",
          "height": 488
        },
        "outputId": "98a1a0bc-762e-40d6-ca5c-24c46fddf6c8"
      },
      "execution_count": 27,
      "outputs": [
        {
          "output_type": "display_data",
          "data": {
            "text/plain": [
              "<Figure size 700x500 with 1 Axes>"
            ],
            "image/png": "[encoded data removed]"
          },
          "metadata": {}
        }
      ]
    },
    {
      "cell_type": "markdown",
      "source": [
        "O **Gráfico 7**, boxplot de frequencia_de_postagens por personalidade demonstra que, apesar de alguns outliers, classificados como **Introvertidos** postam muito menos em redes sociais.\n",
        "\n",
        "O **Gráfico 7**  mostra também que Frequencia De Postagens é uma feature  poderosa e discriminatória para diferenciar entre Extrovertidos e Introvertidos. A distinção entre os dois grupos é muito clara e alinhada com as expectativas de comportamento social digital.  A diferença nas medianas (**Extrovertidos** em ~6.0 postagens vs. **Introvertidos** em ~1.0 postagem) é extremamente significativa.\n",
        "\n",
        "A presença de outliers no grupo **Introvertido** (aqueles que postam mais do que o típico Introvertido) é um ponto interessante. Isso mostra que, mesmo dentro de um grupo que geralmente é mais reservado, há indivíduos que se desviam do padrão e participam mais ativamente em postagens. Isso pode ser explorado para entender subgrupos ou nuances dentro da introversão."
      ],
      "metadata": {
        "id": "0DDLsQNzcfCO"
      }
    },
    {
      "cell_type": "markdown",
      "source": [
        "\n",
        "\n",
        "---\n",
        "\n"
      ],
      "metadata": {
        "id": "wGkDl_Oxlace"
      }
    },
    {
      "cell_type": "markdown",
      "source": [
        "## Matriz de Correlação\n",
        "Vamos entender a relação linear que os atributos numéricos das personalidades podem ter."
      ],
      "metadata": {
        "id": "3_ERHJAPEZAt"
      }
    },
    {
      "cell_type": "code",
      "source": [
        "# Calculaando a matriz de correlação para os atributos numéricos\n",
        "# Selecionando apenas as colunas numéricas do DataFrame\n",
        "numeric_df = df_personalidade.select_dtypes(include=np.number)\n",
        "\n",
        "# Calculando a matriz de correlação\n",
        "correlation_matrix = numeric_df.corr()"
      ],
      "metadata": {
        "id": "h8S5lBPmrjW5"
      },
      "execution_count": 28,
      "outputs": []
    },
    {
      "cell_type": "code",
      "source": [
        "plt.figure(figsize=(8, 6))\n",
        "sns.heatmap(correlation_matrix, annot=True, cmap='coolwarm', fmt=\".2f\", linewidths=.5)\n",
        "plt.title('Gráfico 8 - Correlação dos Atributos Numéricos')\n",
        "plt.xticks(rotation=45, ha='right')\n",
        "plt.yticks(rotation=0)\n",
        "plt.tight_layout()\n",
        "plt.show()\n"
      ],
      "metadata": {
        "id": "3DoAKE1CYIVY",
        "colab": {
          "base_uri": "https://localhost:8080/",
          "height": 607
        },
        "outputId": "f4e20c7c-1223-4ba8-b8ac-b8fcf7e1163f"
      },
      "execution_count": 29,
      "outputs": [
        {
          "output_type": "display_data",
          "data": {
            "text/plain": [
              "<Figure size 800x600 with 2 Axes>"
            ],
            "image/png": "[encoded data removed]"
          },
          "metadata": {}
        }
      ]
    },
    {
      "cell_type": "markdown",
      "source": [
        "O **Gráfico 8** mostra:\n",
        "\n",
        "*  **tempo_sozinho** tem forte correlação negativa com **presenca_eventos_sociais** (-0.73). Quando o **tempo_sozinho** aumenta, a presença em eventos sociais tende a diminuir. Isso faz  sentido, pois são atividades que muitas vezes se excluem ou são complementares no oposto (quem busca um, busca menos o outro).\n",
        "\n",
        "  O mesmo acontece com **eventos_externos** (-0.75), mais tempo sozinho está associado a menos eventos externos.\n",
        "  \n",
        "  Outra forte correlação negativa de **tempo_sozinho** é com **circulo_de_amigos** (-0.72). Mais tempo sozinho está associado a ter um círculo de amigos menor. Também faz  sentido, pois um círculo de amigos maior geralmente implica mais interações sociais.\n",
        "  \n",
        "  A correlação entre **tempo_sozinho** e **frequencia_de_postagens** também é negativa (-0.73), mais tempo sozinho está associado a uma menor frequência de postagens.  Nesse caso, embora as postagens possam ser uma forma de interação social, intuitivamente, sempre concluí o contrário, ou seja, achava que quanto mais tempo a pessoa passava sozinha, maior seria o número de postagens. Essa análise confirma a necessidade de, antes de tudo, estudar os dados, suas relações e suas distribuições e depois começar a tirar conclusões.\n",
        "  \n",
        "  Podemos concluir que a variável **tempo_sozinho** tem fortes correlações negativas com todas as outras variáveis de interação social.\n",
        "\n",
        "* A correlação entre **presenca_eventos_sociais** e **eventos_externos** é fortemente positiva (0.75). As pessoas que participam mais de eventos sociais também tendem a participar mais de eventos externos. Isso é esperado, pois ambos descrevem um comportamento social ativo.\n",
        "\n",
        "  Outra forte correlação positiva de **presenca_eventos_sociais** é com **circulo_de_amigos** (0.73). Maior presença em eventos sociais está associada a ter um círculo de amigos maior.\n",
        "  **presenca_eventos_sociais** também se correlaciona fortemente positivo com **frequecia_de_postagens** (0.74) Pessoas que frequentam mais eventos sociais tendem a ter maior frequência de postagens. Justamente o contrário da relação entre **tempo_sozinho** e **frequencia_de_postagens**.  \n",
        "\n",
        "\n",
        "\n",
        "---\n",
        "\n"
      ],
      "metadata": {
        "id": "oz1caOiQHF2u"
      }
    },
    {
      "cell_type": "markdown",
      "source": [
        "## Análise variáveis categóricas\n",
        "\n",
        "\n",
        "Para visualizar a distribuição das respostas em relação às variáveis categóricas **medo_em_publico** e **esgotado_apos_socializar**, utilizarei gráficos de barras simples para entender a frequência com que cada categoria aparece em uma única variável.\n",
        "\n",
        "Busco:\n",
        "\n",
        "Visualizar frequências: Mostrar de forma clara a contagem ou a proporção de cada categoria.\n",
        "\n",
        "Identificar a categoria Mais Comum: Rapidamente poderei ver qual resposta é a mais frequente para cada pergunta.\n",
        "\n",
        "Compreender a composição do Grupo: com uma visão imediata de como o  grupo de estudo se divide em relação a cada uma dessas características isoladamente.\n",
        "\n",
        "Compreender a prevalência de Cada Experiência: Qual a proporção de participantes que relatam ter **medo_em_publico** e qual a proporção que se sente **esgotado_apos_socializar**.\n",
        "\n",
        "Perfil do Grupo: Terei uma ideia mais clara da intensidade de cada uma dessas características na nossa amostra."
      ],
      "metadata": {
        "id": "HXJWSQ3zL3YF"
      }
    },
    {
      "cell_type": "code",
      "source": [
        "\n",
        "\n",
        "# Análisando Contagem e Frequência Relativa (Proporção)\n",
        "\n",
        "print(\"\\n--- Contagem e Proporção de 'medo_em_publico' ---\")\n",
        "contagem_medo_em_publico = df_personalidade['medo_em_publico'].value_counts()\n",
        "proporcao_medo_em_publico = df_personalidade['medo_em_publico'].value_counts(normalize=True) * 100 # Multiplicar por 100 para percentual\n",
        "print(\"Contagem:\\n\", contagem_medo_em_publico)\n",
        "print(\"Proporção (%):\\n\", proporcao_medo_em_publico.round(2)) # Arredondar para 2 casas decimais\n",
        "print(\"-\" * 50)\n",
        "\n",
        "print(\"\\n--- Contagem e Proporção de 'esgotado_apos_socializar' ---\")\n",
        "contagem_esgotado_apos_socializar = df_personalidade['esgotado_apos_socializar'].value_counts()\n",
        "proporcao_esgotado_apos_socializar = df_personalidade['esgotado_apos_socializar'].value_counts(normalize=True) * 100\n",
        "print(\"Contagem:\\n\", contagem_esgotado_apos_socializar)\n",
        "print(\"Proporção (%):\\n\", proporcao_esgotado_apos_socializar.round(2))\n",
        "print(\"-\" * 50)\n",
        "\n",
        "\n",
        "\n",
        "\n",
        "# Análise Cruzamento de Duas Categóricas\n",
        "\n",
        "print(\"\\n--- Contagens 'Personalidade' vs 'medo_em_publico'  ---\")\n",
        "tabela_personalidade_medo = pd.crosstab(df_personalidade['personalidade'], df_personalidade['medo_em_publico'])\n",
        "print(tabela_personalidade_medo)\n",
        "print(\"-\" * 50)\n",
        "\n",
        "print(\"\\n--- Contagens 'Personalidade' vs 'esgotado_apos_socializar'  ---\")\n",
        "tabela_personalidade_esgotado = pd.crosstab(df_personalidade['personalidade'], df_personalidade['esgotado_apos_socializar'])\n",
        "print(tabela_personalidade_esgotado)\n",
        "print(\"-\" * 50)\n",
        "\n",
        "# Exemplo de proporções por linha (percentual de YES/NO dentro de cada Personalidade)\n",
        "print(\"\\n--- Proporções por Linha - % 'Personalidade' vs 'medo_em_publico' () ---\")\n",
        "tabela_personalidade_medo_prop_linha = pd.crosstab(df_personalidade['personalidade'], df_personalidade['medo_em_publico'], normalize='index') * 100\n",
        "print(tabela_personalidade_medo_prop_linha.round(2))\n",
        "print(\"-\" * 50)\n",
        "\n",
        "# Visualização Gráficos de Barras Agrupados\n",
        "\n",
        "plt.figure(figsize=(7, 5))\n",
        "sns.countplot(x='personalidade', hue='medo_em_publico', data=df_personalidade, palette='viridis')\n",
        "plt.title('Gráfico 9 - Contagem de \"Medo em Público\" por Personalidade')\n",
        "plt.xlabel('Personalidade')\n",
        "plt.ylabel('Contagem')\n",
        "plt.legend(title='Medo em Público')\n",
        "plt.show()\n",
        "\n",
        "plt.figure(figsize=(7, 5))\n",
        "sns.countplot(x='personalidade', hue='esgotado_apos_socializar', data=df_personalidade, palette='viridis')\n",
        "plt.title('Gráfico 10 -Contagem de \"Esgotado Após Socializar\" por Personalidade')\n",
        "plt.xlabel('Personalidade')\n",
        "plt.ylabel('Contagem')\n",
        "plt.legend(title='Esgotado Após Socializar')\n",
        "plt.show()\n",
        "\n"
      ],
      "metadata": {
        "id": "J3vd_T_TJldp",
        "colab": {
          "base_uri": "https://localhost:8080/",
          "height": 1000
        },
        "outputId": "89f6b977-3162-479a-e935-c34c86775179"
      },
      "execution_count": 30,
      "outputs": [
        {
          "output_type": "stream",
          "name": "stdout",
          "text": [
            "\n",
            "--- Contagem e Proporção de 'medo_em_publico' ---\n",
            "Contagem:\n",
            " medo_em_publico\n",
            "No     1417\n",
            "Yes    1410\n",
            "Name: count, dtype: int64\n",
            "Proporção (%):\n",
            " medo_em_publico\n",
            "No     50.12\n",
            "Yes    49.88\n",
            "Name: proportion, dtype: float64\n",
            "--------------------------------------------------\n",
            "\n",
            "--- Contagem e Proporção de 'esgotado_apos_socializar' ---\n",
            "Contagem:\n",
            " esgotado_apos_socializar\n",
            "No     1441\n",
            "Yes    1407\n",
            "Name: count, dtype: int64\n",
            "Proporção (%):\n",
            " esgotado_apos_socializar\n",
            "No     50.6\n",
            "Yes    49.4\n",
            "Name: proportion, dtype: float64\n",
            "--------------------------------------------------\n",
            "\n",
            "--- Contagens 'Personalidade' vs 'medo_em_publico'  ---\n",
            "medo_em_publico    No   Yes\n",
            "personalidade              \n",
            "Extrovert        1338   111\n",
            "Introvert          79  1299\n",
            "--------------------------------------------------\n",
            "\n",
            "--- Contagens 'Personalidade' vs 'esgotado_apos_socializar'  ---\n",
            "esgotado_apos_socializar    No   Yes\n",
            "personalidade                       \n",
            "Extrovert                 1362   111\n",
            "Introvert                   79  1296\n",
            "--------------------------------------------------\n",
            "\n",
            "--- Proporções por Linha - % 'Personalidade' vs 'medo_em_publico' () ---\n",
            "medo_em_publico     No    Yes\n",
            "personalidade                \n",
            "Extrovert        92.34   7.66\n",
            "Introvert         5.73  94.27\n",
            "--------------------------------------------------\n"
          ]
        },
        {
          "output_type": "display_data",
          "data": {
            "text/plain": [
              "<Figure size 700x500 with 1 Axes>"
            ],
            "image/png": "[encoded data removed]"
          },
          "metadata": {}
        },
        {
          "output_type": "display_data",
          "data": {
            "text/plain": [
              "<Figure size 700x500 with 1 Axes>"
            ],
            "image/png": "[encoded data removed]"
          },
          "metadata": {}
        }
      ]
    },
    {
      "cell_type": "markdown",
      "source": [
        "Para entender como uma variável categórica binária (Medo em Público: 'Yes'/'No') se distribui dentro de cada categoria da sua variável target (Personalidade: Extrovert/Introvert), gerei o **Gráfico 9**.\n",
        "\n",
        "\n",
        "* O **Gráfico 9** mostra que uma esmagadora maioria de **Extrovertidos** (cerca de 1350) indica **não** ter medo em público. A contagem de **Extrovertidos** que indicam ter medo em público é muito pequena (cerca de 100). Isso é altamente consistente com a definição de extroversão, que geralmente envolve conforto e habilidade em interações sociais e em destaque.\n",
        "\n",
        " Para os **Introvertidos**, a situação é invertida. Uma esmagadora maioria de **Introvertidos** (cerca de 1300) indica **ter** medo em público. A contagem de **Introvertidos** que indicam não ter medo é muito pequena. Isso é totalmente consistente com a definição de introversão, que muitas vezes está associada a uma preferência por ambientes mais calmos e menor conforto em situações de exposição pública.\n",
        "Vemos também que praticamente metade da base de dados respondeu 'No' (1417 pessoas, 50.12%) para **medo_em_publico**.\n",
        "A outra metade respondeu 'Yes' (1410 pessoas, 49.88%) para **medo_em_publico**.\n",
        "Isso indica que a variável medo_em_publico é muito bem balanceada no dataset, com aproximadamente o mesmo número de pessoas em cada categoria. Isso melhora a modelagem, pois o modelo não será \"viesado\" a prever uma categoria em detrimento da outra devido à desproporção.\n",
        "\n",
        "\n",
        "Para entender a distribução da variável categórica esgotado_apos_socializar, gerei o **Gráfico 10**\n",
        "\n",
        "* O **Gráfico 10** mostra que ma enorme maioria de **Extrovertidos** indica NÃO se sentir esgotado após socializar. A contagem de **Extrovertidos** que se sentem esgotados é muito pequena. Isso é consistente com a teoria da extroversão, onde interações sociais são fontes de energia e não de esgotamento.\n",
        "\n",
        " Para os **Introvertidos**, a situação é claramente inversa. Uma esmagadora maioria de **Introvertidos** indica SIM se sentir esgotado após socializar. A contagem de **Introvertidos** que não se sentem esgotados é mínima. Isso é  consistente com a teoria da introversão, onde a socialização tende a consumir energia e pode levar ao esgotamento.\n",
        "\n",
        "  **Extrovertidos** têm uma alta contagem em 'No' (1362) e baixa em 'Yes' (111). **Introvertidos** têm uma baixa contagem em 'No' (79) e alta em 'Yes' (1296).\n",
        "\n",
        "Ambos os gráficos de contagem (Medo em Público e Esgotado Após Socializar) e as tabelas de contingência numéricas demonstram que essas duas variáveis categóricas são  poderosas para diferenciar **Extrovertidos** de **Introvertidos** no dataset.\n",
        "\n",
        "Medo em Público é um diferenciador fortíssimo, com quase 95% de precisão na distinção baseada na resposta 'Yes' ou 'No'.\n",
        "\n",
        "Esgotado Após Socializar é igualmente poderoso, com uma clareza impressionante na polarização das respostas entre os dois grupos.\n",
        "\n",
        "Essas variáveis categóricas provavelmente serão as mais importantes em qualquer modelo preditivo  para identificar a personalidade, pois elas capturam diretamente características centrais de extroversão e introversão.\n",
        "\n",
        "\n",
        "\n",
        "---\n",
        "\n"
      ],
      "metadata": {
        "id": "BGApbea0Srp6"
      }
    },
    {
      "cell_type": "markdown",
      "source": [
        "# Pré-Processamento de Dados\n",
        "\n",
        "Aqui, vou preparar os dados para modelagem, garantindo que estejam no formato correto e otimizados para o desempenho do modelo de classificação, em etapas seguintes.\n",
        "\n",
        " -- Defino as features e a variável target\n",
        "\n",
        "-- Divido os dados em conjuntos de treino e teste\n",
        "\n",
        "-- Aplico o pré-processamento dos dados, com:\n",
        "\n",
        "      -- tratamento de valores faltantes,\n",
        "\n",
        "      -- codificação de variáveis categóricas,\n",
        "\n",
        "      -- codificação da variável target e\n",
        "\n",
        "      -- escalonamento de variáveis numéricas.\n",
        "\n",
        "Deixando o conjunto pronto para ser treinado e testado por um modelo de classificação.\n",
        "\n",
        "\n"
      ],
      "metadata": {
        "id": "VDovmxgDFcbF"
      }
    },
    {
      "cell_type": "code",
      "source": [
        "# Revisitando informações sobre o dataset\n",
        "df_personalidade.info()"
      ],
      "metadata": {
        "id": "ejS-lUcExsJu"
      },
      "execution_count": null,
      "outputs": []
    },
    {
      "cell_type": "markdown",
      "source": [
        "Começo definindo as features (X) e a varável target (y)  "
      ],
      "metadata": {
        "id": "oZu9a-kOkyS7"
      }
    },
    {
      "cell_type": "code",
      "source": [
        "# Separando as features (X) e target(y)\n",
        "X = df_personalidade.drop('personalidade', axis=1)\n",
        "y = df_personalidade['personalidade']"
      ],
      "metadata": {
        "id": "lvMppW-bPPMX"
      },
      "execution_count": 31,
      "outputs": []
    },
    {
      "cell_type": "code",
      "source": [
        "# Dividindo os dados em conjuntos de treino e teste\n",
        "X_train, X_test, y_train, y_test = train_test_split(X, y, test_size=0.2, random_state=42)"
      ],
      "metadata": {
        "id": "zzxbuTbIeuuU"
      },
      "execution_count": 32,
      "outputs": []
    },
    {
      "cell_type": "code",
      "source": [
        "print(f\"Dimensões de X_train: {X_train.shape}\")\n",
        "print(f\"Dimensões de X_test: {X_test.shape}\")\n",
        "print(f\"Dimensões de y_train: {y_train.shape}\")\n",
        "print(f\"Dimensões de y_test: {y_test.shape}\")"
      ],
      "metadata": {
        "id": "SPvN4eP8ewUB",
        "colab": {
          "base_uri": "https://localhost:8080/"
        },
        "outputId": "fe544048-e1bf-4b48-9569-1b2ef615ea18"
      },
      "execution_count": 33,
      "outputs": [
        {
          "output_type": "stream",
          "name": "stdout",
          "text": [
            "Dimensões de X_train: (2320, 7)\n",
            "Dimensões de X_test: (580, 7)\n",
            "Dimensões de y_train: (2320,)\n",
            "Dimensões de y_test: (580,)\n"
          ]
        }
      ]
    },
    {
      "cell_type": "markdown",
      "source": [
        "## Tratamento de valores faltantes (missing values)"
      ],
      "metadata": {
        "id": "HXgjmrpzfwHA"
      }
    },
    {
      "cell_type": "code",
      "source": [
        "# Levantando missing values\n",
        "print(\"\\nVerificando valores ausentes (X_train):\")\n",
        "print(X_train.isnull().sum())\n",
        "print(\"\\nVerificando valores ausentes (X_test):\")\n",
        "print(X_test.isnull().sum())"
      ],
      "metadata": {
        "id": "Kin7TUWgdEMh",
        "colab": {
          "base_uri": "https://localhost:8080/"
        },
        "outputId": "778e45c4-566a-4eea-eed4-5ec060f90c85"
      },
      "execution_count": 34,
      "outputs": [
        {
          "output_type": "stream",
          "name": "stdout",
          "text": [
            "\n",
            "Verificando valores ausentes (X_train):\n",
            "tempo_sozinho               48\n",
            "medo_em_publico             61\n",
            "presenca_eventos_sociais    48\n",
            "eventos_externos            54\n",
            "esgotado_apos_socializar    41\n",
            "circulo_de_amigos           56\n",
            "frequencia_de_postagens     49\n",
            "dtype: int64\n",
            "\n",
            "Verificando valores ausentes (X_test):\n",
            "tempo_sozinho               15\n",
            "medo_em_publico             12\n",
            "presenca_eventos_sociais    14\n",
            "eventos_externos            12\n",
            "esgotado_apos_socializar    11\n",
            "circulo_de_amigos           21\n",
            "frequencia_de_postagens     16\n",
            "dtype: int64\n"
          ]
        }
      ]
    },
    {
      "cell_type": "markdown",
      "source": [
        "Para lidar com os valores nulos presentes na base de dados. Dada a natureza e o tamanho relativamente pequeno do conjunto de dados (2900 linhas), optei por não remover nenhuma linha que contenha valores ausentes.\n",
        "\n",
        "\n",
        "Em vez de excluir dados possivelmente valiosos, aplicarei a imputação, preenchendo os valores nulos com moda para colunas categóricas e mediana para colunas numéricas.\n",
        "\n",
        "Com isso, pretendo:\n",
        "\n",
        "Preservar Dados: Evitar a perda de informações importantes, mantendo o tamanho original da base.\n",
        "\n",
        "Manter a Integridade da Análise: Garantir que não introduzirei viés ao remover observações que poderiam conter padrões relevantes.\n",
        "\n",
        "\n",
        "\n",
        "---"
      ],
      "metadata": {
        "id": "_LcEHX05G9-z"
      }
    },
    {
      "cell_type": "code",
      "source": [
        "# Definindo colunas Categóricas para imputação pela moda\n",
        "categorical_columns = ['medo_em_publico', 'esgotado_apos_socializar']"
      ],
      "metadata": {
        "id": "1kKUZp1QgATC"
      },
      "execution_count": 35,
      "outputs": []
    },
    {
      "cell_type": "code",
      "source": [
        "# Definindo colunas Numéricas para imputação pela mediana\n",
        "numeric_columns = ['tempo_sozinho', 'presenca_eventos_sociais', 'eventos_externos', 'circulo_de_amigos', 'frequencia_de_postagens']"
      ],
      "metadata": {
        "id": "7JqiQIxqghqy"
      },
      "execution_count": 36,
      "outputs": []
    },
    {
      "cell_type": "code",
      "source": [
        "# Imputação para colunas categóricas\n",
        "for col in categorical_columns:\n",
        "    moda_treino = X_train[col].mode()[0] # Calcula a moda no conjunto de treino\n",
        "    X_train[col].fillna(moda_treino, inplace=True)\n",
        "    X_test[col].fillna(moda_treino, inplace=True) # Aplica a mesma moda no teste"
      ],
      "metadata": {
        "id": "PzgtaBylgq8k"
      },
      "execution_count": 37,
      "outputs": []
    },
    {
      "cell_type": "code",
      "source": [
        "# Imputação para colunas numéricas\n",
        "for col in numeric_columns:\n",
        "    mediana_treino = X_train[col].median() # Calcula a mediana no conjunto de treino\n",
        "    X_train[col].fillna(mediana_treino, inplace=True)\n",
        "    X_test[col].fillna(mediana_treino, inplace=True) # Aplica a mesma mediana no teste"
      ],
      "metadata": {
        "id": "OZW8pmSnhATw"
      },
      "execution_count": 38,
      "outputs": []
    },
    {
      "cell_type": "code",
      "source": [
        "# Confirmando imputação\n",
        "print(\"\\nVerificando valores ausentes após imputação (X_train):\")\n",
        "print(X_train.isnull().sum())\n",
        "print(\"\\nVerificando valores ausentes após imputação (X_test):\")\n",
        "print(X_test.isnull().sum())"
      ],
      "metadata": {
        "id": "D0CfndMkhJ34",
        "colab": {
          "base_uri": "https://localhost:8080/"
        },
        "outputId": "fb2db346-11a8-4914-dca6-984c204919f7"
      },
      "execution_count": 39,
      "outputs": [
        {
          "output_type": "stream",
          "name": "stdout",
          "text": [
            "\n",
            "Verificando valores ausentes após imputação (X_train):\n",
            "tempo_sozinho               0\n",
            "medo_em_publico             0\n",
            "presenca_eventos_sociais    0\n",
            "eventos_externos            0\n",
            "esgotado_apos_socializar    0\n",
            "circulo_de_amigos           0\n",
            "frequencia_de_postagens     0\n",
            "dtype: int64\n",
            "\n",
            "Verificando valores ausentes após imputação (X_test):\n",
            "tempo_sozinho               0\n",
            "medo_em_publico             0\n",
            "presenca_eventos_sociais    0\n",
            "eventos_externos            0\n",
            "esgotado_apos_socializar    0\n",
            "circulo_de_amigos           0\n",
            "frequencia_de_postagens     0\n",
            "dtype: int64\n"
          ]
        }
      ]
    },
    {
      "cell_type": "markdown",
      "source": [
        "## Codificação de Variáveis Categóricas (Features de Entrada)"
      ],
      "metadata": {
        "id": "aOaiQ-pYiRv1"
      }
    },
    {
      "cell_type": "markdown",
      "source": [
        "Para **medo_em_publico** e **esgotado_apos_socializar**\n",
        "\n",
        "Na sequência do pré-processamento, vou codificar essa duas variáveis features categóricas utilizando o mapeamento binário.\n",
        "\n",
        "Essas variáveis categóricas, que contêm respostas como \"yes/no\", precisam ser transformadas em um formato numérico que os algoritmos possam entender.\n",
        "\n",
        "O mapeamento binário é a forma mais simples e direta de fazer essa transformação, convertendo cada categoria em um valor numérico ( 0 ou 1). Isso  permite:\n",
        "\n",
        "Tornar os Dados Compreensíveis: Traduzir categorias textuais para um formato numérico que os modelos podem processar.\n",
        "\n",
        "Simplificar a Representação: Apresentar informações categóricas de forma eficiente, sem adicionar complexidade desnecessária.\n",
        "\n",
        "\n",
        "\n",
        "---\n",
        "\n"
      ],
      "metadata": {
        "id": "hg8mkLrUiX_p"
      }
    },
    {
      "cell_type": "code",
      "source": [
        "# Mapeamento para converter 'Yes'/'No' para 1/0\n",
        "mapeamento_binario = {'Yes': 1, 'No': 0}\n",
        "X_train['medo_em_publico'] = X_train['medo_em_publico'].map(mapeamento_binario)\n",
        "X_test['medo_em_publico'] = X_test['medo_em_publico'].map(mapeamento_binario)\n",
        "X_train['esgotado_apos_socializar'] = X_train['esgotado_apos_socializar'].map(mapeamento_binario)\n",
        "X_test['esgotado_apos_socializar'] = X_test['esgotado_apos_socializar'].map(mapeamento_binario)\n",
        "print(\"\\nValores de 'medo_em_publico' após codificação (X_train):\")\n",
        "print(X_train['medo_em_publico'].value_counts())\n",
        "print(\"\\nValores de 'esgotado_apos_socializar' após codificação (X_train):\")\n",
        "print(X_train['esgotado_apos_socializar'].value_counts())"
      ],
      "metadata": {
        "id": "yLmlnK7DiefJ",
        "colab": {
          "base_uri": "https://localhost:8080/"
        },
        "outputId": "a095e8ab-a6bf-4f3d-e872-aa40e18fe1cc"
      },
      "execution_count": 40,
      "outputs": [
        {
          "output_type": "stream",
          "name": "stdout",
          "text": [
            "\n",
            "Valores de 'medo_em_publico' após codificação (X_train):\n",
            "medo_em_publico\n",
            "0    1192\n",
            "1    1128\n",
            "Name: count, dtype: int64\n",
            "\n",
            "Valores de 'esgotado_apos_socializar' após codificação (X_train):\n",
            "esgotado_apos_socializar\n",
            "0    1192\n",
            "1    1128\n",
            "Name: count, dtype: int64\n"
          ]
        }
      ]
    },
    {
      "cell_type": "code",
      "source": [
        "# Visualizando\n",
        "X_train.head()"
      ],
      "metadata": {
        "id": "GZhvOZWyLcPx",
        "colab": {
          "base_uri": "https://localhost:8080/",
          "height": 206
        },
        "outputId": "9a5ea14d-e1e3-43ab-a027-096c50337cd1"
      },
      "execution_count": 41,
      "outputs": [
        {
          "output_type": "execute_result",
          "data": {
            "text/plain": [
              "      tempo_sozinho  medo_em_publico  presenca_eventos_sociais  \\\n",
              "2078            3.0                0                       5.0   \n",
              "163             6.0                1                       3.0   \n",
              "1938           10.0                1                       2.0   \n",
              "252             9.0                1                       1.0   \n",
              "2232           10.0                1                       0.0   \n",
              "\n",
              "      eventos_externos  esgotado_apos_socializar  circulo_de_amigos  \\\n",
              "2078               6.0                         0               10.0   \n",
              "163                3.0                         1                1.0   \n",
              "1938               2.0                         1                1.0   \n",
              "252                2.0                         1                3.0   \n",
              "2232               0.0                         1                4.0   \n",
              "\n",
              "      frequencia_de_postagens  \n",
              "2078                      9.0  \n",
              "163                       0.0  \n",
              "1938                      0.0  \n",
              "252                       1.0  \n",
              "2232                      1.0  "
            ],
            "text/html": [
              "\n",
              "  <div id=\"df-2822a164-ddf2-459d-b7ca-cbdd4a0c5f9b\" class=\"colab-df-container\">\n",
              "    <div>\n",
              "<style scoped>\n",
              "    .dataframe tbody tr th:only-of-type {\n",
              "        vertical-align: middle;\n",
              "    }\n",
              "\n",
              "    .dataframe tbody tr th {\n",
              "        vertical-align: top;\n",
              "    }\n",
              "\n",
              "    .dataframe thead th {\n",
              "        text-align: right;\n",
              "    }\n",
              "</style>\n",
              "<table border=\"1\" class=\"dataframe\">\n",
              "  <thead>\n",
              "    <tr style=\"text-align: right;\">\n",
              "      <th></th>\n",
              "      <th>tempo_sozinho</th>\n",
              "      <th>medo_em_publico</th>\n",
              "      <th>presenca_eventos_sociais</th>\n",
              "      <th>eventos_externos</th>\n",
              "      <th>esgotado_apos_socializar</th>\n",
              "      <th>circulo_de_amigos</th>\n",
              "      <th>frequencia_de_postagens</th>\n",
              "    </tr>\n",
              "  </thead>\n",
              "  <tbody>\n",
              "    <tr>\n",
              "      <th>2078</th>\n",
              "      <td>3.0</td>\n",
              "      <td>0</td>\n",
              "      <td>5.0</td>\n",
              "      <td>6.0</td>\n",
              "      <td>0</td>\n",
              "      <td>10.0</td>\n",
              "      <td>9.0</td>\n",
              "    </tr>\n",
              "    <tr>\n",
              "      <th>163</th>\n",
              "      <td>6.0</td>\n",
              "      <td>1</td>\n",
              "      <td>3.0</td>\n",
              "      <td>3.0</td>\n",
              "      <td>1</td>\n",
              "      <td>1.0</td>\n",
              "      <td>0.0</td>\n",
              "    </tr>\n",
              "    <tr>\n",
              "      <th>1938</th>\n",
              "      <td>10.0</td>\n",
              "      <td>1</td>\n",
              "      <td>2.0</td>\n",
              "      <td>2.0</td>\n",
              "      <td>1</td>\n",
              "      <td>1.0</td>\n",
              "      <td>0.0</td>\n",
              "    </tr>\n",
              "    <tr>\n",
              "      <th>252</th>\n",
              "      <td>9.0</td>\n",
              "      <td>1</td>\n",
              "      <td>1.0</td>\n",
              "      <td>2.0</td>\n",
              "      <td>1</td>\n",
              "      <td>3.0</td>\n",
              "      <td>1.0</td>\n",
              "    </tr>\n",
              "    <tr>\n",
              "      <th>2232</th>\n",
              "      <td>10.0</td>\n",
              "      <td>1</td>\n",
              "      <td>0.0</td>\n",
              "      <td>0.0</td>\n",
              "      <td>1</td>\n",
              "      <td>4.0</td>\n",
              "      <td>1.0</td>\n",
              "    </tr>\n",
              "  </tbody>\n",
              "</table>\n",
              "</div>\n",
              "    <div class=\"colab-df-buttons\">\n",
              "\n",
              "  <div class=\"colab-df-container\">\n",
              "    <button class=\"colab-df-convert\" onclick=\"convertToInteractive('df-2822a164-ddf2-459d-b7ca-cbdd4a0c5f9b')\"\n",
              "            title=\"Convert this dataframe to an interactive table.\"\n",
              "            style=\"display:none;\">\n",
              "\n",
              "  <svg xmlns=\"http://www.w3.org/2000/svg\" height=\"24px\" viewBox=\"0 -960 960 960\">\n",
              "    <path d=\"M120-120v-720h720v720H120Zm60-500h600v-160H180v160Zm220 220h160v-160H400v160Zm0 220h160v-160H400v160ZM180-400h160v-160H180v160Zm440 0h160v-160H620v160ZM180-180h160v-160H180v160Zm440 0h160v-160H620v160Z\"/>\n",
              "  </svg>\n",
              "    </button>\n",
              "\n",
              "  <style>\n",
              "    .colab-df-container {\n",
              "      display:flex;\n",
              "      gap: 12px;\n",
              "    }\n",
              "\n",
              "    .colab-df-convert {\n",
              "      background-color: #E8F0FE;\n",
              "      border: none;\n",
              "      border-radius: 50%;\n",
              "      cursor: pointer;\n",
              "      display: none;\n",
              "      fill: #1967D2;\n",
              "      height: 32px;\n",
              "      padding: 0 0 0 0;\n",
              "      width: 32px;\n",
              "    }\n",
              "\n",
              "    .colab-df-convert:hover {\n",
              "      background-color: #E2EBFA;\n",
              "      box-shadow: 0px 1px 2px rgba(60, 64, 67, 0.3), 0px 1px 3px 1px rgba(60, 64, 67, 0.15);\n",
              "      fill: #174EA6;\n",
              "    }\n",
              "\n",
              "    .colab-df-buttons div {\n",
              "      margin-bottom: 4px;\n",
              "    }\n",
              "\n",
              "    [theme=dark] .colab-df-convert {\n",
              "      background-color: #3B4455;\n",
              "      fill: #D2E3FC;\n",
              "    }\n",
              "\n",
              "    [theme=dark] .colab-df-convert:hover {\n",
              "      background-color: #434B5C;\n",
              "      box-shadow: 0px 1px 3px 1px rgba(0, 0, 0, 0.15);\n",
              "      filter: drop-shadow(0px 1px 2px rgba(0, 0, 0, 0.3));\n",
              "      fill: #FFFFFF;\n",
              "    }\n",
              "  </style>\n",
              "\n",
              "    <script>\n",
              "      const buttonEl =\n",
              "        document.querySelector('#df-2822a164-ddf2-459d-b7ca-cbdd4a0c5f9b button.colab-df-convert');\n",
              "      buttonEl.style.display =\n",
              "        google.colab.kernel.accessAllowed ? 'block' : 'none';\n",
              "\n",
              "      async function convertToInteractive(key) {\n",
              "        const element = document.querySelector('#df-2822a164-ddf2-459d-b7ca-cbdd4a0c5f9b');\n",
              "        const dataTable =\n",
              "          await google.colab.kernel.invokeFunction('convertToInteractive',\n",
              "                                                    [key], {});\n",
              "        if (!dataTable) return;\n",
              "\n",
              "        const docLinkHtml = 'Like what you see? Visit the ' +\n",
              "          '<a target=\"_blank\" href=https://colab.research.google.com/notebooks/data_table.ipynb>data table notebook</a>'\n",
              "          + ' to learn more about interactive tables.';\n",
              "        element.innerHTML = '';\n",
              "        dataTable['output_type'] = 'display_data';\n",
              "        await google.colab.output.renderOutput(dataTable, element);\n",
              "        const docLink = document.createElement('div');\n",
              "        docLink.innerHTML = docLinkHtml;\n",
              "        element.appendChild(docLink);\n",
              "      }\n",
              "    </script>\n",
              "  </div>\n",
              "\n",
              "\n",
              "    <div id=\"df-ac9798af-ab7d-4149-9afd-6e7df901b6c1\">\n",
              "      <button class=\"colab-df-quickchart\" onclick=\"quickchart('df-ac9798af-ab7d-4149-9afd-6e7df901b6c1')\"\n",
              "                title=\"Suggest charts\"\n",
              "                style=\"display:none;\">\n",
              "\n",
              "<svg xmlns=\"http://www.w3.org/2000/svg\" height=\"24px\"viewBox=\"0 0 24 24\"\n",
              "     width=\"24px\">\n",
              "    <g>\n",
              "        <path d=\"M19 3H5c-1.1 0-2 .9-2 2v14c0 1.1.9 2 2 2h14c1.1 0 2-.9 2-2V5c0-1.1-.9-2-2-2zM9 17H7v-7h2v7zm4 0h-2V7h2v10zm4 0h-2v-4h2v4z\"/>\n",
              "    </g>\n",
              "</svg>\n",
              "      </button>\n",
              "\n",
              "<style>\n",
              "  .colab-df-quickchart {\n",
              "      --bg-color: #E8F0FE;\n",
              "      --fill-color: #1967D2;\n",
              "      --hover-bg-color: #E2EBFA;\n",
              "      --hover-fill-color: #174EA6;\n",
              "      --disabled-fill-color: #AAA;\n",
              "      --disabled-bg-color: #DDD;\n",
              "  }\n",
              "\n",
              "  [theme=dark] .colab-df-quickchart {\n",
              "      --bg-color: #3B4455;\n",
              "      --fill-color: #D2E3FC;\n",
              "      --hover-bg-color: #434B5C;\n",
              "      --hover-fill-color: #FFFFFF;\n",
              "      --disabled-bg-color: #3B4455;\n",
              "      --disabled-fill-color: #666;\n",
              "  }\n",
              "\n",
              "  .colab-df-quickchart {\n",
              "    background-color: var(--bg-color);\n",
              "    border: none;\n",
              "    border-radius: 50%;\n",
              "    cursor: pointer;\n",
              "    display: none;\n",
              "    fill: var(--fill-color);\n",
              "    height: 32px;\n",
              "    padding: 0;\n",
              "    width: 32px;\n",
              "  }\n",
              "\n",
              "  .colab-df-quickchart:hover {\n",
              "    background-color: var(--hover-bg-color);\n",
              "    box-shadow: 0 1px 2px rgba(60, 64, 67, 0.3), 0 1px 3px 1px rgba(60, 64, 67, 0.15);\n",
              "    fill: var(--button-hover-fill-color);\n",
              "  }\n",
              "\n",
              "  .colab-df-quickchart-complete:disabled,\n",
              "  .colab-df-quickchart-complete:disabled:hover {\n",
              "    background-color: var(--disabled-bg-color);\n",
              "    fill: var(--disabled-fill-color);\n",
              "    box-shadow: none;\n",
              "  }\n",
              "\n",
              "  .colab-df-spinner {\n",
              "    border: 2px solid var(--fill-color);\n",
              "    border-color: transparent;\n",
              "    border-bottom-color: var(--fill-color);\n",
              "    animation:\n",
              "      spin 1s steps(1) infinite;\n",
              "  }\n",
              "\n",
              "  @keyframes spin {\n",
              "    0% {\n",
              "      border-color: transparent;\n",
              "      border-bottom-color: var(--fill-color);\n",
              "      border-left-color: var(--fill-color);\n",
              "    }\n",
              "    20% {\n",
              "      border-color: transparent;\n",
              "      border-left-color: var(--fill-color);\n",
              "      border-top-color: var(--fill-color);\n",
              "    }\n",
              "    30% {\n",
              "      border-color: transparent;\n",
              "      border-left-color: var(--fill-color);\n",
              "      border-top-color: var(--fill-color);\n",
              "      border-right-color: var(--fill-color);\n",
              "    }\n",
              "    40% {\n",
              "      border-color: transparent;\n",
              "      border-right-color: var(--fill-color);\n",
              "      border-top-color: var(--fill-color);\n",
              "    }\n",
              "    60% {\n",
              "      border-color: transparent;\n",
              "      border-right-color: var(--fill-color);\n",
              "    }\n",
              "    80% {\n",
              "      border-color: transparent;\n",
              "      border-right-color: var(--fill-color);\n",
              "      border-bottom-color: var(--fill-color);\n",
              "    }\n",
              "    90% {\n",
              "      border-color: transparent;\n",
              "      border-bottom-color: var(--fill-color);\n",
              "    }\n",
              "  }\n",
              "</style>\n",
              "\n",
              "      <script>\n",
              "        async function quickchart(key) {\n",
              "          const quickchartButtonEl =\n",
              "            document.querySelector('#' + key + ' button');\n",
              "          quickchartButtonEl.disabled = true;  // To prevent multiple clicks.\n",
              "          quickchartButtonEl.classList.add('colab-df-spinner');\n",
              "          try {\n",
              "            const charts = await google.colab.kernel.invokeFunction(\n",
              "                'suggestCharts', [key], {});\n",
              "          } catch (error) {\n",
              "            console.error('Error during call to suggestCharts:', error);\n",
              "          }\n",
              "          quickchartButtonEl.classList.remove('colab-df-spinner');\n",
              "          quickchartButtonEl.classList.add('colab-df-quickchart-complete');\n",
              "        }\n",
              "        (() => {\n",
              "          let quickchartButtonEl =\n",
              "            document.querySelector('#df-ac9798af-ab7d-4149-9afd-6e7df901b6c1 button');\n",
              "          quickchartButtonEl.style.display =\n",
              "            google.colab.kernel.accessAllowed ? 'block' : 'none';\n",
              "        })();\n",
              "      </script>\n",
              "    </div>\n",
              "\n",
              "    </div>\n",
              "  </div>\n"
            ],
            "application/vnd.google.colaboratory.intrinsic+json": {
              "type": "dataframe",
              "variable_name": "X_train",
              "summary": "{\n  \"name\": \"X_train\",\n  \"rows\": 2320,\n  \"fields\": [\n    {\n      \"column\": \"tempo_sozinho\",\n      \"properties\": {\n        \"dtype\": \"number\",\n        \"std\": 3.441366644098983,\n        \"min\": 0.0,\n        \"max\": 11.0,\n        \"num_unique_values\": 12,\n        \"samples\": [\n          7.0,\n          11.0,\n          3.0\n        ],\n        \"semantic_type\": \"\",\n        \"description\": \"\"\n      }\n    },\n    {\n      \"column\": \"medo_em_publico\",\n      \"properties\": {\n        \"dtype\": \"number\",\n        \"std\": 0,\n        \"min\": 0,\n        \"max\": 1,\n        \"num_unique_values\": 2,\n        \"samples\": [\n          1,\n          0\n        ],\n        \"semantic_type\": \"\",\n        \"description\": \"\"\n      }\n    },\n    {\n      \"column\": \"presenca_eventos_sociais\",\n      \"properties\": {\n        \"dtype\": \"number\",\n        \"std\": 2.8770382079199504,\n        \"min\": 0.0,\n        \"max\": 10.0,\n        \"num_unique_values\": 11,\n        \"samples\": [\n          8.0,\n          5.0\n        ],\n        \"semantic_type\": \"\",\n        \"description\": \"\"\n      }\n    },\n    {\n      \"column\": \"eventos_externos\",\n      \"properties\": {\n        \"dtype\": \"number\",\n        \"std\": 2.221261960871531,\n        \"min\": 0.0,\n        \"max\": 7.0,\n        \"num_unique_values\": 8,\n        \"samples\": [\n          3.0,\n          4.0\n        ],\n        \"semantic_type\": \"\",\n        \"description\": \"\"\n      }\n    },\n    {\n      \"column\": \"esgotado_apos_socializar\",\n      \"properties\": {\n        \"dtype\": \"number\",\n        \"std\": 0,\n        \"min\": 0,\n        \"max\": 1,\n        \"num_unique_values\": 2,\n        \"samples\": [\n          1,\n          0\n        ],\n        \"semantic_type\": \"\",\n        \"description\": \"\"\n      }\n    },\n    {\n      \"column\": \"circulo_de_amigos\",\n      \"properties\": {\n        \"dtype\": \"number\",\n        \"std\": 4.227496320712018,\n        \"min\": 0.0,\n        \"max\": 15.0,\n        \"num_unique_values\": 16,\n        \"samples\": [\n          10.0,\n          1.0\n        ],\n        \"semantic_type\": \"\",\n        \"description\": \"\"\n      }\n    },\n    {\n      \"column\": \"frequencia_de_postagens\",\n      \"properties\": {\n        \"dtype\": \"number\",\n        \"std\": 2.8995025349124366,\n        \"min\": 0.0,\n        \"max\": 10.0,\n        \"num_unique_values\": 11,\n        \"samples\": [\n          3.0,\n          9.0\n        ],\n        \"semantic_type\": \"\",\n        \"description\": \"\"\n      }\n    }\n  ]\n}"
            }
          },
          "metadata": {},
          "execution_count": 41
        }
      ]
    },
    {
      "cell_type": "markdown",
      "source": [
        "## Codificação da variável target (personalidade)"
      ],
      "metadata": {
        "id": "VN4wsvgEiqEA"
      }
    },
    {
      "cell_type": "markdown",
      "source": [
        "\n",
        "\n",
        "Para a variável target **personalidade**, que possui as categorias 'Introverted' e 'Extroverted', também aplicarei uma codificação binária.\n",
        "\n",
        "Seguindo a convenção:\n",
        "\n",
        "**Introverted** será transformado para **1**.\n",
        "\n",
        "**Extroverted** será transformado para **0**.\n",
        "\n",
        "Essa padronização numérica é fundamental para que o modelo possa aprender a prever corretamente a personalidade, facilitando sua interpretação e o treinamento.\n",
        "\n",
        "\n",
        "\n",
        "---\n",
        "\n"
      ],
      "metadata": {
        "id": "s9cXCBI643Ix"
      }
    },
    {
      "cell_type": "code",
      "source": [
        "\n",
        "le = LabelEncoder()\n",
        "# Fit no y_train e transforma y_train\n",
        "y_train = le.fit_transform(y_train)\n",
        "# Apenas transforma y_test usando o LabelEncoder já treinado\n",
        "y_test = le.transform(y_test)\n",
        "print(\"\\nClasses codificadas da variável 'personalidade':\", le.classes_)\n",
        "print(\"Primeiros 5 valores de y_train após codificação:\", y_train[:5])\n",
        "print(\"Primeiros 5 valores de y_test após codificação:\", y_test[:5])"
      ],
      "metadata": {
        "id": "sAg6B4T3i64b",
        "colab": {
          "base_uri": "https://localhost:8080/"
        },
        "outputId": "3919f249-fd94-4783-8ad5-b6b486c86830"
      },
      "execution_count": 42,
      "outputs": [
        {
          "output_type": "stream",
          "name": "stdout",
          "text": [
            "\n",
            "Classes codificadas da variável 'personalidade': ['Extrovert' 'Introvert']\n",
            "Primeiros 5 valores de y_train após codificação: [0 1 1 1 1]\n",
            "Primeiros 5 valores de y_test após codificação: [1 0 1 1 1]\n"
          ]
        }
      ]
    },
    {
      "cell_type": "markdown",
      "source": [
        "## Escalonamento de variáveis numéricas\n",
        "A próxima etapa no pré-processamento é o escalonamento das variáveis numéricas: '**tempo_sozinho**', '**presenca_eventos_sociais**', '**eventos_externos**', '**circulo_de_amigos**' e '**frequencia_de_postagens**'.\n",
        "\n",
        "As variáveis possuem diferentes escalas de valores (por exemplo, '**tempo_sozinho**' vai até 11, enquanto '**circulo_de_amigos**' vai até 15). Essa diferença pode causar problemas para alguns algoritmos de aprendizado de máquina, que são sensíveis à magnitude dos dados.\n",
        "\n",
        "O escalonamento garante que:\n",
        "\n",
        "Todas as variáveis tenham a mesma \"importância\" para o modelo, evitando que aquelas com valores maiores dominem o processo de aprendizado.\n",
        "\n",
        "Ao padronizar as escalas, preparo os dados para que o modelo possa aprender de maneira mais eficaz e justa, sem ser enganado pelas diferenças de magnitude.\n",
        "\n",
        "\n",
        "\n",
        "---\n",
        "\n"
      ],
      "metadata": {
        "id": "brlSlf0ijDME"
      }
    },
    {
      "cell_type": "code",
      "source": [
        "\n",
        "scaler = StandardScaler()\n",
        "\n",
        "# Aplica StandardScaler nas colunas numéricas de treino\n",
        "X_train[numeric_columns] = scaler.fit_transform(X_train[numeric_columns])\n",
        "\n",
        "# Aplica StandardScaler nas colunas numéricas de teste (usando o scaler treinado no treino)\n",
        "X_test[numeric_columns] = scaler.transform(X_test[numeric_columns])\n",
        "\n",
        "print(\"\\nPrimeiras 5 linhas das colunas numéricas de X_train após escalonamento:\")\n",
        "print(X_train[numeric_columns].head())\n",
        "print(\"\\nPrimeiras 5 linhas das colunas numéricas de X_test após escalonamento:\")\n",
        "print(X_test[numeric_columns].head())"
      ],
      "metadata": {
        "id": "WH4IKqXhjLRn",
        "colab": {
          "base_uri": "https://localhost:8080/"
        },
        "outputId": "f1f25757-82a7-4065-aa2a-0247a0fdea42"
      },
      "execution_count": 43,
      "outputs": [
        {
          "output_type": "stream",
          "name": "stdout",
          "text": [
            "\n",
            "Primeiras 5 linhas das colunas numéricas de X_train após escalonamento:\n",
            "      tempo_sozinho  presenca_eventos_sociais  eventos_externos  \\\n",
            "2078      -0.434339                  0.370282          1.348934   \n",
            "163        0.437596                 -0.325027         -0.001941   \n",
            "1938       1.600175                 -0.672682         -0.452233   \n",
            "252        1.309531                 -1.020336         -0.452233   \n",
            "2232       1.600175                 -1.367991         -1.352816   \n",
            "\n",
            "      circulo_de_amigos  frequencia_de_postagens  \n",
            "2078           0.895706                 1.879889  \n",
            "163           -1.233673                -1.224761  \n",
            "1938          -1.233673                -1.224761  \n",
            "252           -0.760478                -0.879799  \n",
            "2232          -0.523880                -0.879799  \n",
            "\n",
            "Primeiras 5 linhas das colunas numéricas de X_test após escalonamento:\n",
            "      tempo_sozinho  presenca_eventos_sociais  eventos_externos  \\\n",
            "141        1.600175                 -0.325027         -0.001941   \n",
            "1557      -0.143694                 -0.325027          0.898642   \n",
            "485        0.146951                 -1.367991         -1.352816   \n",
            "1712       1.600175                 -0.672682         -0.452233   \n",
            "2250       0.728241                 -1.367991         -1.352816   \n",
            "\n",
            "      circulo_de_amigos  frequencia_de_postagens  \n",
            "141           -0.287283                -0.189877  \n",
            "1557           1.842096                 0.500045  \n",
            "485           -1.470271                -0.534838  \n",
            "1712          -0.997075                -0.879799  \n",
            "2250          -0.997075                -0.879799  \n"
          ]
        }
      ]
    },
    {
      "cell_type": "markdown",
      "source": [
        "\n",
        "\n",
        "---\n",
        "\n"
      ],
      "metadata": {
        "id": "ZJeAkJVrf9hP"
      }
    },
    {
      "cell_type": "code",
      "source": [
        "X_train.info()"
      ],
      "metadata": {
        "id": "daMH5MCcNZwT",
        "colab": {
          "base_uri": "https://localhost:8080/"
        },
        "outputId": "489068a7-3ac5-4b24-b70b-35c554ae3351"
      },
      "execution_count": 44,
      "outputs": [
        {
          "output_type": "stream",
          "name": "stdout",
          "text": [
            "<class 'pandas.core.frame.DataFrame'>\n",
            "Index: 2320 entries, 2078 to 860\n",
            "Data columns (total 7 columns):\n",
            " #   Column                    Non-Null Count  Dtype  \n",
            "---  ------                    --------------  -----  \n",
            " 0   tempo_sozinho             2320 non-null   float64\n",
            " 1   medo_em_publico           2320 non-null   int64  \n",
            " 2   presenca_eventos_sociais  2320 non-null   float64\n",
            " 3   eventos_externos          2320 non-null   float64\n",
            " 4   esgotado_apos_socializar  2320 non-null   int64  \n",
            " 5   circulo_de_amigos         2320 non-null   float64\n",
            " 6   frequencia_de_postagens   2320 non-null   float64\n",
            "dtypes: float64(5), int64(2)\n",
            "memory usage: 145.0 KB\n"
          ]
        }
      ]
    },
    {
      "cell_type": "code",
      "source": [
        "X_train.head()"
      ],
      "metadata": {
        "id": "kn9LZqTTMeuQ"
      },
      "execution_count": null,
      "outputs": []
    },
    {
      "cell_type": "code",
      "source": [
        "print(f\"Dimensões de X_train: {X_train.shape}\")\n",
        "print(f\"Dimensões de X_test: {X_test.shape}\")\n",
        "print(f\"Dimensões de y_train: {y_train.shape}\")\n",
        "print(f\"Dimensões de y_test: {y_test.shape}\")"
      ],
      "metadata": {
        "id": "ZGHhvzVvNncH",
        "colab": {
          "base_uri": "https://localhost:8080/"
        },
        "outputId": "d027c254-2076-42eb-acaa-afcb14a74f11"
      },
      "execution_count": 45,
      "outputs": [
        {
          "output_type": "stream",
          "name": "stdout",
          "text": [
            "Dimensões de X_train: (2320, 7)\n",
            "Dimensões de X_test: (580, 7)\n",
            "Dimensões de y_train: (2320,)\n",
            "Dimensões de y_test: (580,)\n"
          ]
        }
      ]
    },
    {
      "cell_type": "markdown",
      "source": [
        "As fortes correlações posisitvas de alguns atributos guiam para a aplicação de PCA. Mas, como entendo que a base já tem poucos atributos, não aplicarei."
      ],
      "metadata": {
        "id": "OtbwAXKORl9O"
      }
    },
    {
      "cell_type": "markdown",
      "source": [
        "## Testando os dados pré-processados em um modelo LogisticRegression\n",
        "\n",
        "Agora que os dados estão pré-processados, farei um teste inicial com um modelo de Regressão Logística. Este não é o treinamento final do modelo, mas sim uma etapa rápida para avaliar superficialmente a qualidade da  base de dados após todas as transformações.\n",
        "\n",
        "\n",
        "Optei pela Regressão Logística para este teste rápido porque ela é um algoritmo eficiente para classificações binárias, ideal para uma verificação preliminar, e permite entender rapidamente se as variáveis pré-processadas já mostram alguma relação com a variável target.\n",
        "\n",
        "Este passo  ajudará a ter uma primeira impressão de como o conjunto de dados pré-processado se comporta em um modelo básico, confirmando se as etapas de tratamento e transformação foram eficazes para preparar os dados.\n",
        "\n",
        "\n",
        "\n",
        "---\n",
        "\n"
      ],
      "metadata": {
        "id": "NVwPKFQjUyKF"
      }
    },
    {
      "cell_type": "code",
      "source": [
        "# Inicializando e treinando o modelo de Regressão Logística\n",
        "model = LogisticRegression(random_state=42)\n",
        "model.fit(X_train, y_train)"
      ],
      "metadata": {
        "id": "r5iw2eikWPDO",
        "colab": {
          "base_uri": "https://localhost:8080/",
          "height": 80
        },
        "outputId": "4e85176b-aee0-498e-d134-341bbe6d3e30"
      },
      "execution_count": 46,
      "outputs": [
        {
          "output_type": "execute_result",
          "data": {
            "text/plain": [
              "LogisticRegression(random_state=42)"
            ],
            "text/html": [
              "<style>#sk-container-id-1 {\n",
              "  /* Definition of color scheme common for light and dark mode */\n",
              "  --sklearn-color-text: #000;\n",
              "  --sklearn-color-text-muted: #666;\n",
              "  --sklearn-color-line: gray;\n",
              "  /* Definition of color scheme for unfitted estimators */\n",
              "  --sklearn-color-unfitted-level-0: #fff5e6;\n",
              "  --sklearn-color-unfitted-level-1: #f6e4d2;\n",
              "  --sklearn-color-unfitted-level-2: #ffe0b3;\n",
              "  --sklearn-color-unfitted-level-3: chocolate;\n",
              "  /* Definition of color scheme for fitted estimators */\n",
              "  --sklearn-color-fitted-level-0: #f0f8ff;\n",
              "  --sklearn-color-fitted-level-1: #d4ebff;\n",
              "  --sklearn-color-fitted-level-2: #b3dbfd;\n",
              "  --sklearn-color-fitted-level-3: cornflowerblue;\n",
              "\n",
              "  /* Specific color for light theme */\n",
              "  --sklearn-color-text-on-default-background: var(--sg-text-color, var(--theme-code-foreground, var(--jp-content-font-color1, black)));\n",
              "  --sklearn-color-background: var(--sg-background-color, var(--theme-background, var(--jp-layout-color0, white)));\n",
              "  --sklearn-color-border-box: var(--sg-text-color, var(--theme-code-foreground, var(--jp-content-font-color1, black)));\n",
              "  --sklearn-color-icon: #696969;\n",
              "\n",
              "  @media (prefers-color-scheme: dark) {\n",
              "    /* Redefinition of color scheme for dark theme */\n",
              "    --sklearn-color-text-on-default-background: var(--sg-text-color, var(--theme-code-foreground, var(--jp-content-font-color1, white)));\n",
              "    --sklearn-color-background: var(--sg-background-color, var(--theme-background, var(--jp-layout-color0, #111)));\n",
              "    --sklearn-color-border-box: var(--sg-text-color, var(--theme-code-foreground, var(--jp-content-font-color1, white)));\n",
              "    --sklearn-color-icon: #878787;\n",
              "  }\n",
              "}\n",
              "\n",
              "#sk-container-id-1 {\n",
              "  color: var(--sklearn-color-text);\n",
              "}\n",
              "\n",
              "#sk-container-id-1 pre {\n",
              "  padding: 0;\n",
              "}\n",
              "\n",
              "#sk-container-id-1 input.sk-hidden--visually {\n",
              "  border: 0;\n",
              "  clip: rect(1px 1px 1px 1px);\n",
              "  clip: rect(1px, 1px, 1px, 1px);\n",
              "  height: 1px;\n",
              "  margin: -1px;\n",
              "  overflow: hidden;\n",
              "  padding: 0;\n",
              "  position: absolute;\n",
              "  width: 1px;\n",
              "}\n",
              "\n",
              "#sk-container-id-1 div.sk-dashed-wrapped {\n",
              "  border: 1px dashed var(--sklearn-color-line);\n",
              "  margin: 0 0.4em 0.5em 0.4em;\n",
              "  box-sizing: border-box;\n",
              "  padding-bottom: 0.4em;\n",
              "  background-color: var(--sklearn-color-background);\n",
              "}\n",
              "\n",
              "#sk-container-id-1 div.sk-container {\n",
              "  /* jupyter's `normalize.less` sets `[hidden] { display: none; }`\n",
              "     but bootstrap.min.css set `[hidden] { display: none !important; }`\n",
              "     so we also need the `!important` here to be able to override the\n",
              "     default hidden behavior on the sphinx rendered scikit-learn.org.\n",
              "     See: https://github.com/scikit-learn/scikit-learn/issues/21755 */\n",
              "  display: inline-block !important;\n",
              "  position: relative;\n",
              "}\n",
              "\n",
              "#sk-container-id-1 div.sk-text-repr-fallback {\n",
              "  display: none;\n",
              "}\n",
              "\n",
              "div.sk-parallel-item,\n",
              "div.sk-serial,\n",
              "div.sk-item {\n",
              "  /* draw centered vertical line to link estimators */\n",
              "  background-image: linear-gradient(var(--sklearn-color-text-on-default-background), var(--sklearn-color-text-on-default-background));\n",
              "  background-size: 2px 100%;\n",
              "  background-repeat: no-repeat;\n",
              "  background-position: center center;\n",
              "}\n",
              "\n",
              "/* Parallel-specific style estimator block */\n",
              "\n",
              "#sk-container-id-1 div.sk-parallel-item::after {\n",
              "  content: \"\";\n",
              "  width: 100%;\n",
              "  border-bottom: 2px solid var(--sklearn-color-text-on-default-background);\n",
              "  flex-grow: 1;\n",
              "}\n",
              "\n",
              "#sk-container-id-1 div.sk-parallel {\n",
              "  display: flex;\n",
              "  align-items: stretch;\n",
              "  justify-content: center;\n",
              "  background-color: var(--sklearn-color-background);\n",
              "  position: relative;\n",
              "}\n",
              "\n",
              "#sk-container-id-1 div.sk-parallel-item {\n",
              "  display: flex;\n",
              "  flex-direction: column;\n",
              "}\n",
              "\n",
              "#sk-container-id-1 div.sk-parallel-item:first-child::after {\n",
              "  align-self: flex-end;\n",
              "  width: 50%;\n",
              "}\n",
              "\n",
              "#sk-container-id-1 div.sk-parallel-item:last-child::after {\n",
              "  align-self: flex-start;\n",
              "  width: 50%;\n",
              "}\n",
              "\n",
              "#sk-container-id-1 div.sk-parallel-item:only-child::after {\n",
              "  width: 0;\n",
              "}\n",
              "\n",
              "/* Serial-specific style estimator block */\n",
              "\n",
              "#sk-container-id-1 div.sk-serial {\n",
              "  display: flex;\n",
              "  flex-direction: column;\n",
              "  align-items: center;\n",
              "  background-color: var(--sklearn-color-background);\n",
              "  padding-right: 1em;\n",
              "  padding-left: 1em;\n",
              "}\n",
              "\n",
              "\n",
              "/* Toggleable style: style used for estimator/Pipeline/ColumnTransformer box that is\n",
              "clickable and can be expanded/collapsed.\n",
              "- Pipeline and ColumnTransformer use this feature and define the default style\n",
              "- Estimators will overwrite some part of the style using the `sk-estimator` class\n",
              "*/\n",
              "\n",
              "/* Pipeline and ColumnTransformer style (default) */\n",
              "\n",
              "#sk-container-id-1 div.sk-toggleable {\n",
              "  /* Default theme specific background. It is overwritten whether we have a\n",
              "  specific estimator or a Pipeline/ColumnTransformer */\n",
              "  background-color: var(--sklearn-color-background);\n",
              "}\n",
              "\n",
              "/* Toggleable label */\n",
              "#sk-container-id-1 label.sk-toggleable__label {\n",
              "  cursor: pointer;\n",
              "  display: flex;\n",
              "  width: 100%;\n",
              "  margin-bottom: 0;\n",
              "  padding: 0.5em;\n",
              "  box-sizing: border-box;\n",
              "  text-align: center;\n",
              "  align-items: start;\n",
              "  justify-content: space-between;\n",
              "  gap: 0.5em;\n",
              "}\n",
              "\n",
              "#sk-container-id-1 label.sk-toggleable__label .caption {\n",
              "  font-size: 0.6rem;\n",
              "  font-weight: lighter;\n",
              "  color: var(--sklearn-color-text-muted);\n",
              "}\n",
              "\n",
              "#sk-container-id-1 label.sk-toggleable__label-arrow:before {\n",
              "  /* Arrow on the left of the label */\n",
              "  content: \"▸\";\n",
              "  float: left;\n",
              "  margin-right: 0.25em;\n",
              "  color: var(--sklearn-color-icon);\n",
              "}\n",
              "\n",
              "#sk-container-id-1 label.sk-toggleable__label-arrow:hover:before {\n",
              "  color: var(--sklearn-color-text);\n",
              "}\n",
              "\n",
              "/* Toggleable content - dropdown */\n",
              "\n",
              "#sk-container-id-1 div.sk-toggleable__content {\n",
              "  max-height: 0;\n",
              "  max-width: 0;\n",
              "  overflow: hidden;\n",
              "  text-align: left;\n",
              "  /* unfitted */\n",
              "  background-color: var(--sklearn-color-unfitted-level-0);\n",
              "}\n",
              "\n",
              "#sk-container-id-1 div.sk-toggleable__content.fitted {\n",
              "  /* fitted */\n",
              "  background-color: var(--sklearn-color-fitted-level-0);\n",
              "}\n",
              "\n",
              "#sk-container-id-1 div.sk-toggleable__content pre {\n",
              "  margin: 0.2em;\n",
              "  border-radius: 0.25em;\n",
              "  color: var(--sklearn-color-text);\n",
              "  /* unfitted */\n",
              "  background-color: var(--sklearn-color-unfitted-level-0);\n",
              "}\n",
              "\n",
              "#sk-container-id-1 div.sk-toggleable__content.fitted pre {\n",
              "  /* unfitted */\n",
              "  background-color: var(--sklearn-color-fitted-level-0);\n",
              "}\n",
              "\n",
              "#sk-container-id-1 input.sk-toggleable__control:checked~div.sk-toggleable__content {\n",
              "  /* Expand drop-down */\n",
              "  max-height: 200px;\n",
              "  max-width: 100%;\n",
              "  overflow: auto;\n",
              "}\n",
              "\n",
              "#sk-container-id-1 input.sk-toggleable__control:checked~label.sk-toggleable__label-arrow:before {\n",
              "  content: \"▾\";\n",
              "}\n",
              "\n",
              "/* Pipeline/ColumnTransformer-specific style */\n",
              "\n",
              "#sk-container-id-1 div.sk-label input.sk-toggleable__control:checked~label.sk-toggleable__label {\n",
              "  color: var(--sklearn-color-text);\n",
              "  background-color: var(--sklearn-color-unfitted-level-2);\n",
              "}\n",
              "\n",
              "#sk-container-id-1 div.sk-label.fitted input.sk-toggleable__control:checked~label.sk-toggleable__label {\n",
              "  background-color: var(--sklearn-color-fitted-level-2);\n",
              "}\n",
              "\n",
              "/* Estimator-specific style */\n",
              "\n",
              "/* Colorize estimator box */\n",
              "#sk-container-id-1 div.sk-estimator input.sk-toggleable__control:checked~label.sk-toggleable__label {\n",
              "  /* unfitted */\n",
              "  background-color: var(--sklearn-color-unfitted-level-2);\n",
              "}\n",
              "\n",
              "#sk-container-id-1 div.sk-estimator.fitted input.sk-toggleable__control:checked~label.sk-toggleable__label {\n",
              "  /* fitted */\n",
              "  background-color: var(--sklearn-color-fitted-level-2);\n",
              "}\n",
              "\n",
              "#sk-container-id-1 div.sk-label label.sk-toggleable__label,\n",
              "#sk-container-id-1 div.sk-label label {\n",
              "  /* The background is the default theme color */\n",
              "  color: var(--sklearn-color-text-on-default-background);\n",
              "}\n",
              "\n",
              "/* On hover, darken the color of the background */\n",
              "#sk-container-id-1 div.sk-label:hover label.sk-toggleable__label {\n",
              "  color: var(--sklearn-color-text);\n",
              "  background-color: var(--sklearn-color-unfitted-level-2);\n",
              "}\n",
              "\n",
              "/* Label box, darken color on hover, fitted */\n",
              "#sk-container-id-1 div.sk-label.fitted:hover label.sk-toggleable__label.fitted {\n",
              "  color: var(--sklearn-color-text);\n",
              "  background-color: var(--sklearn-color-fitted-level-2);\n",
              "}\n",
              "\n",
              "/* Estimator label */\n",
              "\n",
              "#sk-container-id-1 div.sk-label label {\n",
              "  font-family: monospace;\n",
              "  font-weight: bold;\n",
              "  display: inline-block;\n",
              "  line-height: 1.2em;\n",
              "}\n",
              "\n",
              "#sk-container-id-1 div.sk-label-container {\n",
              "  text-align: center;\n",
              "}\n",
              "\n",
              "/* Estimator-specific */\n",
              "#sk-container-id-1 div.sk-estimator {\n",
              "  font-family: monospace;\n",
              "  border: 1px dotted var(--sklearn-color-border-box);\n",
              "  border-radius: 0.25em;\n",
              "  box-sizing: border-box;\n",
              "  margin-bottom: 0.5em;\n",
              "  /* unfitted */\n",
              "  background-color: var(--sklearn-color-unfitted-level-0);\n",
              "}\n",
              "\n",
              "#sk-container-id-1 div.sk-estimator.fitted {\n",
              "  /* fitted */\n",
              "  background-color: var(--sklearn-color-fitted-level-0);\n",
              "}\n",
              "\n",
              "/* on hover */\n",
              "#sk-container-id-1 div.sk-estimator:hover {\n",
              "  /* unfitted */\n",
              "  background-color: var(--sklearn-color-unfitted-level-2);\n",
              "}\n",
              "\n",
              "#sk-container-id-1 div.sk-estimator.fitted:hover {\n",
              "  /* fitted */\n",
              "  background-color: var(--sklearn-color-fitted-level-2);\n",
              "}\n",
              "\n",
              "/* Specification for estimator info (e.g. \"i\" and \"?\") */\n",
              "\n",
              "/* Common style for \"i\" and \"?\" */\n",
              "\n",
              ".sk-estimator-doc-link,\n",
              "a:link.sk-estimator-doc-link,\n",
              "a:visited.sk-estimator-doc-link {\n",
              "  float: right;\n",
              "  font-size: smaller;\n",
              "  line-height: 1em;\n",
              "  font-family: monospace;\n",
              "  background-color: var(--sklearn-color-background);\n",
              "  border-radius: 1em;\n",
              "  height: 1em;\n",
              "  width: 1em;\n",
              "  text-decoration: none !important;\n",
              "  margin-left: 0.5em;\n",
              "  text-align: center;\n",
              "  /* unfitted */\n",
              "  border: var(--sklearn-color-unfitted-level-1) 1pt solid;\n",
              "  color: var(--sklearn-color-unfitted-level-1);\n",
              "}\n",
              "\n",
              ".sk-estimator-doc-link.fitted,\n",
              "a:link.sk-estimator-doc-link.fitted,\n",
              "a:visited.sk-estimator-doc-link.fitted {\n",
              "  /* fitted */\n",
              "  border: var(--sklearn-color-fitted-level-1) 1pt solid;\n",
              "  color: var(--sklearn-color-fitted-level-1);\n",
              "}\n",
              "\n",
              "/* On hover */\n",
              "div.sk-estimator:hover .sk-estimator-doc-link:hover,\n",
              ".sk-estimator-doc-link:hover,\n",
              "div.sk-label-container:hover .sk-estimator-doc-link:hover,\n",
              ".sk-estimator-doc-link:hover {\n",
              "  /* unfitted */\n",
              "  background-color: var(--sklearn-color-unfitted-level-3);\n",
              "  color: var(--sklearn-color-background);\n",
              "  text-decoration: none;\n",
              "}\n",
              "\n",
              "div.sk-estimator.fitted:hover .sk-estimator-doc-link.fitted:hover,\n",
              ".sk-estimator-doc-link.fitted:hover,\n",
              "div.sk-label-container:hover .sk-estimator-doc-link.fitted:hover,\n",
              ".sk-estimator-doc-link.fitted:hover {\n",
              "  /* fitted */\n",
              "  background-color: var(--sklearn-color-fitted-level-3);\n",
              "  color: var(--sklearn-color-background);\n",
              "  text-decoration: none;\n",
              "}\n",
              "\n",
              "/* Span, style for the box shown on hovering the info icon */\n",
              ".sk-estimator-doc-link span {\n",
              "  display: none;\n",
              "  z-index: 9999;\n",
              "  position: relative;\n",
              "  font-weight: normal;\n",
              "  right: .2ex;\n",
              "  padding: .5ex;\n",
              "  margin: .5ex;\n",
              "  width: min-content;\n",
              "  min-width: 20ex;\n",
              "  max-width: 50ex;\n",
              "  color: var(--sklearn-color-text);\n",
              "  box-shadow: 2pt 2pt 4pt #999;\n",
              "  /* unfitted */\n",
              "  background: var(--sklearn-color-unfitted-level-0);\n",
              "  border: .5pt solid var(--sklearn-color-unfitted-level-3);\n",
              "}\n",
              "\n",
              ".sk-estimator-doc-link.fitted span {\n",
              "  /* fitted */\n",
              "  background: var(--sklearn-color-fitted-level-0);\n",
              "  border: var(--sklearn-color-fitted-level-3);\n",
              "}\n",
              "\n",
              ".sk-estimator-doc-link:hover span {\n",
              "  display: block;\n",
              "}\n",
              "\n",
              "/* \"?\"-specific style due to the `<a>` HTML tag */\n",
              "\n",
              "#sk-container-id-1 a.estimator_doc_link {\n",
              "  float: right;\n",
              "  font-size: 1rem;\n",
              "  line-height: 1em;\n",
              "  font-family: monospace;\n",
              "  background-color: var(--sklearn-color-background);\n",
              "  border-radius: 1rem;\n",
              "  height: 1rem;\n",
              "  width: 1rem;\n",
              "  text-decoration: none;\n",
              "  /* unfitted */\n",
              "  color: var(--sklearn-color-unfitted-level-1);\n",
              "  border: var(--sklearn-color-unfitted-level-1) 1pt solid;\n",
              "}\n",
              "\n",
              "#sk-container-id-1 a.estimator_doc_link.fitted {\n",
              "  /* fitted */\n",
              "  border: var(--sklearn-color-fitted-level-1) 1pt solid;\n",
              "  color: var(--sklearn-color-fitted-level-1);\n",
              "}\n",
              "\n",
              "/* On hover */\n",
              "#sk-container-id-1 a.estimator_doc_link:hover {\n",
              "  /* unfitted */\n",
              "  background-color: var(--sklearn-color-unfitted-level-3);\n",
              "  color: var(--sklearn-color-background);\n",
              "  text-decoration: none;\n",
              "}\n",
              "\n",
              "#sk-container-id-1 a.estimator_doc_link.fitted:hover {\n",
              "  /* fitted */\n",
              "  background-color: var(--sklearn-color-fitted-level-3);\n",
              "}\n",
              "</style><div id=\"sk-container-id-1\" class=\"sk-top-container\"><div class=\"sk-text-repr-fallback\"><pre>LogisticRegression(random_state=42)</pre><b>In a Jupyter environment, please rerun this cell to show the HTML representation or trust the notebook. <br />On GitHub, the HTML representation is unable to render, please try loading this page with nbviewer.org.</b></div><div class=\"sk-container\" hidden><div class=\"sk-item\"><div class=\"sk-estimator fitted sk-toggleable\"><input class=\"sk-toggleable__control sk-hidden--visually\" id=\"sk-estimator-id-1\" type=\"checkbox\" checked><label for=\"sk-estimator-id-1\" class=\"sk-toggleable__label fitted sk-toggleable__label-arrow\"><div><div>LogisticRegression</div></div><div><a class=\"sk-estimator-doc-link fitted\" rel=\"noreferrer\" target=\"_blank\" href=\"https://scikit-learn.org/1.6/modules/generated/sklearn.linear_model.LogisticRegression.html\">?<span>Documentation for LogisticRegression</span></a><span class=\"sk-estimator-doc-link fitted\">i<span>Fitted</span></span></div></label><div class=\"sk-toggleable__content fitted\"><pre>LogisticRegression(random_state=42)</pre></div> </div></div></div></div>"
            ]
          },
          "metadata": {},
          "execution_count": 46
        }
      ]
    },
    {
      "cell_type": "code",
      "source": [
        "# Fazendo previsões no conjunto de teste\n",
        "y_pred = model.predict(X_test)"
      ],
      "metadata": {
        "id": "_SF1JcjnWTV1"
      },
      "execution_count": 47,
      "outputs": []
    },
    {
      "cell_type": "code",
      "source": [
        "# Avaliando o desempenho do modelo com a métrica acurácia\n",
        "print(\"Avaliação do Modelo de Regressão Logística:\")\n",
        "print(\"\\nAcurácia:\", accuracy_score(y_test, y_pred))\n"
      ],
      "metadata": {
        "id": "4eX_XolyWWyw",
        "colab": {
          "base_uri": "https://localhost:8080/"
        },
        "outputId": "109ba4e2-45aa-4977-a287-4e77f8b9c906"
      },
      "execution_count": 48,
      "outputs": [
        {
          "output_type": "stream",
          "name": "stdout",
          "text": [
            "Avaliação do Modelo de Regressão Logística:\n",
            "\n",
            "Acurácia: 0.9241379310344827\n"
          ]
        }
      ]
    },
    {
      "cell_type": "markdown",
      "source": [
        "## Avaliação Preliminar do Modelo de Regressão Logística\n",
        "Após o pré-processamento dos dados e um teste inicial com um modelo de Regressão Logística, obtive uma Acurácia de 0.9241.\n",
        "\n",
        "Este resultado indica que, aproximadamente, 92.41% das previsões do modelo estão corretas no conjunto de dados pré-processado. Considerando que segui as boas práticas, aplicando as transformações após o holdout e asssim descartando um possível overfitting,  Uma acurácia inicial tão alta é um forte indicativo de que as etapas de tratamento e transformação dos dados foram bem-sucedidas em preparar o conjunto de dados para a modelagem.\n",
        "\n",
        "Isso  dá confiança para prosseguir para as próximas fases de avaliação e construção de modelos mais robustos."
      ],
      "metadata": {
        "id": "S4DzXhIxqceq"
      }
    },
    {
      "cell_type": "markdown",
      "source": [
        "# Conclusão\n",
        "\n",
        "As hipóteses levantadas no início foram:\n",
        "\n",
        "\n",
        "   **1 -** Das sete características listadas, qual ou quais mais influenciariam na definição do tipo de personalidade?\n",
        "\n",
        "*  Os histogramas(**Gráficos 4 e 5**) e boxplots(**Gráficos 6 e 7**)  indicaram concentrações bem definidas e distintas em atributos como **tempo_sozinho**, **frequencia_de_postagens**. Esses gráficos indicam esses atributos como features discriminitórias.\n",
        "* Os **Gráficos 9 e 10**, demonstram que as variáveis categóricas **medo_em_publico** e **esgotado_apos_socializar**, também são altamente definidoras da variável target personalidade."
      ],
      "metadata": {
        "id": "OY_GDjf1G-PM"
      }
    },
    {
      "cell_type": "markdown",
      "source": [
        "\n",
        "\n",
        "---\n",
        "\n",
        " **2 -**  O receio em se expor em público é determinante nessa classificação?\n",
        "\n",
        "*  O **Gráfico 11**, abaixo, mostra que, realmente, cada classificação tem esse atributo bem definido. A maioria absoluta de cada classe Introvertidos, tem medo de se expor em público. Enquanto que a maioria dos Extrovertidos, não."
      ],
      "metadata": {
        "id": "nQNKh_x2XBhS"
      }
    },
    {
      "cell_type": "code",
      "source": [
        "# 2 -  O receio em se expor em público é determinante nessa classificação?\n",
        "# Gráfico 11\n",
        "plt.figure(figsize=(7, 5))\n",
        "sns.countplot(data=df_personalidade, x='medo_em_publico', hue='personalidade')\n",
        "plt.title('Gráfico 11 - Medo em Público por Personalidade')\n",
        "plt.xlabel('Medo em Público (No/Yes)')\n",
        "plt.ylabel('Contagem')\n",
        "plt.show()"
      ],
      "metadata": {
        "id": "pICWYj0-PLOJ",
        "colab": {
          "base_uri": "https://localhost:8080/",
          "height": 488
        },
        "outputId": "bb04a88f-8ec1-40db-893b-5dfb310e911b"
      },
      "execution_count": 49,
      "outputs": [
        {
          "output_type": "display_data",
          "data": {
            "text/plain": [
              "<Figure size 700x500 with 1 Axes>"
            ],
            "image/png": "[encoded data removed]"
          },
          "metadata": {}
        }
      ]
    },
    {
      "cell_type": "markdown",
      "source": [
        "\n",
        "\n",
        "---\n",
        "\n",
        "\n",
        "\n",
        "**3 -** Uma pessoa mais ativa nas redes sociais, tende mais a ser extrovertida?\n",
        "\n",
        "* Pelo **Gráfico 7**, pode-se inferir que sim. Há uma distinção bem definida nos agrupamentos por frequência de postagens. Nota-se que os classificados como Extrovertidos têm o número de frequência bem acima dos Introvertidos."
      ],
      "metadata": {
        "id": "M8vynKsSh2at"
      }
    },
    {
      "cell_type": "markdown",
      "source": [
        "\n",
        "\n",
        "---\n",
        "\n",
        "\n",
        "\n",
        "**4 -** A intensidade de sua relação social na vida real, fora das redes, ainda pesa bastante na classificação?\n",
        "\n",
        "\n",
        " *  Nessa questão, vou desconsiderar a feature frequencia_de_postagens e tentar entender o peso dos atributos tempo_sozinho, presenca_em_eventos_sociais,  eventos_externos e circulo_de_amigos."
      ],
      "metadata": {
        "id": "Lh1SwobaiG-p"
      }
    },
    {
      "cell_type": "code",
      "source": [
        "# Calculando a correlação das features com a variável target (personalidade)\n",
        "# usando a correlação de Pearson.\n",
        "# Apsesar dessa correlação medir a relação linear, o que pode não capturar todas as complexidades,\n",
        "# nos dá uma boa indicação da importância das features para a classificação binária.\n",
        "\n",
        "# Configuração para não exibir os warnings\n",
        "warnings.filterwarnings(\"ignore\")\n",
        "\n",
        "\n",
        "# Crindo um DataFrame temporário que inclui a variável target codificada\n",
        "df_train_codificada = X_train.copy()\n",
        "df_train_codificada['personalidade'] = y_train\n",
        "\n",
        "# Selecionando as colunas de interesse para análise\n",
        "features_escolhidas = ['tempo_sozinho', 'presenca_eventos_sociais', 'eventos_externos', 'circulo_de_amigos']\n",
        "\n",
        "# Calculando a correlação entre as features de interesse e a target\n",
        "correlacao_com_target = df_train_codificada[features_escolhidas + ['personalidade']].corr()['personalidade'].drop('personalidade')\n",
        "\n",
        "print(\"\\nPeso (Correlação) das features selecionadas na classificação da Personalidade:\")\n",
        "print(correlacao_com_target.sort_values(ascending=False))\n",
        "\n",
        "# Visualizar a correlação\n",
        "plt.figure(figsize=(8, 6))\n",
        "sns.barplot(x=correlacao_com_target.index, y=correlacao_com_target.values, palette='viridis')\n",
        "plt.title('Gráfico 12 - Correlação das Features Selecionadas com a Personalidade')\n",
        "plt.xlabel('Features')\n",
        "plt.ylabel('Coeficiente de Correlação')\n",
        "plt.xticks(rotation=45, ha='right')\n",
        "plt.tight_layout()\n",
        "plt.show()\n",
        "\n"
      ],
      "metadata": {
        "id": "3ckDSiUvVl5-"
      },
      "execution_count": null,
      "outputs": []
    },
    {
      "cell_type": "markdown",
      "source": [
        "Analisando o **Gráfico 12**, podemos ver a seguinte correlação das features com a personalidade (codificada como 1 para Introvertido e 0 para Extrovertido):\n",
        "\n",
        "* **tempo_sozinho** - Coeficiente de Correlação: Aproximadamente 0.7 (positivo).\n",
        "\n",
        "\n",
        "* **presenca_eventos_sociais** - Coeficiente de Correlação: Aproximadamente -0.7 (negativo).\n",
        "\n",
        "Interpretação: Uma correlação negativa forte significa que, quando presenca_eventos_sociais aumenta, a personalidade diminui. Como personalidade diminuir significa ir de 1 (Introvertido) para 0 (Extrovertido), isso p diz que quanto mais eventos sociais uma pessoa participa, mais Extrovertida ela tende a ser.\n",
        "\n",
        "Conclusão: Isso também faz total sentido! Extrovertidos geralmente buscam e se energizam em ambientes sociais.\n",
        "\n",
        "* Feature: **eventos_externos**\n",
        "\n",
        "Coeficiente de Correlação: Aproximadamente **-0.7 (negativo)**.\n",
        "\n",
        "Interpretação: Semelhante à anterior, quanto mais eventos externos uma pessoa participa, mais Extrovertida ela tende a ser.\n",
        "\n",
        "Conclusão: Perfeitamente alinhado com o esperado para extrovertidos.\n",
        "\n",
        "Feature: **círculo_de_amigos**\n",
        "\n",
        "Coeficiente de Correlação: Aproximadamente **-0.7 (negativo)**.\n",
        "\n",
        "Interpretação: Por fim, quanto maior o círculo_de_amigos de uma pessoa, mais Extrovertida ela tende a ser.\n",
        "\n",
        "Conclusão: Isso também se alinha perfeitamente com a ideia de que extrovertidos tendem a ter um círculo social mais amplo.\n",
        "\n",
        "* **Conclusão**\n",
        "\n",
        "tempo_sozinho: Correlaciona positivamente e fortemente com a introversão.\n",
        "\n",
        "presenca_eventos_sociais: Correlaciona negativa e fortemente com a introversão (o que significa uma forte correlação positiva com a extroversão).\n",
        "\n",
        "eventos_externos: Correlaciona negativa e fortemente com a introversão (o que significa uma forte correlação positiva com a extroversão).\n",
        "\n",
        "círculo_de_amigos: Correlaciona negativa e fortemente com a introversão (o que significa uma forte correlação positiva com a extroversão).\n",
        "\n",
        "Essas features são  preditoras para a  variável Personalidade (Introvertido/Extrovertido) e fornecem insights claros sobre os traços associados a cada categoria.\n",
        "\n",
        "Podemos concluir então que sim, a intensidade relação social na vida real, fora das redes, de uma pessoa pesa bastante nessa classificação."
      ],
      "metadata": {
        "id": "GB3M5o1bZXX7"
      }
    },
    {
      "cell_type": "markdown",
      "source": [
        "\n",
        "\n",
        "---\n",
        "\n",
        "\n",
        "\n",
        "---\n",
        "\n"
      ],
      "metadata": {
        "id": "9vx83sySYCf4"
      }
    }
  ]
}